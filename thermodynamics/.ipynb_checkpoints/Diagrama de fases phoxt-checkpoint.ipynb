{
 "cells": [
  {
   "cell_type": "code",
   "execution_count": 2,
   "id": "6671be5a",
   "metadata": {},
   "outputs": [
    {
     "ename": "ModuleNotFoundError",
     "evalue": "No module named 'pandas'",
     "output_type": "error",
     "traceback": [
      "\u001b[0;31m---------------------------------------------------------------------------\u001b[0m",
      "\u001b[0;31mModuleNotFoundError\u001b[0m                       Traceback (most recent call last)",
      "Cell \u001b[0;32mIn [2], line 1\u001b[0m\n\u001b[0;32m----> 1\u001b[0m \u001b[38;5;28;01mimport\u001b[39;00m \u001b[38;5;21;01mpandas\u001b[39;00m \u001b[38;5;28;01mas\u001b[39;00m \u001b[38;5;21;01mpd\u001b[39;00m \n\u001b[1;32m      2\u001b[0m \u001b[38;5;28;01mimport\u001b[39;00m \u001b[38;5;21;01mnumpy\u001b[39;00m \u001b[38;5;28;01mas\u001b[39;00m \u001b[38;5;21;01mnp\u001b[39;00m\n\u001b[1;32m      3\u001b[0m \u001b[38;5;28;01mimport\u001b[39;00m \u001b[38;5;21;01mmatplotlib\u001b[39;00m\u001b[38;5;21;01m.\u001b[39;00m\u001b[38;5;21;01mpyplot\u001b[39;00m \u001b[38;5;28;01mas\u001b[39;00m \u001b[38;5;21;01mplt\u001b[39;00m\n",
      "\u001b[0;31mModuleNotFoundError\u001b[0m: No module named 'pandas'"
     ]
    }
   ],
   "source": [
    "import pandas as pd \n",
    "import numpy as np\n",
    "import matplotlib.pyplot as plt\n",
    "from matplotlib.ticker import FixedLocator, FormatStrFormatter\n",
    "import matplotlib.pyplot as plt\n",
    "\n"
   ]
  },
  {
   "cell_type": "markdown",
   "id": "81e6b720",
   "metadata": {},
   "source": [
    "# Importando csvs p=1.1"
   ]
  },
  {
   "cell_type": "code",
   "execution_count": 2,
   "id": "238f529d",
   "metadata": {},
   "outputs": [],
   "source": [
    "with open('thermodynamicst0.1p1.1.dat', 'r') as file:\n",
    "    lines = [line.strip() for line in file if not line.startswith('#')]\n",
    "\n",
    "# Dividir os dados em colunas\n",
    "data = [line.split() for line in lines]\n",
    "\n",
    "# Criar um DataFrame\n",
    "t01p11 = pd.DataFrame(data, columns=['TimeStep', 'c_t', 'c_pp', 'c_en', 'v_volume', 'v_densidade'])\n",
    "\n",
    "# Converter as colunas relevantes para numérico, se necessário\n",
    "t01p11[['TimeStep', 'c_t', 'c_pp', 'c_en', 'v_volume', 'v_densidade']] = t01p11[['TimeStep', 'c_t', 'c_pp', 'c_en', 'v_volume', 'v_densidade']].apply(pd.to_numeric)\n",
    "\n"
   ]
  },
  {
   "cell_type": "code",
   "execution_count": 3,
   "id": "c246f9f0",
   "metadata": {},
   "outputs": [],
   "source": [
    "with open('thermodynamicst0.15p1.1.dat', 'r') as file:\n",
    "    lines = [line.strip() for line in file if not line.startswith('#')]\n",
    "\n",
    "# Dividir os dados em colunas\n",
    "data = [line.split() for line in lines]\n",
    "\n",
    "# Criar um DataFrame\n",
    "t015p11 = pd.DataFrame(data, columns=['TimeStep', 'c_t', 'c_pp', 'c_en', 'v_volume', 'v_densidade'])\n",
    "\n",
    "# Converter as colunas relevantes para numérico, se necessário\n",
    "t015p11[['TimeStep', 'c_t', 'c_pp', 'c_en', 'v_volume', 'v_densidade']] = t015p11[['TimeStep', 'c_t', 'c_pp', 'c_en', 'v_volume', 'v_densidade']].apply(pd.to_numeric)\n"
   ]
  },
  {
   "cell_type": "code",
   "execution_count": 4,
   "id": "1ab2d849",
   "metadata": {},
   "outputs": [],
   "source": [
    "with open('thermodynamicst0.2p1.1.dat', 'r') as file:\n",
    "    lines = [line.strip() for line in file if not line.startswith('#')]\n",
    "\n",
    "# Dividir os dados em colunas\n",
    "data = [line.split() for line in lines]\n",
    "\n",
    "# Criar um DataFrame\n",
    "t02p11 = pd.DataFrame(data, columns=['TimeStep', 'c_t', 'c_pp', 'c_en', 'v_volume', 'v_densidade'])\n",
    "\n",
    "# Converter as colunas relevantes para numérico, se necessário\n",
    "t02p11[['TimeStep', 'c_t', 'c_pp', 'c_en', 'v_volume', 'v_densidade']] = t02p11[['TimeStep', 'c_t', 'c_pp', 'c_en', 'v_volume', 'v_densidade']].apply(pd.to_numeric)\n"
   ]
  },
  {
   "cell_type": "code",
   "execution_count": 5,
   "id": "14c948b4",
   "metadata": {},
   "outputs": [],
   "source": [
    "with open('thermodynamicst0.25p1.1.dat', 'r') as file:\n",
    "    lines = [line.strip() for line in file if not line.startswith('#')]\n",
    "\n",
    "# Dividir os dados em colunas\n",
    "data = [line.split() for line in lines]\n",
    "\n",
    "# Criar um DataFrame\n",
    "t025p11 = pd.DataFrame(data, columns=['TimeStep', 'c_t', 'c_pp', 'c_en', 'v_volume', 'v_densidade'])\n",
    "# Converter as colunas relevantes para numérico, se necessário\n",
    "t025p11[['TimeStep', 'c_t', 'c_pp', 'c_en', 'v_volume', 'v_densidade']] = t025p11[['TimeStep', 'c_t', 'c_pp', 'c_en', 'v_volume', 'v_densidade']].apply(pd.to_numeric)\n"
   ]
  },
  {
   "cell_type": "code",
   "execution_count": 6,
   "id": "b0c690b6",
   "metadata": {},
   "outputs": [],
   "source": [
    "with open('thermodynamicst0.3p1.1.dat', 'r') as file:\n",
    "    lines = [line.strip() for line in file if not line.startswith('#')]\n",
    "\n",
    "# Dividir os dados em colunas\n",
    "data = [line.split() for line in lines]\n",
    "\n",
    "# Criar um DataFrame\n",
    "t03p11 = pd.DataFrame(data, columns=['TimeStep', 'c_t', 'c_pp', 'c_en', 'v_volume', 'v_densidade'])\n",
    "# Converter as colunas relevantes para numérico, se necessário\n",
    "t03p11[['TimeStep', 'c_t', 'c_pp', 'c_en', 'v_volume', 'v_densidade']] = t03p11[['TimeStep', 'c_t', 'c_pp', 'c_en', 'v_volume', 'v_densidade']].apply(pd.to_numeric)\n"
   ]
  },
  {
   "cell_type": "code",
   "execution_count": 7,
   "id": "2f17f339",
   "metadata": {},
   "outputs": [],
   "source": [
    "with open('thermodynamicst0.35p1.1.dat', 'r') as file:\n",
    "    lines = [line.strip() for line in file if not line.startswith('#')]\n",
    "\n",
    "# Dividir os dados em colunas\n",
    "data = [line.split() for line in lines]\n",
    "\n",
    "# Criar um DataFrame\n",
    "t035p11 = pd.DataFrame(data, columns=['TimeStep', 'c_t', 'c_pp', 'c_en', 'v_volume', 'v_densidade'])\n",
    "# Converter as colunas relevantes para numérico, se necessário\n",
    "t035p11[['TimeStep', 'c_t', 'c_pp', 'c_en', 'v_volume', 'v_densidade']] = t035p11[['TimeStep', 'c_t', 'c_pp', 'c_en', 'v_volume', 'v_densidade']].apply(pd.to_numeric)\n"
   ]
  },
  {
   "cell_type": "code",
   "execution_count": 8,
   "id": "9b6008b5",
   "metadata": {},
   "outputs": [],
   "source": [
    "with open('thermodynamicst0.4p1.1.dat', 'r') as file:\n",
    "    lines = [line.strip() for line in file if not line.startswith('#')]\n",
    "\n",
    "# Dividir os dados em colunas\n",
    "data = [line.split() for line in lines]\n",
    "\n",
    "# Criar um DataFrame\n",
    "t04p11 = pd.DataFrame(data, columns=['TimeStep', 'c_t', 'c_pp', 'c_en', 'v_volume', 'v_densidade'])\n",
    "# Converter as colunas relevantes para numérico, se necessário\n",
    "t04p11[['TimeStep', 'c_t', 'c_pp', 'c_en', 'v_volume', 'v_densidade']] = t04p11[['TimeStep', 'c_t', 'c_pp', 'c_en', 'v_volume', 'v_densidade']].apply(pd.to_numeric)\n"
   ]
  },
  {
   "cell_type": "code",
   "execution_count": 9,
   "id": "b5dc6923",
   "metadata": {},
   "outputs": [],
   "source": [
    "with open('thermodynamicst0.5p1.1.dat', 'r') as file:\n",
    "    lines = [line.strip() for line in file if not line.startswith('#')]\n",
    "\n",
    "# Dividir os dados em colunas\n",
    "data = [line.split() for line in lines]\n",
    "\n",
    "# Criar um DataFrame\n",
    "t05p11 = pd.DataFrame(data, columns=['TimeStep', 'c_t', 'c_pp', 'c_en', 'v_volume', 'v_densidade'])\n",
    "# Converter as colunas relevantes para numérico, se necessário\n",
    "t05p11[['TimeStep', 'c_t', 'c_pp', 'c_en', 'v_volume', 'v_densidade']] = t05p11[['TimeStep', 'c_t', 'c_pp', 'c_en', 'v_volume', 'v_densidade']].apply(pd.to_numeric)\n"
   ]
  },
  {
   "cell_type": "code",
   "execution_count": 10,
   "id": "a530668c",
   "metadata": {},
   "outputs": [],
   "source": [
    "with open('thermodynamicst0.55p1.1.dat', 'r') as file:\n",
    "    lines = [line.strip() for line in file if not line.startswith('#')]\n",
    "\n",
    "# Dividir os dados em colunas\n",
    "data = [line.split() for line in lines]\n",
    "\n",
    "# Criar um DataFrame\n",
    "t055p11 = pd.DataFrame(data, columns=['TimeStep', 'c_t', 'c_pp', 'c_en', 'v_volume', 'v_densidade'])\n",
    "# Converter as colunas relevantes para numérico, se necessário\n",
    "t055p11[['TimeStep', 'c_t', 'c_pp', 'c_en', 'v_volume', 'v_densidade']] = t055p11[['TimeStep', 'c_t', 'c_pp', 'c_en', 'v_volume', 'v_densidade']].apply(pd.to_numeric)\n"
   ]
  },
  {
   "cell_type": "code",
   "execution_count": 11,
   "id": "bf2b8635",
   "metadata": {},
   "outputs": [],
   "source": [
    "with open('thermodynamicst0.6p1.1.dat', 'r') as file:\n",
    "    lines = [line.strip() for line in file if not line.startswith('#')]\n",
    "\n",
    "# Dividir os dados em colunas\n",
    "data = [line.split() for line in lines]\n",
    "\n",
    "# Criar um DataFrame\n",
    "t06p11 = pd.DataFrame(data, columns=['TimeStep', 'c_t', 'c_pp', 'c_en', 'v_volume', 'v_densidade'])\n",
    "# Converter as colunas relevantes para numérico, se necessário\n",
    "t06p11[['TimeStep', 'c_t', 'c_pp', 'c_en', 'v_volume', 'v_densidade']] = t06p11[['TimeStep', 'c_t', 'c_pp', 'c_en', 'v_volume', 'v_densidade']].apply(pd.to_numeric)\n"
   ]
  },
  {
   "cell_type": "code",
   "execution_count": 12,
   "id": "a6613b85",
   "metadata": {},
   "outputs": [],
   "source": [
    "with open('thermodynamicst0.7p1.1.dat', 'r') as file:\n",
    "    lines = [line.strip() for line in file if not line.startswith('#')]\n",
    "\n",
    "# Dividir os dados em colunas\n",
    "data = [line.split() for line in lines]\n",
    "\n",
    "# Criar um DataFrame\n",
    "t07p11 = pd.DataFrame(data, columns=['TimeStep', 'c_t', 'c_pp', 'c_en', 'v_volume', 'v_densidade'])\n",
    "# Converter as colunas relevantes para numérico, se necessário\n",
    "t07p11[['TimeStep', 'c_t', 'c_pp', 'c_en', 'v_volume', 'v_densidade']] = t07p11[['TimeStep', 'c_t', 'c_pp', 'c_en', 'v_volume', 'v_densidade']].apply(pd.to_numeric)\n"
   ]
  },
  {
   "cell_type": "code",
   "execution_count": 13,
   "id": "41827e46",
   "metadata": {},
   "outputs": [],
   "source": [
    "with open('thermodynamicst0.8p1.1.dat', 'r') as file:\n",
    "    lines = [line.strip() for line in file if not line.startswith('#')]\n",
    "\n",
    "# Dividir os dados em colunas\n",
    "data = [line.split() for line in lines]\n",
    "\n",
    "# Criar um DataFrame\n",
    "t08p11 = pd.DataFrame(data, columns=['TimeStep', 'c_t', 'c_pp', 'c_en', 'v_volume', 'v_densidade'])\n",
    "# Converter as colunas relevantes para numérico, se necessário\n",
    "t08p11[['TimeStep', 'c_t', 'c_pp', 'c_en', 'v_volume', 'v_densidade']] = t08p11[['TimeStep', 'c_t', 'c_pp', 'c_en', 'v_volume', 'v_densidade']].apply(pd.to_numeric)\n"
   ]
  },
  {
   "cell_type": "code",
   "execution_count": 14,
   "id": "78238bdc",
   "metadata": {},
   "outputs": [],
   "source": [
    "with open('thermodynamicst0.9p1.1.dat', 'r') as file:\n",
    "    lines = [line.strip() for line in file if not line.startswith('#')]\n",
    "\n",
    "# Dividir os dados em colunas\n",
    "data = [line.split() for line in lines]\n",
    "\n",
    "# Criar um DataFrame\n",
    "t09p11 = pd.DataFrame(data, columns=['TimeStep', 'c_t', 'c_pp', 'c_en', 'v_volume', 'v_densidade'])\n",
    "# Converter as colunas relevantes para numérico, se necessário\n",
    "t09p11[['TimeStep', 'c_t', 'c_pp', 'c_en', 'v_volume', 'v_densidade']] = t09p11[['TimeStep', 'c_t', 'c_pp', 'c_en', 'v_volume', 'v_densidade']].apply(pd.to_numeric)\n"
   ]
  },
  {
   "cell_type": "code",
   "execution_count": 15,
   "id": "45da2e5d",
   "metadata": {},
   "outputs": [],
   "source": [
    "with open('thermodynamicst0.95p1.1.dat', 'r') as file:\n",
    "    lines = [line.strip() for line in file if not line.startswith('#')]\n",
    "\n",
    "# Dividir os dados em colunas\n",
    "data = [line.split() for line in lines]\n",
    "\n",
    "# Criar um DataFrame\n",
    "t095p11 = pd.DataFrame(data, columns=['TimeStep', 'c_t', 'c_pp', 'c_en', 'v_volume', 'v_densidade'])\n",
    "# Converter as colunas relevantes para numérico, se necessário\n",
    "t095p11[['TimeStep', 'c_t', 'c_pp', 'c_en', 'v_volume', 'v_densidade']] = t095p11[['TimeStep', 'c_t', 'c_pp', 'c_en', 'v_volume', 'v_densidade']].apply(pd.to_numeric)\n"
   ]
  },
  {
   "cell_type": "code",
   "execution_count": 16,
   "id": "e0c11b51",
   "metadata": {},
   "outputs": [],
   "source": [
    "with open('thermodynamicst1.0p1.1.dat', 'r') as file:\n",
    "    lines = [line.strip() for line in file if not line.startswith('#')]\n",
    "\n",
    "# Dividir os dados em colunas\n",
    "data = [line.split() for line in lines]\n",
    "\n",
    "# Criar um DataFrame\n",
    "t10p11 = pd.DataFrame(data, columns=['TimeStep', 'c_t', 'c_pp', 'c_en', 'v_volume', 'v_densidade'])\n",
    "# Converter as colunas relevantes para numérico, se necessário\n",
    "t10p11[['TimeStep', 'c_t', 'c_pp', 'c_en', 'v_volume', 'v_densidade']] = t10p11[['TimeStep', 'c_t', 'c_pp', 'c_en', 'v_volume', 'v_densidade']].apply(pd.to_numeric)\n"
   ]
  },
  {
   "cell_type": "markdown",
   "id": "8858fafa",
   "metadata": {},
   "source": [
    "# Gerando os valores de media para p = 1.1"
   ]
  },
  {
   "cell_type": "code",
   "execution_count": 17,
   "id": "7c1e9764",
   "metadata": {},
   "outputs": [],
   "source": [
    "mt = np.array([t01p11[\"c_t\"].mean(),t015p11[\"c_t\"].mean(),t02p11[\"c_t\"].mean(),t025p11[\"c_t\"].mean(),t03p11[\"c_t\"].mean(),t035p11[\"c_t\"].mean(),t04p11[\"c_t\"].mean(),t05p11[\"c_t\"].mean(),t055p11[\"c_t\"].mean(),t06p11[\"c_t\"].mean(),t07p11[\"c_t\"].mean(),t08p11[\"c_t\"].mean(),t09p11[\"c_t\"].mean(),t095p11[\"c_t\"].mean(),t10p11[\"c_t\"].mean() ])\n",
    "mph= np.array([t01p11[\"v_densidade\"].mean(),t015p11[\"v_densidade\"].mean(),t02p11[\"v_densidade\"].mean(),t025p11[\"v_densidade\"].mean(),t03p11[\"v_densidade\"].mean(),t035p11[\"v_densidade\"].mean(),t04p11[\"v_densidade\"].mean(),t05p11[\"v_densidade\"].mean(),t055p11[\"v_densidade\"].mean(),t06p11[\"v_densidade\"].mean(),t07p11[\"v_densidade\"].mean(),t08p11[\"v_densidade\"].mean(),t09p11[\"v_densidade\"].mean(),t095p11[\"v_densidade\"].mean(),t10p11[\"v_densidade\"].mean() ])\n",
    "\n"
   ]
  },
  {
   "cell_type": "markdown",
   "id": "f313f691",
   "metadata": {},
   "source": [
    "# Importando csvs p=1.18"
   ]
  },
  {
   "cell_type": "code",
   "execution_count": 18,
   "id": "b302d6b6",
   "metadata": {},
   "outputs": [],
   "source": [
    "with open('thermodynamicst0.1p1.18.dat', 'r') as file:\n",
    "    lines = [line.strip() for line in file if not line.startswith('#')]\n",
    "\n",
    "# Dividir os dados em colunas\n",
    "data = [line.split() for line in lines]\n",
    "\n",
    "# Criar um DataFrame\n",
    "t01p118 = pd.DataFrame(data, columns=['TimeStep', 'c_t', 'c_pp', 'c_en', 'v_volume', 'v_densidade'])\n",
    "\n",
    "# Converter as colunas relevantes para numérico, se necessário\n",
    "t01p118[['TimeStep', 'c_t', 'c_pp', 'c_en', 'v_volume', 'v_densidade']] = t01p118[['TimeStep', 'c_t', 'c_pp', 'c_en', 'v_volume', 'v_densidade']].apply(pd.to_numeric)\n",
    "\n"
   ]
  },
  {
   "cell_type": "code",
   "execution_count": 19,
   "id": "25aa4c35",
   "metadata": {},
   "outputs": [],
   "source": [
    "with open('thermodynamicst0.15p1.18.dat', 'r') as file:\n",
    "    lines = [line.strip() for line in file if not line.startswith('#')]\n",
    "\n",
    "# Dividir os dados em colunas\n",
    "data = [line.split() for line in lines]\n",
    "\n",
    "# Criar um DataFrame\n",
    "t015p118 = pd.DataFrame(data, columns=['TimeStep', 'c_t', 'c_pp', 'c_en', 'v_volume', 'v_densidade'])\n",
    "\n",
    "# Converter as colunas relevantes para numérico, se necessário\n",
    "t015p118[['TimeStep', 'c_t', 'c_pp', 'c_en', 'v_volume', 'v_densidade']] = t015p118[['TimeStep', 'c_t', 'c_pp', 'c_en', 'v_volume', 'v_densidade']].apply(pd.to_numeric)\n"
   ]
  },
  {
   "cell_type": "code",
   "execution_count": 20,
   "id": "aae23f1f",
   "metadata": {},
   "outputs": [],
   "source": [
    "with open('thermodynamicst0.2p1.18.dat', 'r') as file:\n",
    "    lines = [line.strip() for line in file if not line.startswith('#')]\n",
    "\n",
    "# Dividir os dados em colunas\n",
    "data = [line.split() for line in lines]\n",
    "\n",
    "# Criar um DataFrame\n",
    "t02p118 = pd.DataFrame(data, columns=['TimeStep', 'c_t', 'c_pp', 'c_en', 'v_volume', 'v_densidade'])\n",
    "\n",
    "# Converter as colunas relevantes para numérico, se necessário\n",
    "t02p118[['TimeStep', 'c_t', 'c_pp', 'c_en', 'v_volume', 'v_densidade']] = t02p118[['TimeStep', 'c_t', 'c_pp', 'c_en', 'v_volume', 'v_densidade']].apply(pd.to_numeric)\n"
   ]
  },
  {
   "cell_type": "code",
   "execution_count": 21,
   "id": "c96ac6d8",
   "metadata": {},
   "outputs": [],
   "source": [
    "with open('thermodynamicst0.25p1.18.dat', 'r') as file:\n",
    "    lines = [line.strip() for line in file if not line.startswith('#')]\n",
    "\n",
    "# Dividir os dados em colunas\n",
    "data = [line.split() for line in lines]\n",
    "\n",
    "# Criar um DataFrame\n",
    "t025p118 = pd.DataFrame(data, columns=['TimeStep', 'c_t', 'c_pp', 'c_en', 'v_volume', 'v_densidade'])\n",
    "# Converter as colunas relevantes para numérico, se necessário\n",
    "t025p118[['TimeStep', 'c_t', 'c_pp', 'c_en', 'v_volume', 'v_densidade']] = t025p118[['TimeStep', 'c_t', 'c_pp', 'c_en', 'v_volume', 'v_densidade']].apply(pd.to_numeric)\n"
   ]
  },
  {
   "cell_type": "code",
   "execution_count": 22,
   "id": "32649df3",
   "metadata": {},
   "outputs": [],
   "source": [
    "with open('thermodynamicst0.3p1.18.dat', 'r') as file:\n",
    "    lines = [line.strip() for line in file if not line.startswith('#')]\n",
    "\n",
    "# Dividir os dados em colunas\n",
    "data = [line.split() for line in lines]\n",
    "\n",
    "# Criar um DataFrame\n",
    "t03p118 = pd.DataFrame(data, columns=['TimeStep', 'c_t', 'c_pp', 'c_en', 'v_volume', 'v_densidade'])\n",
    "# Converter as colunas relevantes para numérico, se necessário\n",
    "t03p118[['TimeStep', 'c_t', 'c_pp', 'c_en', 'v_volume', 'v_densidade']] = t03p118[['TimeStep', 'c_t', 'c_pp', 'c_en', 'v_volume', 'v_densidade']].apply(pd.to_numeric)\n"
   ]
  },
  {
   "cell_type": "code",
   "execution_count": 23,
   "id": "0f222f1f",
   "metadata": {},
   "outputs": [],
   "source": [
    "with open('thermodynamicst0.35p1.18.dat', 'r') as file:\n",
    "    lines = [line.strip() for line in file if not line.startswith('#')]\n",
    "\n",
    "# Dividir os dados em colunas\n",
    "data = [line.split() for line in lines]\n",
    "\n",
    "# Criar um DataFrame\n",
    "t035p118 = pd.DataFrame(data, columns=['TimeStep', 'c_t', 'c_pp', 'c_en', 'v_volume', 'v_densidade'])\n",
    "# Converter as colunas relevantes para numérico, se necessário\n",
    "t035p118[['TimeStep', 'c_t', 'c_pp', 'c_en', 'v_volume', 'v_densidade']] = t035p118[['TimeStep', 'c_t', 'c_pp', 'c_en', 'v_volume', 'v_densidade']].apply(pd.to_numeric)\n"
   ]
  },
  {
   "cell_type": "code",
   "execution_count": 24,
   "id": "6f7208fc",
   "metadata": {},
   "outputs": [],
   "source": [
    "with open('thermodynamicst0.4p1.18.dat', 'r') as file:\n",
    "    lines = [line.strip() for line in file if not line.startswith('#')]\n",
    "\n",
    "# Dividir os dados em colunas\n",
    "data = [line.split() for line in lines]\n",
    "\n",
    "# Criar um DataFrame\n",
    "t04p118 = pd.DataFrame(data, columns=['TimeStep', 'c_t', 'c_pp', 'c_en', 'v_volume', 'v_densidade'])\n",
    "# Converter as colunas relevantes para numérico, se necessário\n",
    "t04p118[['TimeStep', 'c_t', 'c_pp', 'c_en', 'v_volume', 'v_densidade']] = t04p118[['TimeStep', 'c_t', 'c_pp', 'c_en', 'v_volume', 'v_densidade']].apply(pd.to_numeric)\n"
   ]
  },
  {
   "cell_type": "code",
   "execution_count": 25,
   "id": "d6ce58fb",
   "metadata": {},
   "outputs": [],
   "source": [
    "with open('thermodynamicst0.5p1.18.dat', 'r') as file:\n",
    "    lines = [line.strip() for line in file if not line.startswith('#')]\n",
    "\n",
    "# Dividir os dados em colunas\n",
    "data = [line.split() for line in lines]\n",
    "\n",
    "# Criar um DataFrame\n",
    "t05p118 = pd.DataFrame(data, columns=['TimeStep', 'c_t', 'c_pp', 'c_en', 'v_volume', 'v_densidade'])\n",
    "# Converter as colunas relevantes para numérico, se necessário\n",
    "t05p118[['TimeStep', 'c_t', 'c_pp', 'c_en', 'v_volume', 'v_densidade']] = t05p118[['TimeStep', 'c_t', 'c_pp', 'c_en', 'v_volume', 'v_densidade']].apply(pd.to_numeric)\n"
   ]
  },
  {
   "cell_type": "code",
   "execution_count": 26,
   "id": "446fc4f2",
   "metadata": {},
   "outputs": [],
   "source": [
    "with open('thermodynamicst0.55p1.18.dat', 'r') as file:\n",
    "    lines = [line.strip() for line in file if not line.startswith('#')]\n",
    "\n",
    "# Dividir os dados em colunas\n",
    "data = [line.split() for line in lines]\n",
    "\n",
    "# Criar um DataFrame\n",
    "t055p118 = pd.DataFrame(data, columns=['TimeStep', 'c_t', 'c_pp', 'c_en', 'v_volume', 'v_densidade'])\n",
    "# Converter as colunas relevantes para numérico, se necessário\n",
    "t055p118[['TimeStep', 'c_t', 'c_pp', 'c_en', 'v_volume', 'v_densidade']] = t055p118[['TimeStep', 'c_t', 'c_pp', 'c_en', 'v_volume', 'v_densidade']].apply(pd.to_numeric)\n"
   ]
  },
  {
   "cell_type": "code",
   "execution_count": 27,
   "id": "17f13809",
   "metadata": {},
   "outputs": [],
   "source": [
    "with open('thermodynamicst0.6p1.18.dat', 'r') as file:\n",
    "    lines = [line.strip() for line in file if not line.startswith('#')]\n",
    "\n",
    "# Dividir os dados em colunas\n",
    "data = [line.split() for line in lines]\n",
    "\n",
    "# Criar um DataFrame\n",
    "t06p118 = pd.DataFrame(data, columns=['TimeStep', 'c_t', 'c_pp', 'c_en', 'v_volume', 'v_densidade'])\n",
    "# Converter as colunas relevantes para numérico, se necessário\n",
    "t06p118[['TimeStep', 'c_t', 'c_pp', 'c_en', 'v_volume', 'v_densidade']] = t06p118[['TimeStep', 'c_t', 'c_pp', 'c_en', 'v_volume', 'v_densidade']].apply(pd.to_numeric)\n"
   ]
  },
  {
   "cell_type": "code",
   "execution_count": 28,
   "id": "5b7d8616",
   "metadata": {},
   "outputs": [],
   "source": [
    "with open('thermodynamicst0.7p1.18.dat', 'r') as file:\n",
    "    lines = [line.strip() for line in file if not line.startswith('#')]\n",
    "\n",
    "# Dividir os dados em colunas\n",
    "data = [line.split() for line in lines]\n",
    "\n",
    "# Criar um DataFrame\n",
    "t07p118 = pd.DataFrame(data, columns=['TimeStep', 'c_t', 'c_pp', 'c_en', 'v_volume', 'v_densidade'])\n",
    "# Converter as colunas relevantes para numérico, se necessário\n",
    "t07p118[['TimeStep', 'c_t', 'c_pp', 'c_en', 'v_volume', 'v_densidade']] = t07p118[['TimeStep', 'c_t', 'c_pp', 'c_en', 'v_volume', 'v_densidade']].apply(pd.to_numeric)\n"
   ]
  },
  {
   "cell_type": "code",
   "execution_count": 29,
   "id": "d891c18b",
   "metadata": {},
   "outputs": [],
   "source": [
    "with open('thermodynamicst0.8p1.18.dat', 'r') as file:\n",
    "    lines = [line.strip() for line in file if not line.startswith('#')]\n",
    "\n",
    "# Dividir os dados em colunas\n",
    "data = [line.split() for line in lines]\n",
    "\n",
    "# Criar um DataFrame\n",
    "t08p118 = pd.DataFrame(data, columns=['TimeStep', 'c_t', 'c_pp', 'c_en', 'v_volume', 'v_densidade'])\n",
    "# Converter as colunas relevantes para numérico, se necessário\n",
    "t08p118[['TimeStep', 'c_t', 'c_pp', 'c_en', 'v_volume', 'v_densidade']] = t08p118[['TimeStep', 'c_t', 'c_pp', 'c_en', 'v_volume', 'v_densidade']].apply(pd.to_numeric)\n"
   ]
  },
  {
   "cell_type": "code",
   "execution_count": 30,
   "id": "b75c71cd",
   "metadata": {},
   "outputs": [],
   "source": [
    "with open('thermodynamicst0.9p1.18.dat', 'r') as file:\n",
    "    lines = [line.strip() for line in file if not line.startswith('#')]\n",
    "\n",
    "# Dividir os dados em colunas\n",
    "data = [line.split() for line in lines]\n",
    "\n",
    "# Criar um DataFrame\n",
    "t09p118 = pd.DataFrame(data, columns=['TimeStep', 'c_t', 'c_pp', 'c_en', 'v_volume', 'v_densidade'])\n",
    "# Converter as colunas relevantes para numérico, se necessário\n",
    "t09p118[['TimeStep', 'c_t', 'c_pp', 'c_en', 'v_volume', 'v_densidade']] = t09p118[['TimeStep', 'c_t', 'c_pp', 'c_en', 'v_volume', 'v_densidade']].apply(pd.to_numeric)\n"
   ]
  },
  {
   "cell_type": "code",
   "execution_count": 31,
   "id": "85cd6a5d",
   "metadata": {},
   "outputs": [],
   "source": [
    "with open('thermodynamicst0.95p1.18.dat', 'r') as file:\n",
    "    lines = [line.strip() for line in file if not line.startswith('#')]\n",
    "\n",
    "# Dividir os dados em colunas\n",
    "data = [line.split() for line in lines]\n",
    "\n",
    "# Criar um DataFrame\n",
    "t095p118 = pd.DataFrame(data, columns=['TimeStep', 'c_t', 'c_pp', 'c_en', 'v_volume', 'v_densidade'])\n",
    "# Converter as colunas relevantes para numérico, se necessário\n",
    "t095p118[['TimeStep', 'c_t', 'c_pp', 'c_en', 'v_volume', 'v_densidade']] = t095p118[['TimeStep', 'c_t', 'c_pp', 'c_en', 'v_volume', 'v_densidade']].apply(pd.to_numeric)\n"
   ]
  },
  {
   "cell_type": "code",
   "execution_count": 32,
   "id": "7cd92dad",
   "metadata": {},
   "outputs": [],
   "source": [
    "with open('thermodynamicst1.0p1.18.dat', 'r') as file:\n",
    "    lines = [line.strip() for line in file if not line.startswith('#')]\n",
    "\n",
    "# Dividir os dados em colunas\n",
    "data = [line.split() for line in lines]\n",
    "\n",
    "# Criar um DataFrame\n",
    "t10p118 = pd.DataFrame(data, columns=['TimeStep', 'c_t', 'c_pp', 'c_en', 'v_volume', 'v_densidade'])\n",
    "# Converter as colunas relevantes para numérico, se necessário\n",
    "t10p118[['TimeStep', 'c_t', 'c_pp', 'c_en', 'v_volume', 'v_densidade']] = t10p118[['TimeStep', 'c_t', 'c_pp', 'c_en', 'v_volume', 'v_densidade']].apply(pd.to_numeric)\n"
   ]
  },
  {
   "cell_type": "markdown",
   "id": "4ab6f253",
   "metadata": {},
   "source": [
    "# Gerando os valores de media para p = 1.18"
   ]
  },
  {
   "cell_type": "code",
   "execution_count": 33,
   "id": "71a4ed6f",
   "metadata": {},
   "outputs": [],
   "source": [
    "mt118 = np.array([t01p118[\"c_t\"].mean(),t015p118[\"c_t\"].mean(),t02p118[\"c_t\"].mean(),t025p118[\"c_t\"].mean(),t03p118[\"c_t\"].mean(),t035p118[\"c_t\"].mean(),t04p118[\"c_t\"].mean(),t05p118[\"c_t\"].mean(),t055p118[\"c_t\"].mean(),t06p118[\"c_t\"].mean(),t07p118[\"c_t\"].mean(),t08p118[\"c_t\"].mean(),t09p118[\"c_t\"].mean(),t095p118[\"c_t\"].mean(),t10p118[\"c_t\"].mean() ])\n",
    "mph118= np.array([t01p118[\"v_densidade\"].mean(),t015p118[\"v_densidade\"].mean(),t02p118[\"v_densidade\"].mean(),t025p118[\"v_densidade\"].mean(),t03p118[\"v_densidade\"].mean(),t035p118[\"v_densidade\"].mean(),t04p118[\"v_densidade\"].mean(),t05p118[\"v_densidade\"].mean(),t055p118[\"v_densidade\"].mean(),t06p118[\"v_densidade\"].mean(),t07p118[\"v_densidade\"].mean(),t08p118[\"v_densidade\"].mean(),t09p118[\"v_densidade\"].mean(),t095p118[\"v_densidade\"].mean(),t10p118[\"v_densidade\"].mean() ])\n"
   ]
  },
  {
   "cell_type": "markdown",
   "id": "bef47bdf",
   "metadata": {},
   "source": [
    "# Importando csv P= 1.3 "
   ]
  },
  {
   "cell_type": "code",
   "execution_count": 34,
   "id": "8aa8dd29",
   "metadata": {},
   "outputs": [],
   "source": [
    "with open('thermodynamicst0.1p1.3.dat', 'r') as file:\n",
    "    lines = [line.strip() for line in file if not line.startswith('#')]\n",
    "\n",
    "# Dividir os dados em colunas\n",
    "data = [line.split() for line in lines]\n",
    "\n",
    "# Criar um DataFrame\n",
    "t01p13 = pd.DataFrame(data, columns=['TimeStep', 'c_t', 'c_pp', 'c_en', 'v_volume', 'v_densidade'])\n",
    "# Converter as colunas relevantes para numérico, se necessário\n",
    "t01p13[['TimeStep', 'c_t', 'c_pp', 'c_en', 'v_volume', 'v_densidade']] = t01p13[['TimeStep', 'c_t', 'c_pp', 'c_en', 'v_volume', 'v_densidade']].apply(pd.to_numeric)\n"
   ]
  },
  {
   "cell_type": "code",
   "execution_count": 35,
   "id": "71d27055",
   "metadata": {},
   "outputs": [],
   "source": [
    "with open('thermodynamicst0.2p1.3.dat', 'r') as file:\n",
    "    lines = [line.strip() for line in file if not line.startswith('#')]\n",
    "\n",
    "# Dividir os dados em colunas\n",
    "data = [line.split() for line in lines]\n",
    "\n",
    "# Criar um DataFrame\n",
    "t02p13 = pd.DataFrame(data, columns=['TimeStep', 'c_t', 'c_pp', 'c_en', 'v_volume', 'v_densidade'])\n",
    "# Converter as colunas relevantes para numérico, se necessário\n",
    "t02p13[['TimeStep', 'c_t', 'c_pp', 'c_en', 'v_volume', 'v_densidade']] = t02p13[['TimeStep', 'c_t', 'c_pp', 'c_en', 'v_volume', 'v_densidade']].apply(pd.to_numeric)\n"
   ]
  },
  {
   "cell_type": "code",
   "execution_count": 36,
   "id": "4f8d09ba",
   "metadata": {},
   "outputs": [],
   "source": [
    "with open('thermodynamicst0.3p1.3.dat', 'r') as file:\n",
    "    lines = [line.strip() for line in file if not line.startswith('#')]\n",
    "\n",
    "# Dividir os dados em colunas\n",
    "data = [line.split() for line in lines]\n",
    "\n",
    "# Criar um DataFrame\n",
    "t03p13 = pd.DataFrame(data, columns=['TimeStep', 'c_t', 'c_pp', 'c_en', 'v_volume', 'v_densidade'])\n",
    "# Converter as colunas relevantes para numérico, se necessário\n",
    "t03p13[['TimeStep', 'c_t', 'c_pp', 'c_en', 'v_volume', 'v_densidade']] = t03p13[['TimeStep', 'c_t', 'c_pp', 'c_en', 'v_volume', 'v_densidade']].apply(pd.to_numeric)\n"
   ]
  },
  {
   "cell_type": "code",
   "execution_count": 37,
   "id": "703aab1f",
   "metadata": {},
   "outputs": [],
   "source": [
    "with open('thermodynamicst0.4p1.3.dat', 'r') as file:\n",
    "    lines = [line.strip() for line in file if not line.startswith('#')]\n",
    "\n",
    "# Dividir os dados em colunas\n",
    "data = [line.split() for line in lines]\n",
    "\n",
    "# Criar um DataFrame\n",
    "t04p13 = pd.DataFrame(data, columns=['TimeStep', 'c_t', 'c_pp', 'c_en', 'v_volume', 'v_densidade'])\n",
    "# Converter as colunas relevantes para numérico, se necessário\n",
    "t04p13[['TimeStep', 'c_t', 'c_pp', 'c_en', 'v_volume', 'v_densidade']] = t04p13[['TimeStep', 'c_t', 'c_pp', 'c_en', 'v_volume', 'v_densidade']].apply(pd.to_numeric)\n"
   ]
  },
  {
   "cell_type": "code",
   "execution_count": 38,
   "id": "f9b5edcc",
   "metadata": {},
   "outputs": [],
   "source": [
    "with open('thermodynamicst0.5p1.3.dat', 'r') as file:\n",
    "    lines = [line.strip() for line in file if not line.startswith('#')]\n",
    "\n",
    "# Dividir os dados em colunas\n",
    "data = [line.split() for line in lines]\n",
    "\n",
    "# Criar um DataFrame\n",
    "t05p13 = pd.DataFrame(data, columns=['TimeStep', 'c_t', 'c_pp', 'c_en', 'v_volume', 'v_densidade'])\n",
    "# Converter as colunas relevantes para numérico, se necessário\n",
    "t05p13[['TimeStep', 'c_t', 'c_pp', 'c_en', 'v_volume', 'v_densidade']] = t05p13[['TimeStep', 'c_t', 'c_pp', 'c_en', 'v_volume', 'v_densidade']].apply(pd.to_numeric)\n"
   ]
  },
  {
   "cell_type": "code",
   "execution_count": 39,
   "id": "5cf467cf",
   "metadata": {},
   "outputs": [],
   "source": [
    "with open('thermodynamicst0.6p1.3.dat', 'r') as file:\n",
    "    lines = [line.strip() for line in file if not line.startswith('#')]\n",
    "\n",
    "# Dividir os dados em colunas\n",
    "data = [line.split() for line in lines]\n",
    "\n",
    "# Criar um DataFrame\n",
    "t06p13 = pd.DataFrame(data, columns=['TimeStep', 'c_t', 'c_pp', 'c_en', 'v_volume', 'v_densidade'])\n",
    "# Converter as colunas relevantes para numérico, se necessário\n",
    "t06p13[['TimeStep', 'c_t', 'c_pp', 'c_en', 'v_volume', 'v_densidade']] = t06p13[['TimeStep', 'c_t', 'c_pp', 'c_en', 'v_volume', 'v_densidade']].apply(pd.to_numeric)\n"
   ]
  },
  {
   "cell_type": "code",
   "execution_count": 40,
   "id": "5001346e",
   "metadata": {},
   "outputs": [],
   "source": [
    "with open('thermodynamicst0.7p1.3.dat', 'r') as file:\n",
    "    lines = [line.strip() for line in file if not line.startswith('#')]\n",
    "\n",
    "# Dividir os dados em colunas\n",
    "data = [line.split() for line in lines]\n",
    "\n",
    "# Criar um DataFrame\n",
    "t07p13 = pd.DataFrame(data, columns=['TimeStep', 'c_t', 'c_pp', 'c_en', 'v_volume', 'v_densidade'])\n",
    "# Converter as colunas relevantes para numérico, se necessário\n",
    "t07p13[['TimeStep', 'c_t', 'c_pp', 'c_en', 'v_volume', 'v_densidade']] = t07p13[['TimeStep', 'c_t', 'c_pp', 'c_en', 'v_volume', 'v_densidade']].apply(pd.to_numeric)\n"
   ]
  },
  {
   "cell_type": "code",
   "execution_count": 41,
   "id": "6c0b4218",
   "metadata": {},
   "outputs": [],
   "source": [
    "with open('thermodynamicst0.8p1.3.dat', 'r') as file:\n",
    "    lines = [line.strip() for line in file if not line.startswith('#')]\n",
    "\n",
    "# Dividir os dados em colunas\n",
    "data = [line.split() for line in lines]\n",
    "\n",
    "# Criar um DataFrame\n",
    "t08p13 = pd.DataFrame(data, columns=['TimeStep', 'c_t', 'c_pp', 'c_en', 'v_volume', 'v_densidade'])\n",
    "# Converter as colunas relevantes para numérico, se necessário\n",
    "t08p13[['TimeStep', 'c_t', 'c_pp', 'c_en', 'v_volume', 'v_densidade']] = t08p13[['TimeStep', 'c_t', 'c_pp', 'c_en', 'v_volume', 'v_densidade']].apply(pd.to_numeric)\n"
   ]
  },
  {
   "cell_type": "code",
   "execution_count": 42,
   "id": "e128e05a",
   "metadata": {},
   "outputs": [],
   "source": [
    "with open('thermodynamicst0.9p1.3.dat', 'r') as file:\n",
    "    lines = [line.strip() for line in file if not line.startswith('#')]\n",
    "\n",
    "# Dividir os dados em colunas\n",
    "data = [line.split() for line in lines]\n",
    "\n",
    "# Criar um DataFrame\n",
    "t09p13 = pd.DataFrame(data, columns=['TimeStep', 'c_t', 'c_pp', 'c_en', 'v_volume', 'v_densidade'])\n",
    "# Converter as colunas relevantes para numérico, se necessário\n",
    "t09p13[['TimeStep', 'c_t', 'c_pp', 'c_en', 'v_volume', 'v_densidade']] = t09p13[['TimeStep', 'c_t', 'c_pp', 'c_en', 'v_volume', 'v_densidade']].apply(pd.to_numeric)\n"
   ]
  },
  {
   "cell_type": "code",
   "execution_count": 43,
   "id": "8285665c",
   "metadata": {},
   "outputs": [],
   "source": [
    "with open('thermodynamicst1.p1.3.dat', 'r') as file:\n",
    "    lines = [line.strip() for line in file if not line.startswith('#')]\n",
    "\n",
    "# Dividir os dados em colunas\n",
    "data = [line.split() for line in lines]\n",
    "\n",
    "# Criar um DataFrame\n",
    "t1p13 = pd.DataFrame(data, columns=['TimeStep', 'c_t', 'c_pp', 'c_en', 'v_volume', 'v_densidade'])\n",
    "# Converter as colunas relevantes para numérico, se necessário\n",
    "t1p13[['TimeStep', 'c_t', 'c_pp', 'c_en', 'v_volume', 'v_densidade']] = t1p13[['TimeStep', 'c_t', 'c_pp', 'c_en', 'v_volume', 'v_densidade']].apply(pd.to_numeric)\n"
   ]
  },
  {
   "cell_type": "markdown",
   "id": "3c21069b",
   "metadata": {},
   "source": [
    "# Gerando os valores de media para p = 1.3"
   ]
  },
  {
   "cell_type": "code",
   "execution_count": 44,
   "id": "e0193e48",
   "metadata": {},
   "outputs": [],
   "source": [
    "mt13 = np.array([t01p13[\"c_t\"].mean(),t02p13[\"c_t\"].mean(),t03p13[\"c_t\"].mean(),t04p13[\"c_t\"].mean(),t05p13[\"c_t\"].mean(),t06p13[\"c_t\"].mean(),t07p13[\"c_t\"].mean(),t08p13[\"c_t\"].mean(),t09p13[\"c_t\"].mean(),t1p13[\"c_t\"].mean()])\n",
    "mph13 = np.array([t01p13[\"v_densidade\"].mean(),t02p13[\"v_densidade\"].mean(),t03p13[\"v_densidade\"].mean(),t04p13[\"v_densidade\"].mean(),t05p13[\"v_densidade\"].mean(),t06p13[\"v_densidade\"].mean(),t07p13[\"v_densidade\"].mean(),t08p13[\"v_densidade\"].mean(),t09p13[\"v_densidade\"].mean(),t1p13[\"v_densidade\"].mean()])"
   ]
  },
  {
   "cell_type": "markdown",
   "id": "f66eebfb",
   "metadata": {},
   "source": [
    "# Importando csv P= 1.5"
   ]
  },
  {
   "cell_type": "code",
   "execution_count": 45,
   "id": "a613e755",
   "metadata": {},
   "outputs": [],
   "source": [
    "with open('thermodynamicst0.1p1.5.dat', 'r') as file:\n",
    "    lines = [line.strip() for line in file if not line.startswith('#')]\n",
    "\n",
    "# Dividir os dados em colunas\n",
    "data = [line.split() for line in lines]\n",
    "\n",
    "# Criar um DataFrame\n",
    "t01p15 = pd.DataFrame(data, columns=['TimeStep', 'c_t', 'c_pp', 'c_en', 'v_volume', 'v_densidade'])\n",
    "# Converter as colunas relevantes para numérico, se necessário\n",
    "t01p15[['TimeStep', 'c_t', 'c_pp', 'c_en', 'v_volume', 'v_densidade']] = t01p15[['TimeStep', 'c_t', 'c_pp', 'c_en', 'v_volume', 'v_densidade']].apply(pd.to_numeric)\n"
   ]
  },
  {
   "cell_type": "code",
   "execution_count": 46,
   "id": "66df70fc",
   "metadata": {},
   "outputs": [],
   "source": [
    "with open('thermodynamicst0.2p1.5.dat', 'r') as file:\n",
    "    lines = [line.strip() for line in file if not line.startswith('#')]\n",
    "\n",
    "# Dividir os dados em colunas\n",
    "data = [line.split() for line in lines]\n",
    "\n",
    "# Criar um DataFrame\n",
    "t02p15 = pd.DataFrame(data, columns=['TimeStep', 'c_t', 'c_pp', 'c_en', 'v_volume', 'v_densidade'])\n",
    "# Converter as colunas relevantes para numérico, se necessário\n",
    "t02p15[['TimeStep', 'c_t', 'c_pp', 'c_en', 'v_volume', 'v_densidade']] = t02p15[['TimeStep', 'c_t', 'c_pp', 'c_en', 'v_volume', 'v_densidade']].apply(pd.to_numeric)\n"
   ]
  },
  {
   "cell_type": "code",
   "execution_count": 47,
   "id": "af08a123",
   "metadata": {},
   "outputs": [],
   "source": [
    "with open('thermodynamicst0.3p1.5.dat', 'r') as file:\n",
    "    lines = [line.strip() for line in file if not line.startswith('#')]\n",
    "\n",
    "# Dividir os dados em colunas\n",
    "data = [line.split() for line in lines]\n",
    "\n",
    "# Criar um DataFrame\n",
    "t03p15 = pd.DataFrame(data, columns=['TimeStep', 'c_t', 'c_pp', 'c_en', 'v_volume', 'v_densidade'])\n",
    "# Converter as colunas relevantes para numérico, se necessário\n",
    "t03p15[['TimeStep', 'c_t', 'c_pp', 'c_en', 'v_volume', 'v_densidade']] = t03p15[['TimeStep', 'c_t', 'c_pp', 'c_en', 'v_volume', 'v_densidade']].apply(pd.to_numeric)\n"
   ]
  },
  {
   "cell_type": "code",
   "execution_count": 48,
   "id": "c6f96685",
   "metadata": {},
   "outputs": [],
   "source": [
    "with open('thermodynamicst0.4p1.5.dat', 'r') as file:\n",
    "    lines = [line.strip() for line in file if not line.startswith('#')]\n",
    "\n",
    "# Dividir os dados em colunas\n",
    "data = [line.split() for line in lines]\n",
    "\n",
    "# Criar um DataFrame\n",
    "t04p15 = pd.DataFrame(data, columns=['TimeStep', 'c_t', 'c_pp', 'c_en', 'v_volume', 'v_densidade'])\n",
    "# Converter as colunas relevantes para numérico, se necessário\n",
    "t04p15[['TimeStep', 'c_t', 'c_pp', 'c_en', 'v_volume', 'v_densidade']] = t04p15[['TimeStep', 'c_t', 'c_pp', 'c_en', 'v_volume', 'v_densidade']].apply(pd.to_numeric)\n"
   ]
  },
  {
   "cell_type": "code",
   "execution_count": 49,
   "id": "9207cf43",
   "metadata": {},
   "outputs": [],
   "source": [
    "with open('thermodynamicst0.5p1.5.dat', 'r') as file:\n",
    "    lines = [line.strip() for line in file if not line.startswith('#')]\n",
    "\n",
    "# Dividir os dados em colunas\n",
    "data = [line.split() for line in lines]\n",
    "\n",
    "# Criar um DataFrame\n",
    "t05p15 = pd.DataFrame(data, columns=['TimeStep', 'c_t', 'c_pp', 'c_en', 'v_volume', 'v_densidade'])\n",
    "# Converter as colunas relevantes para numérico, se necessário\n",
    "t05p15[['TimeStep', 'c_t', 'c_pp', 'c_en', 'v_volume', 'v_densidade']] = t05p15[['TimeStep', 'c_t', 'c_pp', 'c_en', 'v_volume', 'v_densidade']].apply(pd.to_numeric)\n"
   ]
  },
  {
   "cell_type": "code",
   "execution_count": 50,
   "id": "17ba98de",
   "metadata": {},
   "outputs": [],
   "source": [
    "with open('thermodynamicst0.6p1.5.dat', 'r') as file:\n",
    "    lines = [line.strip() for line in file if not line.startswith('#')]\n",
    "\n",
    "# Dividir os dados em colunas\n",
    "data = [line.split() for line in lines]\n",
    "\n",
    "# Criar um DataFrame\n",
    "t06p15 = pd.DataFrame(data, columns=['TimeStep', 'c_t', 'c_pp', 'c_en', 'v_volume', 'v_densidade'])\n",
    "# Converter as colunas relevantes para numérico, se necessário\n",
    "t06p15[['TimeStep', 'c_t', 'c_pp', 'c_en', 'v_volume', 'v_densidade']] = t06p15[['TimeStep', 'c_t', 'c_pp', 'c_en', 'v_volume', 'v_densidade']].apply(pd.to_numeric)\n"
   ]
  },
  {
   "cell_type": "code",
   "execution_count": 51,
   "id": "e1c900f2",
   "metadata": {},
   "outputs": [],
   "source": [
    "with open('thermodynamicst0.7p1.5.dat', 'r') as file:\n",
    "    lines = [line.strip() for line in file if not line.startswith('#')]\n",
    "\n",
    "# Dividir os dados em colunas\n",
    "data = [line.split() for line in lines]\n",
    "\n",
    "# Criar um DataFrame\n",
    "t07p15 = pd.DataFrame(data, columns=['TimeStep', 'c_t', 'c_pp', 'c_en', 'v_volume', 'v_densidade'])\n",
    "# Converter as colunas relevantes para numérico, se necessário\n",
    "t07p15[['TimeStep', 'c_t', 'c_pp', 'c_en', 'v_volume', 'v_densidade']] = t07p15[['TimeStep', 'c_t', 'c_pp', 'c_en', 'v_volume', 'v_densidade']].apply(pd.to_numeric)\n"
   ]
  },
  {
   "cell_type": "code",
   "execution_count": 52,
   "id": "079b0fd3",
   "metadata": {},
   "outputs": [],
   "source": [
    "with open('thermodynamicst0.8p1.5.dat', 'r') as file:\n",
    "    lines = [line.strip() for line in file if not line.startswith('#')]\n",
    "\n",
    "# Dividir os dados em colunas\n",
    "data = [line.split() for line in lines]\n",
    "\n",
    "# Criar um DataFrame\n",
    "t08p15 = pd.DataFrame(data, columns=['TimeStep', 'c_t', 'c_pp', 'c_en', 'v_volume', 'v_densidade'])\n",
    "# Converter as colunas relevantes para numérico, se necessário\n",
    "t08p15[['TimeStep', 'c_t', 'c_pp', 'c_en', 'v_volume', 'v_densidade']] = t08p15[['TimeStep', 'c_t', 'c_pp', 'c_en', 'v_volume', 'v_densidade']].apply(pd.to_numeric)\n"
   ]
  },
  {
   "cell_type": "code",
   "execution_count": 53,
   "id": "7ae29c14",
   "metadata": {},
   "outputs": [],
   "source": [
    "with open('thermodynamicst0.9p1.5.dat', 'r') as file:\n",
    "    lines = [line.strip() for line in file if not line.startswith('#')]\n",
    "\n",
    "# Dividir os dados em colunas\n",
    "data = [line.split() for line in lines]\n",
    "\n",
    "# Criar um DataFrame\n",
    "t09p15 = pd.DataFrame(data, columns=['TimeStep', 'c_t', 'c_pp', 'c_en', 'v_volume', 'v_densidade'])\n",
    "# Converter as colunas relevantes para numérico, se necessário\n",
    "t09p15[['TimeStep', 'c_t', 'c_pp', 'c_en', 'v_volume', 'v_densidade']] = t09p15[['TimeStep', 'c_t', 'c_pp', 'c_en', 'v_volume', 'v_densidade']].apply(pd.to_numeric)\n"
   ]
  },
  {
   "cell_type": "code",
   "execution_count": 54,
   "id": "62b2f170",
   "metadata": {},
   "outputs": [],
   "source": [
    "with open('thermodynamicst1.p1.5.dat', 'r') as file:\n",
    "    lines = [line.strip() for line in file if not line.startswith('#')]\n",
    "\n",
    "# Dividir os dados em colunas\n",
    "data = [line.split() for line in lines]\n",
    "\n",
    "# Criar um DataFrame\n",
    "t1p15 = pd.DataFrame(data, columns=['TimeStep', 'c_t', 'c_pp', 'c_en', 'v_volume', 'v_densidade'])\n",
    "# Converter as colunas relevantes para numérico, se necessário\n",
    "t1p15[['TimeStep', 'c_t', 'c_pp', 'c_en', 'v_volume', 'v_densidade']] = t1p15[['TimeStep', 'c_t', 'c_pp', 'c_en', 'v_volume', 'v_densidade']].apply(pd.to_numeric)\n"
   ]
  },
  {
   "cell_type": "markdown",
   "id": "8d27197a",
   "metadata": {},
   "source": [
    "# Gerando os valores de media para p = 1.5"
   ]
  },
  {
   "cell_type": "code",
   "execution_count": 55,
   "id": "faed65b9",
   "metadata": {},
   "outputs": [],
   "source": [
    "mt15 = np.array([t01p15[\"c_t\"].mean(),t02p15[\"c_t\"].mean(),t03p15[\"c_t\"].mean(),t04p15[\"c_t\"].mean(),t05p15[\"c_t\"].mean(),t06p15[\"c_t\"].mean(),t07p15[\"c_t\"].mean(),t08p15[\"c_t\"].mean(),t09p15[\"c_t\"].mean(),t1p15[\"c_t\"].mean()])\n",
    "mph15 = np.array([t01p15[\"v_densidade\"].mean(),t02p15[\"v_densidade\"].mean(),t03p15[\"v_densidade\"].mean(),t04p15[\"v_densidade\"].mean(),t05p15[\"v_densidade\"].mean(),t06p15[\"v_densidade\"].mean(),t07p15[\"v_densidade\"].mean(),t08p15[\"v_densidade\"].mean(),t09p15[\"v_densidade\"].mean(),t1p15[\"v_densidade\"].mean()])"
   ]
  },
  {
   "cell_type": "markdown",
   "id": "aa45f69f",
   "metadata": {},
   "source": [
    "# Importando csv P= 1.6"
   ]
  },
  {
   "cell_type": "code",
   "execution_count": 56,
   "id": "51eda4da",
   "metadata": {},
   "outputs": [],
   "source": [
    "with open('thermodynamicst0.1p1.6.dat', 'r') as file:\n",
    "    lines = [line.strip() for line in file if not line.startswith('#')]\n",
    "\n",
    "# Dividir os dados em colunas\n",
    "data = [line.split() for line in lines]\n",
    "\n",
    "# Criar um DataFrame\n",
    "t01p16 = pd.DataFrame(data, columns=['TimeStep', 'c_t', 'c_pp', 'c_en', 'v_volume', 'v_densidade'])\n",
    "# Converter as colunas relevantes para numérico, se necessário\n",
    "t01p16[['TimeStep', 'c_t', 'c_pp', 'c_en', 'v_volume', 'v_densidade']] = t01p16[['TimeStep', 'c_t', 'c_pp', 'c_en', 'v_volume', 'v_densidade']].apply(pd.to_numeric)\n"
   ]
  },
  {
   "cell_type": "code",
   "execution_count": 57,
   "id": "599d9b89",
   "metadata": {},
   "outputs": [],
   "source": [
    "with open('thermodynamicst0.2p1.6.dat', 'r') as file:\n",
    "    lines = [line.strip() for line in file if not line.startswith('#')]\n",
    "\n",
    "# Dividir os dados em colunas\n",
    "data = [line.split() for line in lines]\n",
    "\n",
    "# Criar um DataFrame\n",
    "t02p16 = pd.DataFrame(data, columns=['TimeStep', 'c_t', 'c_pp', 'c_en', 'v_volume', 'v_densidade'])\n",
    "# Converter as colunas relevantes para numérico, se necessário\n",
    "t02p16[['TimeStep', 'c_t', 'c_pp', 'c_en', 'v_volume', 'v_densidade']] = t02p16[['TimeStep', 'c_t', 'c_pp', 'c_en', 'v_volume', 'v_densidade']].apply(pd.to_numeric)\n"
   ]
  },
  {
   "cell_type": "code",
   "execution_count": 58,
   "id": "11f49335",
   "metadata": {},
   "outputs": [],
   "source": [
    "with open('thermodynamicst0.3p1.6.dat', 'r') as file:\n",
    "    lines = [line.strip() for line in file if not line.startswith('#')]\n",
    "\n",
    "# Dividir os dados em colunas\n",
    "data = [line.split() for line in lines]\n",
    "\n",
    "# Criar um DataFrame\n",
    "t03p16 = pd.DataFrame(data, columns=['TimeStep', 'c_t', 'c_pp', 'c_en', 'v_volume', 'v_densidade'])\n",
    "# Converter as colunas relevantes para numérico, se necessário\n",
    "t03p16[['TimeStep', 'c_t', 'c_pp', 'c_en', 'v_volume', 'v_densidade']] = t03p16[['TimeStep', 'c_t', 'c_pp', 'c_en', 'v_volume', 'v_densidade']].apply(pd.to_numeric)\n"
   ]
  },
  {
   "cell_type": "code",
   "execution_count": 59,
   "id": "a673c502",
   "metadata": {},
   "outputs": [],
   "source": [
    "with open('thermodynamicst0.4p1.6.dat', 'r') as file:\n",
    "    lines = [line.strip() for line in file if not line.startswith('#')]\n",
    "\n",
    "# Dividir os dados em colunas\n",
    "data = [line.split() for line in lines]\n",
    "\n",
    "# Criar um DataFrame\n",
    "t04p16 = pd.DataFrame(data, columns=['TimeStep', 'c_t', 'c_pp', 'c_en', 'v_volume', 'v_densidade'])\n",
    "# Converter as colunas relevantes para numérico, se necessário\n",
    "t04p16[['TimeStep', 'c_t', 'c_pp', 'c_en', 'v_volume', 'v_densidade']] = t04p16[['TimeStep', 'c_t', 'c_pp', 'c_en', 'v_volume', 'v_densidade']].apply(pd.to_numeric)\n"
   ]
  },
  {
   "cell_type": "code",
   "execution_count": 60,
   "id": "cc78b269",
   "metadata": {},
   "outputs": [],
   "source": [
    "with open('thermodynamicst0.5p1.6.dat', 'r') as file:\n",
    "    lines = [line.strip() for line in file if not line.startswith('#')]\n",
    "\n",
    "# Dividir os dados em colunas\n",
    "data = [line.split() for line in lines]\n",
    "\n",
    "# Criar um DataFrame\n",
    "t05p16 = pd.DataFrame(data, columns=['TimeStep', 'c_t', 'c_pp', 'c_en', 'v_volume', 'v_densidade'])\n",
    "# Converter as colunas relevantes para numérico, se necessário\n",
    "t05p16[['TimeStep', 'c_t', 'c_pp', 'c_en', 'v_volume', 'v_densidade']] = t05p16[['TimeStep', 'c_t', 'c_pp', 'c_en', 'v_volume', 'v_densidade']].apply(pd.to_numeric)\n"
   ]
  },
  {
   "cell_type": "code",
   "execution_count": 61,
   "id": "4c978822",
   "metadata": {},
   "outputs": [],
   "source": [
    "with open('thermodynamicst0.6p1.6.dat', 'r') as file:\n",
    "    lines = [line.strip() for line in file if not line.startswith('#')]\n",
    "\n",
    "# Dividir os dados em colunas\n",
    "data = [line.split() for line in lines]\n",
    "\n",
    "# Criar um DataFrame\n",
    "t06p16 = pd.DataFrame(data, columns=['TimeStep', 'c_t', 'c_pp', 'c_en', 'v_volume', 'v_densidade'])\n",
    "# Converter as colunas relevantes para numérico, se necessário\n",
    "t06p16[['TimeStep', 'c_t', 'c_pp', 'c_en', 'v_volume', 'v_densidade']] = t06p16[['TimeStep', 'c_t', 'c_pp', 'c_en', 'v_volume', 'v_densidade']].apply(pd.to_numeric)\n"
   ]
  },
  {
   "cell_type": "code",
   "execution_count": 62,
   "id": "16f18ae0",
   "metadata": {},
   "outputs": [],
   "source": [
    "with open('thermodynamicst0.7p1.6.dat', 'r') as file:\n",
    "    lines = [line.strip() for line in file if not line.startswith('#')]\n",
    "\n",
    "# Dividir os dados em colunas\n",
    "data = [line.split() for line in lines]\n",
    "\n",
    "# Criar um DataFrame\n",
    "t07p16 = pd.DataFrame(data, columns=['TimeStep', 'c_t', 'c_pp', 'c_en', 'v_volume', 'v_densidade'])\n",
    "# Converter as colunas relevantes para numérico, se necessário\n",
    "t07p16[['TimeStep', 'c_t', 'c_pp', 'c_en', 'v_volume', 'v_densidade']] = t07p16[['TimeStep', 'c_t', 'c_pp', 'c_en', 'v_volume', 'v_densidade']].apply(pd.to_numeric)\n"
   ]
  },
  {
   "cell_type": "code",
   "execution_count": 63,
   "id": "e0a8258f",
   "metadata": {},
   "outputs": [],
   "source": [
    "with open('thermodynamicst0.8p1.6.dat', 'r') as file:\n",
    "    lines = [line.strip() for line in file if not line.startswith('#')]\n",
    "\n",
    "# Dividir os dados em colunas\n",
    "data = [line.split() for line in lines]\n",
    "\n",
    "# Criar um DataFrame\n",
    "t08p16 = pd.DataFrame(data, columns=['TimeStep', 'c_t', 'c_pp', 'c_en', 'v_volume', 'v_densidade'])\n",
    "# Converter as colunas relevantes para numérico, se necessário\n",
    "t08p16[['TimeStep', 'c_t', 'c_pp', 'c_en', 'v_volume', 'v_densidade']] = t08p16[['TimeStep', 'c_t', 'c_pp', 'c_en', 'v_volume', 'v_densidade']].apply(pd.to_numeric)\n"
   ]
  },
  {
   "cell_type": "code",
   "execution_count": 64,
   "id": "9b5c32e1",
   "metadata": {},
   "outputs": [],
   "source": [
    "with open('thermodynamicst0.9p1.6.dat', 'r') as file:\n",
    "    lines = [line.strip() for line in file if not line.startswith('#')]\n",
    "\n",
    "# Dividir os dados em colunas\n",
    "data = [line.split() for line in lines]\n",
    "\n",
    "# Criar um DataFrame\n",
    "t09p16 = pd.DataFrame(data, columns=['TimeStep', 'c_t', 'c_pp', 'c_en', 'v_volume', 'v_densidade'])\n",
    "# Converter as colunas relevantes para numérico, se necessário\n",
    "t09p16[['TimeStep', 'c_t', 'c_pp', 'c_en', 'v_volume', 'v_densidade']] = t09p16[['TimeStep', 'c_t', 'c_pp', 'c_en', 'v_volume', 'v_densidade']].apply(pd.to_numeric)\n"
   ]
  },
  {
   "cell_type": "code",
   "execution_count": 65,
   "id": "cc5e3fb0",
   "metadata": {},
   "outputs": [],
   "source": [
    "with open('thermodynamicst1.p1.6.dat', 'r') as file:\n",
    "    lines = [line.strip() for line in file if not line.startswith('#')]\n",
    "\n",
    "# Dividir os dados em colunas\n",
    "data = [line.split() for line in lines]\n",
    "\n",
    "# Criar um DataFrame\n",
    "t1p16 = pd.DataFrame(data, columns=['TimeStep', 'c_t', 'c_pp', 'c_en', 'v_volume', 'v_densidade'])\n",
    "# Converter as colunas relevantes para numérico, se necessário\n",
    "t1p16[['TimeStep', 'c_t', 'c_pp', 'c_en', 'v_volume', 'v_densidade']] = t1p16[['TimeStep', 'c_t', 'c_pp', 'c_en', 'v_volume', 'v_densidade']].apply(pd.to_numeric)\n"
   ]
  },
  {
   "cell_type": "markdown",
   "id": "5ccc73e1",
   "metadata": {},
   "source": [
    "# Gerando os valores de media para p = 1.6"
   ]
  },
  {
   "cell_type": "code",
   "execution_count": 66,
   "id": "58d5c1ec",
   "metadata": {},
   "outputs": [],
   "source": [
    "mt16 = np.array([t01p16[\"c_t\"].mean(),t02p16[\"c_t\"].mean(),t03p16[\"c_t\"].mean(),t04p16[\"c_t\"].mean(),t05p16[\"c_t\"].mean(),t06p16[\"c_t\"].mean(),t07p16[\"c_t\"].mean(),t08p16[\"c_t\"].mean(),t09p16[\"c_t\"].mean(),t1p16[\"c_t\"].mean()])\n",
    "mph16 = np.array([t01p16[\"v_densidade\"].mean(),t02p16[\"v_densidade\"].mean(),t03p16[\"v_densidade\"].mean(),t04p16[\"v_densidade\"].mean(),t05p16[\"v_densidade\"].mean(),t06p16[\"v_densidade\"].mean(),t07p16[\"v_densidade\"].mean(),t08p16[\"v_densidade\"].mean(),t09p16[\"v_densidade\"].mean(),t1p16[\"v_densidade\"].mean()])"
   ]
  },
  {
   "cell_type": "markdown",
   "id": "dc5a5bb6",
   "metadata": {},
   "source": [
    "# Importando csv P= 1.7"
   ]
  },
  {
   "cell_type": "code",
   "execution_count": 67,
   "id": "47e9fd96",
   "metadata": {},
   "outputs": [],
   "source": [
    "with open('thermodynamicst0.1p1.7.dat', 'r') as file:\n",
    "    lines = [line.strip() for line in file if not line.startswith('#')]\n",
    "\n",
    "# Dividir os dados em colunas\n",
    "data = [line.split() for line in lines]\n",
    "\n",
    "# Criar um DataFrame\n",
    "t01p17 = pd.DataFrame(data, columns=['TimeStep', 'c_t', 'c_pp', 'c_en', 'v_volume', 'v_densidade'])\n",
    "# Converter as colunas relevantes para numérico, se necessário\n",
    "t01p17[['TimeStep', 'c_t', 'c_pp', 'c_en', 'v_volume', 'v_densidade']] = t01p17[['TimeStep', 'c_t', 'c_pp', 'c_en', 'v_volume', 'v_densidade']].apply(pd.to_numeric)\n"
   ]
  },
  {
   "cell_type": "code",
   "execution_count": 68,
   "id": "532cef27",
   "metadata": {},
   "outputs": [],
   "source": [
    "with open('thermodynamicst0.2p1.7.dat', 'r') as file:\n",
    "    lines = [line.strip() for line in file if not line.startswith('#')]\n",
    "\n",
    "# Dividir os dados em colunas\n",
    "data = [line.split() for line in lines]\n",
    "\n",
    "# Criar um DataFrame\n",
    "t02p17 = pd.DataFrame(data, columns=['TimeStep', 'c_t', 'c_pp', 'c_en', 'v_volume', 'v_densidade'])\n",
    "# Converter as colunas relevantes para numérico, se necessário\n",
    "t02p17[['TimeStep', 'c_t', 'c_pp', 'c_en', 'v_volume', 'v_densidade']] = t02p17[['TimeStep', 'c_t', 'c_pp', 'c_en', 'v_volume', 'v_densidade']].apply(pd.to_numeric)\n"
   ]
  },
  {
   "cell_type": "code",
   "execution_count": 69,
   "id": "0c7dabfd",
   "metadata": {},
   "outputs": [],
   "source": [
    "with open('thermodynamicst0.3p1.7.dat', 'r') as file:\n",
    "    lines = [line.strip() for line in file if not line.startswith('#')]\n",
    "\n",
    "# Dividir os dados em colunas\n",
    "data = [line.split() for line in lines]\n",
    "\n",
    "# Criar um DataFrame\n",
    "t03p17 = pd.DataFrame(data, columns=['TimeStep', 'c_t', 'c_pp', 'c_en', 'v_volume', 'v_densidade'])\n",
    "# Converter as colunas relevantes para numérico, se necessário\n",
    "t03p17[['TimeStep', 'c_t', 'c_pp', 'c_en', 'v_volume', 'v_densidade']] = t03p17[['TimeStep', 'c_t', 'c_pp', 'c_en', 'v_volume', 'v_densidade']].apply(pd.to_numeric)\n"
   ]
  },
  {
   "cell_type": "code",
   "execution_count": 70,
   "id": "962569e2",
   "metadata": {},
   "outputs": [],
   "source": [
    "with open('thermodynamicst0.4p1.7.dat', 'r') as file:\n",
    "    lines = [line.strip() for line in file if not line.startswith('#')]\n",
    "\n",
    "# Dividir os dados em colunas\n",
    "data = [line.split() for line in lines]\n",
    "\n",
    "# Criar um DataFrame\n",
    "t04p17 = pd.DataFrame(data, columns=['TimeStep', 'c_t', 'c_pp', 'c_en', 'v_volume', 'v_densidade'])\n",
    "# Converter as colunas relevantes para numérico, se necessário\n",
    "t04p17[['TimeStep', 'c_t', 'c_pp', 'c_en', 'v_volume', 'v_densidade']] = t04p17[['TimeStep', 'c_t', 'c_pp', 'c_en', 'v_volume', 'v_densidade']].apply(pd.to_numeric)\n"
   ]
  },
  {
   "cell_type": "code",
   "execution_count": 71,
   "id": "df7e344d",
   "metadata": {},
   "outputs": [],
   "source": [
    "with open('thermodynamicst0.5p1.7.dat', 'r') as file:\n",
    "    lines = [line.strip() for line in file if not line.startswith('#')]\n",
    "\n",
    "# Dividir os dados em colunas\n",
    "data = [line.split() for line in lines]\n",
    "\n",
    "# Criar um DataFrame\n",
    "t05p17 = pd.DataFrame(data, columns=['TimeStep', 'c_t', 'c_pp', 'c_en', 'v_volume', 'v_densidade'])\n",
    "# Converter as colunas relevantes para numérico, se necessário\n",
    "t05p17[['TimeStep', 'c_t', 'c_pp', 'c_en', 'v_volume', 'v_densidade']] = t05p17[['TimeStep', 'c_t', 'c_pp', 'c_en', 'v_volume', 'v_densidade']].apply(pd.to_numeric)\n"
   ]
  },
  {
   "cell_type": "code",
   "execution_count": 72,
   "id": "3dd7671c",
   "metadata": {},
   "outputs": [],
   "source": [
    "with open('thermodynamicst0.6p1.7.dat', 'r') as file:\n",
    "    lines = [line.strip() for line in file if not line.startswith('#')]\n",
    "\n",
    "# Dividir os dados em colunas\n",
    "data = [line.split() for line in lines]\n",
    "\n",
    "# Criar um DataFrame\n",
    "t06p17 = pd.DataFrame(data, columns=['TimeStep', 'c_t', 'c_pp', 'c_en', 'v_volume', 'v_densidade'])\n",
    "# Converter as colunas relevantes para numérico, se necessário\n",
    "t06p17[['TimeStep', 'c_t', 'c_pp', 'c_en', 'v_volume', 'v_densidade']] = t06p17[['TimeStep', 'c_t', 'c_pp', 'c_en', 'v_volume', 'v_densidade']].apply(pd.to_numeric)\n"
   ]
  },
  {
   "cell_type": "code",
   "execution_count": 73,
   "id": "509034e6",
   "metadata": {},
   "outputs": [],
   "source": [
    "with open('thermodynamicst0.7p1.7.dat', 'r') as file:\n",
    "    lines = [line.strip() for line in file if not line.startswith('#')]\n",
    "\n",
    "# Dividir os dados em colunas\n",
    "data = [line.split() for line in lines]\n",
    "\n",
    "# Criar um DataFrame\n",
    "t07p17 = pd.DataFrame(data, columns=['TimeStep', 'c_t', 'c_pp', 'c_en', 'v_volume', 'v_densidade'])\n",
    "# Converter as colunas relevantes para numérico, se necessário\n",
    "t07p17[['TimeStep', 'c_t', 'c_pp', 'c_en', 'v_volume', 'v_densidade']] = t07p17[['TimeStep', 'c_t', 'c_pp', 'c_en', 'v_volume', 'v_densidade']].apply(pd.to_numeric)\n"
   ]
  },
  {
   "cell_type": "code",
   "execution_count": 74,
   "id": "1cd9fe2a",
   "metadata": {},
   "outputs": [],
   "source": [
    "with open('thermodynamicst0.8p1.7.dat', 'r') as file:\n",
    "    lines = [line.strip() for line in file if not line.startswith('#')]\n",
    "\n",
    "# Dividir os dados em colunas\n",
    "data = [line.split() for line in lines]\n",
    "\n",
    "# Criar um DataFrame\n",
    "t08p17 = pd.DataFrame(data, columns=['TimeStep', 'c_t', 'c_pp', 'c_en', 'v_volume', 'v_densidade'])\n",
    "# Converter as colunas relevantes para numérico, se necessário\n",
    "t08p17[['TimeStep', 'c_t', 'c_pp', 'c_en', 'v_volume', 'v_densidade']] = t08p17[['TimeStep', 'c_t', 'c_pp', 'c_en', 'v_volume', 'v_densidade']].apply(pd.to_numeric)\n"
   ]
  },
  {
   "cell_type": "code",
   "execution_count": 75,
   "id": "51dbab33",
   "metadata": {},
   "outputs": [],
   "source": [
    "with open('thermodynamicst0.9p1.7.dat', 'r') as file:\n",
    "    lines = [line.strip() for line in file if not line.startswith('#')]\n",
    "\n",
    "# Dividir os dados em colunas\n",
    "data = [line.split() for line in lines]\n",
    "\n",
    "# Criar um DataFrame\n",
    "t09p17 = pd.DataFrame(data, columns=['TimeStep', 'c_t', 'c_pp', 'c_en', 'v_volume', 'v_densidade'])\n",
    "# Converter as colunas relevantes para numérico, se necessário\n",
    "t09p17[['TimeStep', 'c_t', 'c_pp', 'c_en', 'v_volume', 'v_densidade']] = t09p17[['TimeStep', 'c_t', 'c_pp', 'c_en', 'v_volume', 'v_densidade']].apply(pd.to_numeric)\n"
   ]
  },
  {
   "cell_type": "code",
   "execution_count": 76,
   "id": "e67cd7d5",
   "metadata": {},
   "outputs": [],
   "source": [
    "with open('thermodynamicst1.p1.7.dat', 'r') as file:\n",
    "    lines = [line.strip() for line in file if not line.startswith('#')]\n",
    "\n",
    "# Dividir os dados em colunas\n",
    "data = [line.split() for line in lines]\n",
    "\n",
    "# Criar um DataFrame\n",
    "t1p17 = pd.DataFrame(data, columns=['TimeStep', 'c_t', 'c_pp', 'c_en', 'v_volume', 'v_densidade'])\n",
    "# Converter as colunas relevantes para numérico, se necessário\n",
    "t1p17[['TimeStep', 'c_t', 'c_pp', 'c_en', 'v_volume', 'v_densidade']] = t1p17[['TimeStep', 'c_t', 'c_pp', 'c_en', 'v_volume', 'v_densidade']].apply(pd.to_numeric)\n"
   ]
  },
  {
   "cell_type": "markdown",
   "id": "43f9e1aa",
   "metadata": {},
   "source": [
    "# Gerando os valores de media para P = 1.7"
   ]
  },
  {
   "cell_type": "code",
   "execution_count": 77,
   "id": "628dfe3a",
   "metadata": {},
   "outputs": [],
   "source": [
    "mt17 = np.array([t01p17[\"c_t\"].mean(),t02p17[\"c_t\"].mean(),t03p17[\"c_t\"].mean(),t04p17[\"c_t\"].mean(),t05p17[\"c_t\"].mean(),t06p17[\"c_t\"].mean(),t07p17[\"c_t\"].mean(),t08p17[\"c_t\"].mean(),t09p17[\"c_t\"].mean(),t1p17[\"c_t\"].mean()])\n",
    "mph17 = np.array([t01p17[\"v_densidade\"].mean(),t02p17[\"v_densidade\"].mean(),t03p17[\"v_densidade\"].mean(),t04p17[\"v_densidade\"].mean(),t05p17[\"v_densidade\"].mean(),t06p17[\"v_densidade\"].mean(),t07p17[\"v_densidade\"].mean(),t08p17[\"v_densidade\"].mean(),t09p17[\"v_densidade\"].mean(),t1p17[\"v_densidade\"].mean()])"
   ]
  },
  {
   "cell_type": "markdown",
   "id": "558e34fe",
   "metadata": {},
   "source": [
    "# Importando csv P= 1.9"
   ]
  },
  {
   "cell_type": "code",
   "execution_count": 78,
   "id": "07018762",
   "metadata": {},
   "outputs": [],
   "source": [
    "with open('thermodynamicst0.1p1.9.dat', 'r') as file:\n",
    "    lines = [line.strip() for line in file if not line.startswith('#')]\n",
    "\n",
    "# Dividir os dados em colunas\n",
    "data = [line.split() for line in lines]\n",
    "\n",
    "# Criar um DataFrame\n",
    "t01p19 = pd.DataFrame(data, columns=['TimeStep', 'c_t', 'c_pp', 'c_en', 'v_volume', 'v_densidade'])\n",
    "# Converter as colunas relevantes para numérico, se necessário\n",
    "t01p19[['TimeStep', 'c_t', 'c_pp', 'c_en', 'v_volume', 'v_densidade']] = t01p19[['TimeStep', 'c_t', 'c_pp', 'c_en', 'v_volume', 'v_densidade']].apply(pd.to_numeric)\n"
   ]
  },
  {
   "cell_type": "code",
   "execution_count": 79,
   "id": "7945b14e",
   "metadata": {},
   "outputs": [],
   "source": [
    "with open('thermodynamicst0.2p1.9.dat', 'r') as file:\n",
    "    lines = [line.strip() for line in file if not line.startswith('#')]\n",
    "\n",
    "# Dividir os dados em colunas\n",
    "data = [line.split() for line in lines]\n",
    "\n",
    "# Criar um DataFrame\n",
    "t02p19 = pd.DataFrame(data, columns=['TimeStep', 'c_t', 'c_pp', 'c_en', 'v_volume', 'v_densidade'])\n",
    "# Converter as colunas relevantes para numérico, se necessário\n",
    "t02p19[['TimeStep', 'c_t', 'c_pp', 'c_en', 'v_volume', 'v_densidade']] = t02p19[['TimeStep', 'c_t', 'c_pp', 'c_en', 'v_volume', 'v_densidade']].apply(pd.to_numeric)\n"
   ]
  },
  {
   "cell_type": "code",
   "execution_count": 80,
   "id": "32c59c8a",
   "metadata": {},
   "outputs": [],
   "source": [
    "with open('thermodynamicst0.3p1.9.dat', 'r') as file:\n",
    "    lines = [line.strip() for line in file if not line.startswith('#')]\n",
    "\n",
    "# Dividir os dados em colunas\n",
    "data = [line.split() for line in lines]\n",
    "\n",
    "# Criar um DataFrame\n",
    "t03p19 = pd.DataFrame(data, columns=['TimeStep', 'c_t', 'c_pp', 'c_en', 'v_volume', 'v_densidade'])\n",
    "# Converter as colunas relevantes para numérico, se necessário\n",
    "t03p19[['TimeStep', 'c_t', 'c_pp', 'c_en', 'v_volume', 'v_densidade']] = t03p19[['TimeStep', 'c_t', 'c_pp', 'c_en', 'v_volume', 'v_densidade']].apply(pd.to_numeric)\n"
   ]
  },
  {
   "cell_type": "code",
   "execution_count": 81,
   "id": "61315cc5",
   "metadata": {},
   "outputs": [],
   "source": [
    "with open('thermodynamicst0.4p1.9.dat', 'r') as file:\n",
    "    lines = [line.strip() for line in file if not line.startswith('#')]\n",
    "\n",
    "# Dividir os dados em colunas\n",
    "data = [line.split() for line in lines]\n",
    "\n",
    "# Criar um DataFrame\n",
    "t04p19 = pd.DataFrame(data, columns=['TimeStep', 'c_t', 'c_pp', 'c_en', 'v_volume', 'v_densidade'])\n",
    "# Converter as colunas relevantes para numérico, se necessário\n",
    "t04p19[['TimeStep', 'c_t', 'c_pp', 'c_en', 'v_volume', 'v_densidade']] = t04p19[['TimeStep', 'c_t', 'c_pp', 'c_en', 'v_volume', 'v_densidade']].apply(pd.to_numeric)\n"
   ]
  },
  {
   "cell_type": "code",
   "execution_count": 82,
   "id": "780c2450",
   "metadata": {},
   "outputs": [],
   "source": [
    "with open('thermodynamicst0.5p1.9.dat', 'r') as file:\n",
    "    lines = [line.strip() for line in file if not line.startswith('#')]\n",
    "\n",
    "# Dividir os dados em colunas\n",
    "data = [line.split() for line in lines]\n",
    "\n",
    "# Criar um DataFrame\n",
    "t05p19 = pd.DataFrame(data, columns=['TimeStep', 'c_t', 'c_pp', 'c_en', 'v_volume', 'v_densidade'])\n",
    "# Converter as colunas relevantes para numérico, se necessário\n",
    "t05p19[['TimeStep', 'c_t', 'c_pp', 'c_en', 'v_volume', 'v_densidade']] = t05p19[['TimeStep', 'c_t', 'c_pp', 'c_en', 'v_volume', 'v_densidade']].apply(pd.to_numeric)\n"
   ]
  },
  {
   "cell_type": "code",
   "execution_count": 83,
   "id": "1b1484bf",
   "metadata": {},
   "outputs": [],
   "source": [
    "with open('thermodynamicst0.6p1.9.dat', 'r') as file:\n",
    "    lines = [line.strip() for line in file if not line.startswith('#')]\n",
    "\n",
    "# Dividir os dados em colunas\n",
    "data = [line.split() for line in lines]\n",
    "\n",
    "# Criar um DataFrame\n",
    "t06p19 = pd.DataFrame(data, columns=['TimeStep', 'c_t', 'c_pp', 'c_en', 'v_volume', 'v_densidade'])\n",
    "# Converter as colunas relevantes para numérico, se necessário\n",
    "t06p19[['TimeStep', 'c_t', 'c_pp', 'c_en', 'v_volume', 'v_densidade']] = t06p19[['TimeStep', 'c_t', 'c_pp', 'c_en', 'v_volume', 'v_densidade']].apply(pd.to_numeric)\n"
   ]
  },
  {
   "cell_type": "code",
   "execution_count": 84,
   "id": "2644a47b",
   "metadata": {},
   "outputs": [],
   "source": [
    "with open('thermodynamicst0.7p1.9.dat', 'r') as file:\n",
    "    lines = [line.strip() for line in file if not line.startswith('#')]\n",
    "\n",
    "# Dividir os dados em colunas\n",
    "data = [line.split() for line in lines]\n",
    "\n",
    "# Criar um DataFrame\n",
    "t07p19 = pd.DataFrame(data, columns=['TimeStep', 'c_t', 'c_pp', 'c_en', 'v_volume', 'v_densidade'])\n",
    "# Converter as colunas relevantes para numérico, se necessário\n",
    "t07p19[['TimeStep', 'c_t', 'c_pp', 'c_en', 'v_volume', 'v_densidade']] = t07p19[['TimeStep', 'c_t', 'c_pp', 'c_en', 'v_volume', 'v_densidade']].apply(pd.to_numeric)\n"
   ]
  },
  {
   "cell_type": "code",
   "execution_count": 85,
   "id": "130c9100",
   "metadata": {},
   "outputs": [],
   "source": [
    "with open('thermodynamicst0.8p1.9.dat', 'r') as file:\n",
    "    lines = [line.strip() for line in file if not line.startswith('#')]\n",
    "\n",
    "# Dividir os dados em colunas\n",
    "data = [line.split() for line in lines]\n",
    "\n",
    "# Criar um DataFrame\n",
    "t08p19 = pd.DataFrame(data, columns=['TimeStep', 'c_t', 'c_pp', 'c_en', 'v_volume', 'v_densidade'])\n",
    "# Converter as colunas relevantes para numérico, se necessário\n",
    "t08p19[['TimeStep', 'c_t', 'c_pp', 'c_en', 'v_volume', 'v_densidade']] = t08p19[['TimeStep', 'c_t', 'c_pp', 'c_en', 'v_volume', 'v_densidade']].apply(pd.to_numeric)\n"
   ]
  },
  {
   "cell_type": "code",
   "execution_count": 86,
   "id": "7c94e7ef",
   "metadata": {},
   "outputs": [],
   "source": [
    "with open('thermodynamicst0.9p1.9.dat', 'r') as file:\n",
    "    lines = [line.strip() for line in file if not line.startswith('#')]\n",
    "\n",
    "# Dividir os dados em colunas\n",
    "data = [line.split() for line in lines]\n",
    "\n",
    "# Criar um DataFrame\n",
    "t09p19 = pd.DataFrame(data, columns=['TimeStep', 'c_t', 'c_pp', 'c_en', 'v_volume', 'v_densidade'])\n",
    "# Converter as colunas relevantes para numérico, se necessário\n",
    "t09p19[['TimeStep', 'c_t', 'c_pp', 'c_en', 'v_volume', 'v_densidade']] = t09p19[['TimeStep', 'c_t', 'c_pp', 'c_en', 'v_volume', 'v_densidade']].apply(pd.to_numeric)\n"
   ]
  },
  {
   "cell_type": "code",
   "execution_count": 87,
   "id": "57c1761b",
   "metadata": {},
   "outputs": [],
   "source": [
    "with open('thermodynamicst1.p1.9.dat', 'r') as file:\n",
    "    lines = [line.strip() for line in file if not line.startswith('#')]\n",
    "\n",
    "# Dividir os dados em colunas\n",
    "data = [line.split() for line in lines]\n",
    "\n",
    "# Criar um DataFrame\n",
    "t1p19 = pd.DataFrame(data, columns=['TimeStep', 'c_t', 'c_pp', 'c_en', 'v_volume', 'v_densidade'])\n",
    "# Converter as colunas relevantes para numérico, se necessário\n",
    "t1p19[['TimeStep', 'c_t', 'c_pp', 'c_en', 'v_volume', 'v_densidade']] = t1p19[['TimeStep', 'c_t', 'c_pp', 'c_en', 'v_volume', 'v_densidade']].apply(pd.to_numeric)\n"
   ]
  },
  {
   "cell_type": "markdown",
   "id": "bcfbe05d",
   "metadata": {},
   "source": [
    "# Gerando os valores de media para P = 2.0"
   ]
  },
  {
   "cell_type": "code",
   "execution_count": 88,
   "id": "1c740021",
   "metadata": {},
   "outputs": [],
   "source": [
    "mt19 = np.array([t01p19[\"c_t\"].mean(),t02p19[\"c_t\"].mean(),t03p19[\"c_t\"].mean(),t04p19[\"c_t\"].mean(),t05p19[\"c_t\"].mean(),t06p19[\"c_t\"].mean(),t07p19[\"c_t\"].mean(),t08p19[\"c_t\"].mean(),t09p19[\"c_t\"].mean(),t1p19[\"c_t\"].mean()])\n",
    "mph19 = np.array([t01p19[\"v_densidade\"].mean(),t02p19[\"v_densidade\"].mean(),t03p19[\"v_densidade\"].mean(),t04p19[\"v_densidade\"].mean(),t05p19[\"v_densidade\"].mean(),t06p19[\"v_densidade\"].mean(),t07p19[\"v_densidade\"].mean(),t08p19[\"v_densidade\"].mean(),t09p19[\"v_densidade\"].mean(),t1p19[\"v_densidade\"].mean()])"
   ]
  },
  {
   "cell_type": "markdown",
   "id": "cf34660a",
   "metadata": {},
   "source": [
    "# Importando csv P= 2.0"
   ]
  },
  {
   "cell_type": "code",
   "execution_count": 89,
   "id": "707513c1",
   "metadata": {},
   "outputs": [],
   "source": [
    "with open('thermodynamicst0.1p2.0.dat', 'r') as file:\n",
    "    lines = [line.strip() for line in file if not line.startswith('#')]\n",
    "\n",
    "# Dividir os dados em colunas\n",
    "data = [line.split() for line in lines]\n",
    "\n",
    "# Criar um DataFrame\n",
    "t01p20 = pd.DataFrame(data, columns=['TimeStep', 'c_t', 'c_pp', 'c_en', 'v_volume', 'v_densidade'])\n",
    "# Converter as colunas relevantes para numérico, se necessário\n",
    "t01p20[['TimeStep', 'c_t', 'c_pp', 'c_en', 'v_volume', 'v_densidade']] = t01p20[['TimeStep', 'c_t', 'c_pp', 'c_en', 'v_volume', 'v_densidade']].apply(pd.to_numeric)\n"
   ]
  },
  {
   "cell_type": "code",
   "execution_count": 90,
   "id": "42f7cc48",
   "metadata": {},
   "outputs": [],
   "source": [
    "with open('thermodynamicst0.2p2.0.dat', 'r') as file:\n",
    "    lines = [line.strip() for line in file if not line.startswith('#')]\n",
    "\n",
    "# Dividir os dados em colunas\n",
    "data = [line.split() for line in lines]\n",
    "\n",
    "# Criar um DataFrame\n",
    "t02p20 = pd.DataFrame(data, columns=['TimeStep', 'c_t', 'c_pp', 'c_en', 'v_volume', 'v_densidade'])\n",
    "# Converter as colunas relevantes para numérico, se necessário\n",
    "t02p20[['TimeStep', 'c_t', 'c_pp', 'c_en', 'v_volume', 'v_densidade']] = t02p20[['TimeStep', 'c_t', 'c_pp', 'c_en', 'v_volume', 'v_densidade']].apply(pd.to_numeric)\n"
   ]
  },
  {
   "cell_type": "code",
   "execution_count": 91,
   "id": "90921572",
   "metadata": {},
   "outputs": [],
   "source": [
    "with open('thermodynamicst0.3p2.0.dat', 'r') as file:\n",
    "    lines = [line.strip() for line in file if not line.startswith('#')]\n",
    "\n",
    "# Dividir os dados em colunas\n",
    "data = [line.split() for line in lines]\n",
    "\n",
    "# Criar um DataFrame\n",
    "t03p20 = pd.DataFrame(data, columns=['TimeStep', 'c_t', 'c_pp', 'c_en', 'v_volume', 'v_densidade'])\n",
    "# Converter as colunas relevantes para numérico, se necessário\n",
    "t03p20[['TimeStep', 'c_t', 'c_pp', 'c_en', 'v_volume', 'v_densidade']] = t03p20[['TimeStep', 'c_t', 'c_pp', 'c_en', 'v_volume', 'v_densidade']].apply(pd.to_numeric)\n"
   ]
  },
  {
   "cell_type": "code",
   "execution_count": 92,
   "id": "8dba1b34",
   "metadata": {},
   "outputs": [],
   "source": [
    "with open('thermodynamicst0.4p2.0.dat', 'r') as file:\n",
    "    lines = [line.strip() for line in file if not line.startswith('#')]\n",
    "\n",
    "# Dividir os dados em colunas\n",
    "data = [line.split() for line in lines]\n",
    "\n",
    "# Criar um DataFrame\n",
    "t04p20 = pd.DataFrame(data, columns=['TimeStep', 'c_t', 'c_pp', 'c_en', 'v_volume', 'v_densidade'])\n",
    "# Converter as colunas relevantes para numérico, se necessário\n",
    "t04p20[['TimeStep', 'c_t', 'c_pp', 'c_en', 'v_volume', 'v_densidade']] = t04p20[['TimeStep', 'c_t', 'c_pp', 'c_en', 'v_volume', 'v_densidade']].apply(pd.to_numeric)\n"
   ]
  },
  {
   "cell_type": "code",
   "execution_count": 93,
   "id": "be4b2e2a",
   "metadata": {},
   "outputs": [],
   "source": [
    "with open('thermodynamicst0.5p2.0.dat', 'r') as file:\n",
    "    lines = [line.strip() for line in file if not line.startswith('#')]\n",
    "\n",
    "# Dividir os dados em colunas\n",
    "data = [line.split() for line in lines]\n",
    "\n",
    "# Criar um DataFrame\n",
    "t05p20 = pd.DataFrame(data, columns=['TimeStep', 'c_t', 'c_pp', 'c_en', 'v_volume', 'v_densidade'])\n",
    "# Converter as colunas relevantes para numérico, se necessário\n",
    "t05p20[['TimeStep', 'c_t', 'c_pp', 'c_en', 'v_volume', 'v_densidade']] = t05p20[['TimeStep', 'c_t', 'c_pp', 'c_en', 'v_volume', 'v_densidade']].apply(pd.to_numeric)\n"
   ]
  },
  {
   "cell_type": "code",
   "execution_count": 94,
   "id": "dafa0a36",
   "metadata": {},
   "outputs": [],
   "source": [
    "with open('thermodynamicst0.6p2.0.dat', 'r') as file:\n",
    "    lines = [line.strip() for line in file if not line.startswith('#')]\n",
    "\n",
    "# Dividir os dados em colunas\n",
    "data = [line.split() for line in lines]\n",
    "\n",
    "# Criar um DataFrame\n",
    "t06p20 = pd.DataFrame(data, columns=['TimeStep', 'c_t', 'c_pp', 'c_en', 'v_volume', 'v_densidade'])\n",
    "# Converter as colunas relevantes para numérico, se necessário\n",
    "t06p20[['TimeStep', 'c_t', 'c_pp', 'c_en', 'v_volume', 'v_densidade']] = t06p20[['TimeStep', 'c_t', 'c_pp', 'c_en', 'v_volume', 'v_densidade']].apply(pd.to_numeric)\n"
   ]
  },
  {
   "cell_type": "code",
   "execution_count": 95,
   "id": "cdd9f36d",
   "metadata": {},
   "outputs": [],
   "source": [
    "with open('thermodynamicst0.7p2.0.dat', 'r') as file:\n",
    "    lines = [line.strip() for line in file if not line.startswith('#')]\n",
    "\n",
    "# Dividir os dados em colunas\n",
    "data = [line.split() for line in lines]\n",
    "\n",
    "# Criar um DataFrame\n",
    "t07p20 = pd.DataFrame(data, columns=['TimeStep', 'c_t', 'c_pp', 'c_en', 'v_volume', 'v_densidade'])\n",
    "# Converter as colunas relevantes para numérico, se necessário\n",
    "t07p20[['TimeStep', 'c_t', 'c_pp', 'c_en', 'v_volume', 'v_densidade']] = t07p20[['TimeStep', 'c_t', 'c_pp', 'c_en', 'v_volume', 'v_densidade']].apply(pd.to_numeric)\n"
   ]
  },
  {
   "cell_type": "code",
   "execution_count": 96,
   "id": "4aef2e8e",
   "metadata": {},
   "outputs": [],
   "source": [
    "with open('thermodynamicst0.8p2.0.dat', 'r') as file:\n",
    "    lines = [line.strip() for line in file if not line.startswith('#')]\n",
    "\n",
    "# Dividir os dados em colunas\n",
    "data = [line.split() for line in lines]\n",
    "\n",
    "# Criar um DataFrame\n",
    "t08p20 = pd.DataFrame(data, columns=['TimeStep', 'c_t', 'c_pp', 'c_en', 'v_volume', 'v_densidade'])\n",
    "# Converter as colunas relevantes para numérico, se necessário\n",
    "t08p20[['TimeStep', 'c_t', 'c_pp', 'c_en', 'v_volume', 'v_densidade']] = t08p20[['TimeStep', 'c_t', 'c_pp', 'c_en', 'v_volume', 'v_densidade']].apply(pd.to_numeric)\n"
   ]
  },
  {
   "cell_type": "code",
   "execution_count": 97,
   "id": "408adfb7",
   "metadata": {},
   "outputs": [],
   "source": [
    "with open('thermodynamicst0.9p2.0.dat', 'r') as file:\n",
    "    lines = [line.strip() for line in file if not line.startswith('#')]\n",
    "\n",
    "# Dividir os dados em colunas\n",
    "data = [line.split() for line in lines]\n",
    "\n",
    "# Criar um DataFrame\n",
    "t09p20 = pd.DataFrame(data, columns=['TimeStep', 'c_t', 'c_pp', 'c_en', 'v_volume', 'v_densidade'])\n",
    "# Converter as colunas relevantes para numérico, se necessário\n",
    "t09p20[['TimeStep', 'c_t', 'c_pp', 'c_en', 'v_volume', 'v_densidade']] = t09p20[['TimeStep', 'c_t', 'c_pp', 'c_en', 'v_volume', 'v_densidade']].apply(pd.to_numeric)\n"
   ]
  },
  {
   "cell_type": "code",
   "execution_count": 98,
   "id": "7011f854",
   "metadata": {},
   "outputs": [],
   "source": [
    "with open('thermodynamicst1.p2.0.dat', 'r') as file:\n",
    "    lines = [line.strip() for line in file if not line.startswith('#')]\n",
    "\n",
    "# Dividir os dados em colunas\n",
    "data = [line.split() for line in lines]\n",
    "\n",
    "# Criar um DataFrame\n",
    "t1p20 = pd.DataFrame(data, columns=['TimeStep', 'c_t', 'c_pp', 'c_en', 'v_volume', 'v_densidade'])\n",
    "# Converter as colunas relevantes para numérico, se necessário\n",
    "t1p20[['TimeStep', 'c_t', 'c_pp', 'c_en', 'v_volume', 'v_densidade']] = t1p20[['TimeStep', 'c_t', 'c_pp', 'c_en', 'v_volume', 'v_densidade']].apply(pd.to_numeric)\n"
   ]
  },
  {
   "cell_type": "markdown",
   "id": "cfb2fe31",
   "metadata": {},
   "source": [
    "# Gerando os valores de media para P = 1.9"
   ]
  },
  {
   "cell_type": "code",
   "execution_count": 99,
   "id": "99033f95",
   "metadata": {},
   "outputs": [],
   "source": [
    "mt20 = np.array([t01p20[\"c_t\"].mean(),t02p20[\"c_t\"].mean(),t03p20[\"c_t\"].mean(),t04p20[\"c_t\"].mean(),t05p20[\"c_t\"].mean(),t06p20[\"c_t\"].mean(),t07p20[\"c_t\"].mean(),t08p20[\"c_t\"].mean(),t09p20[\"c_t\"].mean(),t1p20[\"c_t\"].mean()])\n",
    "mph20 = np.array([t01p20[\"v_densidade\"].mean(),t02p20[\"v_densidade\"].mean(),t03p20[\"v_densidade\"].mean(),t04p20[\"v_densidade\"].mean(),t05p20[\"v_densidade\"].mean(),t06p20[\"v_densidade\"].mean(),t07p20[\"v_densidade\"].mean(),t08p20[\"v_densidade\"].mean(),t09p20[\"v_densidade\"].mean(),t1p20[\"v_densidade\"].mean()])"
   ]
  },
  {
   "cell_type": "markdown",
   "id": "45464c3c",
   "metadata": {},
   "source": [
    "# Importando csv P= 2.1"
   ]
  },
  {
   "cell_type": "code",
   "execution_count": 1,
   "id": "e48c89c2",
   "metadata": {},
   "outputs": [
    {
     "ename": "NameError",
     "evalue": "name 'pd' is not defined",
     "output_type": "error",
     "traceback": [
      "\u001b[0;31m---------------------------------------------------------------------------\u001b[0m",
      "\u001b[0;31mNameError\u001b[0m                                 Traceback (most recent call last)",
      "Cell \u001b[0;32mIn [1], line 8\u001b[0m\n\u001b[1;32m      5\u001b[0m data \u001b[38;5;241m=\u001b[39m [line\u001b[38;5;241m.\u001b[39msplit() \u001b[38;5;28;01mfor\u001b[39;00m line \u001b[38;5;129;01min\u001b[39;00m lines]\n\u001b[1;32m      7\u001b[0m \u001b[38;5;66;03m# Criar um DataFrame\u001b[39;00m\n\u001b[0;32m----> 8\u001b[0m t01p21 \u001b[38;5;241m=\u001b[39m \u001b[43mpd\u001b[49m\u001b[38;5;241m.\u001b[39mDataFrame(data, columns\u001b[38;5;241m=\u001b[39m[\u001b[38;5;124m'\u001b[39m\u001b[38;5;124mTimeStep\u001b[39m\u001b[38;5;124m'\u001b[39m, \u001b[38;5;124m'\u001b[39m\u001b[38;5;124mc_t\u001b[39m\u001b[38;5;124m'\u001b[39m, \u001b[38;5;124m'\u001b[39m\u001b[38;5;124mc_pp\u001b[39m\u001b[38;5;124m'\u001b[39m, \u001b[38;5;124m'\u001b[39m\u001b[38;5;124mc_en\u001b[39m\u001b[38;5;124m'\u001b[39m, \u001b[38;5;124m'\u001b[39m\u001b[38;5;124mv_volume\u001b[39m\u001b[38;5;124m'\u001b[39m, \u001b[38;5;124m'\u001b[39m\u001b[38;5;124mv_densidade\u001b[39m\u001b[38;5;124m'\u001b[39m])\n\u001b[1;32m      9\u001b[0m \u001b[38;5;66;03m# Converter as colunas relevantes para numérico, se necessário\u001b[39;00m\n\u001b[1;32m     10\u001b[0m t01p20[[\u001b[38;5;124m'\u001b[39m\u001b[38;5;124mTimeStep\u001b[39m\u001b[38;5;124m'\u001b[39m, \u001b[38;5;124m'\u001b[39m\u001b[38;5;124mc_t\u001b[39m\u001b[38;5;124m'\u001b[39m, \u001b[38;5;124m'\u001b[39m\u001b[38;5;124mc_pp\u001b[39m\u001b[38;5;124m'\u001b[39m, \u001b[38;5;124m'\u001b[39m\u001b[38;5;124mc_en\u001b[39m\u001b[38;5;124m'\u001b[39m, \u001b[38;5;124m'\u001b[39m\u001b[38;5;124mv_volume\u001b[39m\u001b[38;5;124m'\u001b[39m, \u001b[38;5;124m'\u001b[39m\u001b[38;5;124mv_densidade\u001b[39m\u001b[38;5;124m'\u001b[39m]] \u001b[38;5;241m=\u001b[39m t01p21[[\u001b[38;5;124m'\u001b[39m\u001b[38;5;124mTimeStep\u001b[39m\u001b[38;5;124m'\u001b[39m, \u001b[38;5;124m'\u001b[39m\u001b[38;5;124mc_t\u001b[39m\u001b[38;5;124m'\u001b[39m, \u001b[38;5;124m'\u001b[39m\u001b[38;5;124mc_pp\u001b[39m\u001b[38;5;124m'\u001b[39m, \u001b[38;5;124m'\u001b[39m\u001b[38;5;124mc_en\u001b[39m\u001b[38;5;124m'\u001b[39m, \u001b[38;5;124m'\u001b[39m\u001b[38;5;124mv_volume\u001b[39m\u001b[38;5;124m'\u001b[39m, \u001b[38;5;124m'\u001b[39m\u001b[38;5;124mv_densidade\u001b[39m\u001b[38;5;124m'\u001b[39m]]\u001b[38;5;241m.\u001b[39mapply(pd\u001b[38;5;241m.\u001b[39mto_numeric)\n",
      "\u001b[0;31mNameError\u001b[0m: name 'pd' is not defined"
     ]
    }
   ],
   "source": [
    "with open('thermodynamicst0.1p2.1.dat', 'r') as file:\n",
    "    lines = [line.strip() for line in file if not line.startswith('#')]\n",
    "\n",
    "# Dividir os dados em colunas\n",
    "data = [line.split() for line in lines]\n",
    "\n",
    "# Criar um DataFrame\n",
    "t01p21 = pd.DataFrame(data, columns=['TimeStep', 'c_t', 'c_pp', 'c_en', 'v_volume', 'v_densidade'])\n",
    "# Converter as colunas relevantes para numérico, se necessário\n",
    "t01p20[['TimeStep', 'c_t', 'c_pp', 'c_en', 'v_volume', 'v_densidade']] = t01p21[['TimeStep', 'c_t', 'c_pp', 'c_en', 'v_volume', 'v_densidade']].apply(pd.to_numeric)\n"
   ]
  },
  {
   "cell_type": "markdown",
   "id": "8baef82e",
   "metadata": {},
   "source": [
    "# Gerando os valores de media para P = 2.1"
   ]
  },
  {
   "cell_type": "code",
   "execution_count": null,
   "id": "36c27437",
   "metadata": {},
   "outputs": [],
   "source": [
    "mt21 = np.array([t01p21[\"c_t\"].mean(),t02p21[\"c_t\"].mean(),t03p21[\"c_t\"].mean(),t04p21[\"c_t\"].mean(),t05p21[\"c_t\"].mean(),t06p21[\"c_t\"].mean(),t07p21[\"c_t\"].mean(),t08p21[\"c_t\"].mean(),t09p21[\"c_t\"].mean(),t1p21[\"c_t\"].mean()])\n",
    "mph21 = np.array([t01p21[\"v_densidade\"].mean(),t02p21[\"v_densidade\"].mean(),t03p21[\"v_densidade\"].mean(),t04p21[\"v_densidade\"].mean(),t05p21[\"v_densidade\"].mean(),t06p21[\"v_densidade\"].mean(),t07p21[\"v_densidade\"].mean(),t08p21[\"v_densidade\"].mean(),t09p21[\"v_densidade\"].mean(),t1p21[\"v_densidade\"].mean()])"
   ]
  },
  {
   "cell_type": "markdown",
   "id": "9ce93be9",
   "metadata": {},
   "source": [
    "# Criando lista de maxima densidade "
   ]
  },
  {
   "cell_type": "code",
   "execution_count": 100,
   "id": "71f45799",
   "metadata": {},
   "outputs": [],
   "source": [
    "# Crie um dicionário com as listas\n",
    "#15 pontos\n",
    "maxt11 = {'T11*': mt, 'densidade11': mph}\n",
    "maxt118 = {'T118*': mt118, 'densidade118': mph118}\n",
    "\n",
    "# Crie o DataFrame\n",
    "maxt11 = pd.DataFrame(maxt11)\n",
    "maxt118 = pd.DataFrame(maxt118)\n"
   ]
  },
  {
   "cell_type": "code",
   "execution_count": 101,
   "id": "fcbc0b54",
   "metadata": {},
   "outputs": [],
   "source": [
    "# Crie um dicionário com as listas\n",
    "#10 pontos\n",
    "maxt13 = {'T13*': mt13, 'densidade13': mph13}\n",
    "maxt15 = {'T15*': mt15, 'densidade15': mph15}\n",
    "maxt16 = {'T16*': mt16, 'densidade16': mph16}\n",
    "maxt17 = {'T17*': mt17, 'densidade17': mph17}\n",
    "maxt19 = {'T19*': mt19, 'densidade19': mph19}\n",
    "maxt20 = {'T20*': mt20, 'densidade20': mph20}\n",
    "# Crie o DataFrame\n",
    "\n",
    "maxt13 = pd.DataFrame(maxt13)\n",
    "maxt15 = pd.DataFrame(maxt15)\n",
    "maxt16 = pd.DataFrame(maxt16)\n",
    "maxt19 = pd.DataFrame(maxt19)\n",
    "maxt20 = pd.DataFrame(maxt20)\n",
    "\n"
   ]
  },
  {
   "cell_type": "markdown",
   "id": "b1b8dfd1",
   "metadata": {},
   "source": [
    "# Acessando valor de densidade maxima e temp associada"
   ]
  },
  {
   "cell_type": "markdown",
   "id": "51d175a9",
   "metadata": {},
   "source": [
    "## P=1.1"
   ]
  },
  {
   "cell_type": "code",
   "execution_count": 102,
   "id": "ea9561c2",
   "metadata": {},
   "outputs": [
    {
     "name": "stdout",
     "output_type": "stream",
     "text": [
      "Temperatura associada à máxima densidade: 0.202689122325\n",
      "Densidade máxima: 0.26464376975\n"
     ]
    }
   ],
   "source": [
    "# Encontre o índice da linha com a densidade máxima\n",
    "dmt11 = maxt11['densidade11'].idxmax()\n",
    "\n",
    "# Acesse a temperatura associada ao valor máximo de densidade\n",
    "tmt11 = maxt11.loc[dmt11, 'T11*']\n",
    "densidade_maxima = maxt11['densidade11'].max()\n",
    "\n",
    "# Exiba os resultados\n",
    "print(f\"Temperatura associada à máxima densidade: {tmt11}\")\n",
    "print(f\"Densidade máxima: {densidade_maxima}\")\n"
   ]
  },
  {
   "cell_type": "markdown",
   "id": "a63b13c1",
   "metadata": {},
   "source": [
    "## P=1.18"
   ]
  },
  {
   "cell_type": "code",
   "execution_count": 103,
   "id": "43099137",
   "metadata": {},
   "outputs": [
    {
     "name": "stdout",
     "output_type": "stream",
     "text": [
      "Temperatura associada à máxima densidade: 0.20394829609999998\n",
      "Densidade máxima: 0.27545898025\n"
     ]
    }
   ],
   "source": [
    "# Encontre o índice da linha com a densidade máxima\n",
    "dmt118 = maxt118['densidade118'].idxmax()\n",
    "\n",
    "# Acesse a temperatura associada ao valor máximo de densidade\n",
    "tmt118 = maxt118.loc[dmt11, 'T118*']\n",
    "densidade_maxima = maxt118['densidade118'].max()\n",
    "\n",
    "# Exiba os resultados\n",
    "print(f\"Temperatura associada à máxima densidade: {tmt118}\")\n",
    "print(f\"Densidade máxima: {densidade_maxima}\")\n"
   ]
  },
  {
   "cell_type": "markdown",
   "id": "acb45d17",
   "metadata": {},
   "source": [
    "## P=1.3"
   ]
  },
  {
   "cell_type": "code",
   "execution_count": 104,
   "id": "147cf94b",
   "metadata": {},
   "outputs": [
    {
     "name": "stdout",
     "output_type": "stream",
     "text": [
      "Temperatura associada à máxima densidade: 0.206000455175\n",
      "Densidade máxima: 0.285936148\n"
     ]
    }
   ],
   "source": [
    "# Encontre o índice da linha com a densidade máxima\n",
    "dmt13 = maxt13['densidade13'].idxmax()\n",
    "\n",
    "# Acesse a temperatura associada ao valor máximo de densidade\n",
    "tmt13 = maxt13.loc[dmt13, 'T13*']\n",
    "densidade_maxima = maxt13['densidade13'].max()\n",
    "\n",
    "# Exiba os resultados\n",
    "print(f\"Temperatura associada à máxima densidade: {tmt13}\")\n",
    "print(f\"Densidade máxima: {densidade_maxima}\")"
   ]
  },
  {
   "cell_type": "markdown",
   "id": "321ff38c",
   "metadata": {},
   "source": [
    "## P=1.5"
   ]
  },
  {
   "cell_type": "code",
   "execution_count": 105,
   "id": "74161692",
   "metadata": {},
   "outputs": [
    {
     "name": "stdout",
     "output_type": "stream",
     "text": [
      "Temperatura associada à máxima densidade: 0.20935718075\n",
      "Densidade máxima: 0.30264572850000004\n"
     ]
    }
   ],
   "source": [
    "# Encontre o índice da linha com a densidade máxima\n",
    "dmt15 = maxt15['densidade15'].idxmax()\n",
    "\n",
    "# Acesse a teperatura associada ao valor máximo de densidade\n",
    "tmt15 = maxt15.loc[dmt15, 'T15*']\n",
    "densidade_maxima = maxt15['densidade15'].max()\n",
    "\n",
    "# Exiba os resultados\n",
    "print(f\"Temperatura associada à máxima densidade: {tmt15}\")\n",
    "print(f\"Densidade máxima: {densidade_maxima}\")"
   ]
  },
  {
   "cell_type": "markdown",
   "id": "ae854232",
   "metadata": {},
   "source": [
    "# P=1.6"
   ]
  },
  {
   "cell_type": "code",
   "execution_count": 106,
   "id": "6e0b28bd",
   "metadata": {},
   "outputs": [
    {
     "name": "stdout",
     "output_type": "stream",
     "text": [
      "Temperatura associada à máxima densidade: 0.2110033021\n",
      "Densidade máxima: 0.31795509775\n"
     ]
    }
   ],
   "source": [
    "# Encontre o índice da linha com a densidade máxima\n",
    "dmt16 = maxt16['densidade16'].idxmax()\n",
    "\n",
    "# Acesse a teperatura associada ao valor máximo de densidade\n",
    "tmt16 = maxt16.loc[dmt16, 'T16*']\n",
    "densidade_maxima = maxt16['densidade16'].max()\n",
    "\n",
    "# Exiba os resultados\n",
    "print(f\"Temperatura associada à máxima densidade: {tmt16}\")\n",
    "print(f\"Densidade máxima: {densidade_maxima}\")\n",
    "\n"
   ]
  },
  {
   "cell_type": "markdown",
   "id": "b3ddfc5f",
   "metadata": {},
   "source": [
    "# P=1.7"
   ]
  },
  {
   "cell_type": "code",
   "execution_count": 114,
   "id": "0b9d3bd9",
   "metadata": {},
   "outputs": [
    {
     "ename": "AttributeError",
     "evalue": "'numpy.ndarray' object has no attribute 'idxmax'",
     "output_type": "error",
     "traceback": [
      "\u001b[0;31m---------------------------------------------------------------------------\u001b[0m",
      "\u001b[0;31mAttributeError\u001b[0m                            Traceback (most recent call last)",
      "Cell \u001b[0;32mIn[114], line 2\u001b[0m\n\u001b[1;32m      1\u001b[0m \u001b[38;5;66;03m# Encontre o índice da linha com a densidade máxima\u001b[39;00m\n\u001b[0;32m----> 2\u001b[0m dmt17 \u001b[38;5;241m=\u001b[39m \u001b[43mmaxt17\u001b[49m\u001b[43m[\u001b[49m\u001b[38;5;124;43m'\u001b[39;49m\u001b[38;5;124;43mdensidade17\u001b[39;49m\u001b[38;5;124;43m'\u001b[39;49m\u001b[43m]\u001b[49m\u001b[38;5;241;43m.\u001b[39;49m\u001b[43midxmax\u001b[49m()\n\u001b[1;32m      4\u001b[0m \u001b[38;5;66;03m# Acesse a teperatura associada ao valor máximo de densidade\u001b[39;00m\n\u001b[1;32m      5\u001b[0m tmt17 \u001b[38;5;241m=\u001b[39m maxt17\u001b[38;5;241m.\u001b[39mloc[dmt17, \u001b[38;5;124m'\u001b[39m\u001b[38;5;124mT17*\u001b[39m\u001b[38;5;124m'\u001b[39m]\n",
      "\u001b[0;31mAttributeError\u001b[0m: 'numpy.ndarray' object has no attribute 'idxmax'"
     ]
    }
   ],
   "source": [
    "# Encontre o índice da linha com a densidade máxima\n",
    "dmt17 = maxt17['densidade17'].idxmax()\n",
    "\n",
    "# Acesse a teperatura associada ao valor máximo de densidade\n",
    "tmt17 = maxt17.loc[dmt17, 'T17*']\n",
    "densidade_maxima = maxt17['densidade17'].max()\n",
    "\n",
    "# Exiba os resultados\n",
    "print(f\"Temperatura associada à máxima densidade: {tmt17}\")\n",
    "print(f\"Densidade máxima: {densidade_maxima}\")"
   ]
  },
  {
   "cell_type": "markdown",
   "id": "c354e2c7",
   "metadata": {},
   "source": [
    "# P=1.9"
   ]
  },
  {
   "cell_type": "code",
   "execution_count": 108,
   "id": "37645330",
   "metadata": {},
   "outputs": [
    {
     "name": "stdout",
     "output_type": "stream",
     "text": [
      "Temperatura associada à máxima densidade: 0.21507147737500001\n",
      "Densidade máxima: 0.33842774600000003\n"
     ]
    }
   ],
   "source": [
    "# Encontre o índice da linha com a densidade máxima\n",
    "dmt19 = maxt19['densidade19'].idxmax()\n",
    "\n",
    "# Acesse a teperatura associada ao valor máximo de densidade\n",
    "tmt19 = maxt19.loc[dmt19, 'T19*']\n",
    "densidade_maxima = maxt19['densidade19'].max()\n",
    "\n",
    "# Exiba os resultados\n",
    "print(f\"Temperatura associada à máxima densidade: {tmt19}\")\n",
    "print(f\"Densidade máxima: {densidade_maxima}\")"
   ]
  },
  {
   "cell_type": "markdown",
   "id": "03273cad",
   "metadata": {},
   "source": [
    "# P=2.0"
   ]
  },
  {
   "cell_type": "code",
   "execution_count": 109,
   "id": "c32b2c46",
   "metadata": {},
   "outputs": [
    {
     "name": "stdout",
     "output_type": "stream",
     "text": [
      "Temperatura associada à máxima densidade: 0.216306686625\n",
      "Densidade máxima: 0.34807922125\n"
     ]
    }
   ],
   "source": [
    "# Encontre o índice da linha com a densidade máxima\n",
    "dmt20 = maxt20['densidade20'].idxmax()\n",
    "\n",
    "# Acesse a teperatura associada ao valor máximo de densidade\n",
    "tmt20 = maxt20.loc[dmt20, 'T20*']\n",
    "densidade_maxima = maxt20['densidade20'].max()\n",
    "\n",
    "# Exiba os resultados\n",
    "print(f\"Temperatura associada à máxima densidade: {tmt20}\")\n",
    "print(f\"Densidade máxima: {densidade_maxima}\")"
   ]
  },
  {
   "cell_type": "markdown",
   "id": "1a4428ff",
   "metadata": {},
   "source": [
    "### valores para plotar"
   ]
  },
  {
   "cell_type": "code",
   "execution_count": 110,
   "id": "2a650e77",
   "metadata": {},
   "outputs": [],
   "source": [
    "tmax = [0.202689122325,0.20394829609999998,0.206000455175,0.20935718075,0.2110033021,0.211864078575,0.21507147737500001,0.216306686625]\n",
    "phmax = [0.26464376975,0.27545898025,0.285936148,0.30264572850000004,0.31795509775,0.32369032575000006,0.33842774600000003,0.34807922125]"
   ]
  },
  {
   "cell_type": "markdown",
   "id": "477f8bcc",
   "metadata": {},
   "source": [
    "# Diagrama de fases"
   ]
  },
  {
   "cell_type": "code",
   "execution_count": 111,
   "id": "e31e52c3",
   "metadata": {},
   "outputs": [
    {
     "data": {
      "image/png": "[encoded data removed]",
      "text/plain": [
       "<Figure size 700x700 with 1 Axes>"
      ]
     },
     "metadata": {},
     "output_type": "display_data"
    }
   ],
   "source": [
    "# Criar uma figura e eixo\n",
    "fig, ax = plt.subplots(figsize=(7, 7))\n",
    "\n",
    "# Gráfico de dispersão com marcadores personalizados\n",
    "ax.plot(mt, mph, 'o-', color='c', markersize=8, markeredgecolor='k')\n",
    "ax.plot(mt118, mph118, 'o-', color='c',  markersize=8, markeredgecolor='k')\n",
    "ax.plot(mt13, mph13, 'o-', color='c', markersize=8, markeredgecolor='k')\n",
    "ax.plot(mt15, mph15, 'o-', color='c', markersize=8, markeredgecolor='k')\n",
    "ax.plot(mt16, mph16, 'o-', color='c', markersize=8, markeredgecolor='k')\n",
    "ax.plot(mt17, mph17, 'o-', color='c', markersize=8, markeredgecolor='k')\n",
    "ax.plot(mt19, mph19, 'o-', color='c', markersize=8, markeredgecolor='k')\n",
    "ax.plot(mt20, mph20, 'o-', color='c', markersize=8, markeredgecolor='k')\n",
    "ax.plot(tmax, phmax, 'o-', color='m', label='TMD', markersize=8, markeredgecolor='k')\n",
    "\n",
    "\n",
    "# Limites dos eixos\n",
    "ax.set_xlim(0.1,1.0)\n",
    "ax.set_ylim(0.22,0.40)\n",
    "\n",
    "# Rótulos dos eixos\n",
    "ax.set_title(\"Diagrama de Fases $|\\\\rho^* \\\\times T^*|$\", fontsize=14)\n",
    "ax.set_xlabel(\"$T^*$\", fontsize=14)\n",
    "ax.set_ylabel(\"$\\\\rho*$\", fontsize=14)\n",
    "ax.xaxis.set_major_formatter(FormatStrFormatter('%.1f'))\n",
    "#ax.yaxis.set_major_formatter(FormatStrFormatter('%.1f'))\n",
    "# Legenda\n",
    "ax.legend(loc='upper left', fontsize=12)\n",
    "\n",
    "# Personalização da grade\n",
    "ax.grid(linestyle='--', alpha=0.7)\n",
    "\n",
    "# Exibição do gráfico\n",
    "plt.show()"
   ]
  },
  {
   "cell_type": "code",
   "execution_count": null,
   "id": "276e54cb",
   "metadata": {},
   "outputs": [],
   "source": []
  },
  {
   "cell_type": "code",
   "execution_count": null,
   "id": "e0ed1b32",
   "metadata": {},
   "outputs": [],
   "source": []
  }
 ],
 "metadata": {
  "kernelspec": {
   "display_name": "Python 3 (ipykernel)",
   "language": "python",
   "name": "python3"
  },
  "language_info": {
   "codemirror_mode": {
    "name": "ipython",
    "version": 3
   },
   "file_extension": ".py",
   "mimetype": "text/x-python",
   "name": "python",
   "nbconvert_exporter": "python",
   "pygments_lexer": "ipython3",
   "version": "3.10.12"
  }
 },
 "nbformat": 4,
 "nbformat_minor": 5
}
