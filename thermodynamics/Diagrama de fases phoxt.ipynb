{
 "cells": [
  {
   "cell_type": "code",
   "execution_count": 1,
   "id": "6671be5a",
   "metadata": {},
   "outputs": [],
   "source": [
    "import pandas as pd \n",
    "import numpy as np\n",
    "import matplotlib.pyplot as plt\n",
    "from matplotlib.ticker import FixedLocator, FormatStrFormatter\n",
    "import matplotlib.pyplot as plt"
   ]
  },
  {
   "cell_type": "markdown",
   "id": "81e6b720",
   "metadata": {},
   "source": [
    "# Importando csvs p=1.1"
   ]
  },
  {
   "cell_type": "code",
   "execution_count": 2,
   "id": "40d6abd0",
   "metadata": {},
   "outputs": [],
   "source": [
    "with open('thermodynamicst0.01p1.1.dat', 'r') as file:\n",
    "    lines = [line.strip() for line in file if not line.startswith('#')]\n",
    "\n",
    "# Dividir os dados em colunas\n",
    "data = [line.split() for line in lines]\n",
    "\n",
    "# Criar um DataFrame\n",
    "t001p11 = pd.DataFrame(data, columns=['TimeStep', 'c_t', 'c_pp', 'c_en', 'v_volume', 'v_densidade'])\n",
    "\n",
    "# Converter as colunas relevantes para numérico, se necessário\n",
    "t001p11[['TimeStep', 'c_t', 'c_pp', 'c_en', 'v_volume', 'v_densidade']] = t001p11[['TimeStep', 'c_t', 'c_pp', 'c_en', 'v_volume', 'v_densidade']].apply(pd.to_numeric)\n",
    "\n"
   ]
  },
  {
   "cell_type": "code",
   "execution_count": 3,
   "id": "5d2b8c24",
   "metadata": {},
   "outputs": [],
   "source": [
    "with open('thermodynamicst0.02p1.1.dat', 'r') as file:\n",
    "    lines = [line.strip() for line in file if not line.startswith('#')]\n",
    "\n",
    "# Dividir os dados em colunas\n",
    "data = [line.split() for line in lines]\n",
    "\n",
    "# Criar um DataFrame\n",
    "t002p11 = pd.DataFrame(data, columns=['TimeStep', 'c_t', 'c_pp', 'c_en', 'v_volume', 'v_densidade'])\n",
    "\n",
    "# Converter as colunas relevantes para numérico, se necessário\n",
    "t002p11[['TimeStep', 'c_t', 'c_pp', 'c_en', 'v_volume', 'v_densidade']] = t002p11[['TimeStep', 'c_t', 'c_pp', 'c_en', 'v_volume', 'v_densidade']].apply(pd.to_numeric)\n",
    "\n"
   ]
  },
  {
   "cell_type": "code",
   "execution_count": 4,
   "id": "14d4e18f",
   "metadata": {},
   "outputs": [],
   "source": [
    "#with open('thermodynamicst0.025p1.1.dat', 'r') as file:\n",
    "#    lines = [line.strip() for line in file if not line.startswith('#')]\n",
    "#\n",
    "## Dividir os dados em colunas\n",
    "#data = [line.split() for line in lines]\n",
    "#\n",
    "## Criar um DataFrame\n",
    "#t0025p11 = pd.DataFrame(data, columns=['TimeStep', 'c_t', 'c_pp', 'c_en', 'v_volume', 'v_densidade'])\n",
    "#\n",
    "## Converter as colunas relevantes para numérico, se necessário\n",
    "#t0025p11[['TimeStep', 'c_t', 'c_pp', 'c_en', 'v_volume', 'v_densidade']] = t0025p11[['TimeStep', 'c_t', 'c_pp', 'c_en', 'v_volume', 'v_densidade']].apply(pd.to_numeric)\n",
    "#t0025p11.describe()\n",
    "#"
   ]
  },
  {
   "cell_type": "code",
   "execution_count": 5,
   "id": "1dad9768",
   "metadata": {},
   "outputs": [],
   "source": [
    "with open('thermodynamicst0.03p1.1.dat', 'r') as file:\n",
    "    lines = [line.strip() for line in file if not line.startswith('#')]\n",
    "\n",
    "# Dividir os dados em colunas\n",
    "data = [line.split() for line in lines]\n",
    "\n",
    "# Criar um DataFrame\n",
    "t003p11 = pd.DataFrame(data, columns=['TimeStep', 'c_t', 'c_pp', 'c_en', 'v_volume', 'v_densidade'])\n",
    "\n",
    "# Converter as colunas relevantes para numérico, se necessário\n",
    "t003p11[['TimeStep', 'c_t', 'c_pp', 'c_en', 'v_volume', 'v_densidade']] = t003p11[['TimeStep', 'c_t', 'c_pp', 'c_en', 'v_volume', 'v_densidade']].apply(pd.to_numeric)\n",
    "\n"
   ]
  },
  {
   "cell_type": "code",
   "execution_count": 6,
   "id": "d84c24f1",
   "metadata": {},
   "outputs": [],
   "source": [
    "with open('thermodynamicst0.05p1.1.dat', 'r') as file:\n",
    "    lines = [line.strip() for line in file if not line.startswith('#')]\n",
    "\n",
    "# Dividir os dados em colunas\n",
    "data = [line.split() for line in lines]\n",
    "\n",
    "# Criar um DataFrame\n",
    "t005p11 = pd.DataFrame(data, columns=['TimeStep', 'c_t', 'c_pp', 'c_en', 'v_volume', 'v_densidade'])\n",
    "\n",
    "# Converter as colunas relevantes para numérico, se necessário\n",
    "t005p11[['TimeStep', 'c_t', 'c_pp', 'c_en', 'v_volume', 'v_densidade']] = t005p11[['TimeStep', 'c_t', 'c_pp', 'c_en', 'v_volume', 'v_densidade']].apply(pd.to_numeric)\n",
    "\n"
   ]
  },
  {
   "cell_type": "code",
   "execution_count": 7,
   "id": "2740e77d",
   "metadata": {},
   "outputs": [],
   "source": [
    "with open('thermodynamicst0.075p1.1.dat', 'r') as file:\n",
    "    lines = [line.strip() for line in file if not line.startswith('#')]\n",
    "\n",
    "# Dividir os dados em colunas\n",
    "data = [line.split() for line in lines]\n",
    "\n",
    "# Criar um DataFrame\n",
    "t0075p11 = pd.DataFrame(data, columns=['TimeStep', 'c_t', 'c_pp', 'c_en', 'v_volume', 'v_densidade'])\n",
    "\n",
    "# Converter as colunas relevantes para numérico, se necessário\n",
    "t0075p11[['TimeStep', 'c_t', 'c_pp', 'c_en', 'v_volume', 'v_densidade']] = t0075p11[['TimeStep', 'c_t', 'c_pp', 'c_en', 'v_volume', 'v_densidade']].apply(pd.to_numeric)\n",
    "\n"
   ]
  },
  {
   "cell_type": "code",
   "execution_count": 8,
   "id": "238f529d",
   "metadata": {},
   "outputs": [],
   "source": [
    "with open('thermodynamicst0.1p1.1.dat', 'r') as file:\n",
    "    lines = [line.strip() for line in file if not line.startswith('#')]\n",
    "\n",
    "# Dividir os dados em colunas\n",
    "data = [line.split() for line in lines]\n",
    "\n",
    "# Criar um DataFrame\n",
    "t01p11 = pd.DataFrame(data, columns=['TimeStep', 'c_t', 'c_pp', 'c_en', 'v_volume', 'v_densidade'])\n",
    "\n",
    "# Converter as colunas relevantes para numérico, se necessário\n",
    "t01p11[['TimeStep', 'c_t', 'c_pp', 'c_en', 'v_volume', 'v_densidade']] = t01p11[['TimeStep', 'c_t', 'c_pp', 'c_en', 'v_volume', 'v_densidade']].apply(pd.to_numeric)\n",
    "\n"
   ]
  },
  {
   "cell_type": "code",
   "execution_count": 9,
   "id": "c246f9f0",
   "metadata": {},
   "outputs": [],
   "source": [
    "with open('thermodynamicst0.15p1.1.dat', 'r') as file:\n",
    "    lines = [line.strip() for line in file if not line.startswith('#')]\n",
    "\n",
    "# Dividir os dados em colunas\n",
    "data = [line.split() for line in lines]\n",
    "\n",
    "# Criar um DataFrame\n",
    "t015p11 = pd.DataFrame(data, columns=['TimeStep', 'c_t', 'c_pp', 'c_en', 'v_volume', 'v_densidade'])\n",
    "\n",
    "# Converter as colunas relevantes para numérico, se necessário\n",
    "t015p11[['TimeStep', 'c_t', 'c_pp', 'c_en', 'v_volume', 'v_densidade']] = t015p11[['TimeStep', 'c_t', 'c_pp', 'c_en', 'v_volume', 'v_densidade']].apply(pd.to_numeric)\n"
   ]
  },
  {
   "cell_type": "code",
   "execution_count": 10,
   "id": "1ab2d849",
   "metadata": {},
   "outputs": [],
   "source": [
    "with open('thermodynamicst0.2p1.1.dat', 'r') as file:\n",
    "    lines = [line.strip() for line in file if not line.startswith('#')]\n",
    "\n",
    "# Dividir os dados em colunas\n",
    "data = [line.split() for line in lines]\n",
    "\n",
    "# Criar um DataFrame\n",
    "t02p11 = pd.DataFrame(data, columns=['TimeStep', 'c_t', 'c_pp', 'c_en', 'v_volume', 'v_densidade'])\n",
    "\n",
    "# Converter as colunas relevantes para numérico, se necessário\n",
    "t02p11[['TimeStep', 'c_t', 'c_pp', 'c_en', 'v_volume', 'v_densidade']] = t02p11[['TimeStep', 'c_t', 'c_pp', 'c_en', 'v_volume', 'v_densidade']].apply(pd.to_numeric)\n"
   ]
  },
  {
   "cell_type": "code",
   "execution_count": 11,
   "id": "14c948b4",
   "metadata": {},
   "outputs": [],
   "source": [
    "with open('thermodynamicst0.25p1.1.dat', 'r') as file:\n",
    "    lines = [line.strip() for line in file if not line.startswith('#')]\n",
    "\n",
    "# Dividir os dados em colunas\n",
    "data = [line.split() for line in lines]\n",
    "\n",
    "# Criar um DataFrame\n",
    "t025p11 = pd.DataFrame(data, columns=['TimeStep', 'c_t', 'c_pp', 'c_en', 'v_volume', 'v_densidade'])\n",
    "# Converter as colunas relevantes para numérico, se necessário\n",
    "t025p11[['TimeStep', 'c_t', 'c_pp', 'c_en', 'v_volume', 'v_densidade']] = t025p11[['TimeStep', 'c_t', 'c_pp', 'c_en', 'v_volume', 'v_densidade']].apply(pd.to_numeric)\n"
   ]
  },
  {
   "cell_type": "code",
   "execution_count": 12,
   "id": "b0c690b6",
   "metadata": {},
   "outputs": [],
   "source": [
    "with open('thermodynamicst0.3p1.1.dat', 'r') as file:\n",
    "    lines = [line.strip() for line in file if not line.startswith('#')]\n",
    "\n",
    "# Dividir os dados em colunas\n",
    "data = [line.split() for line in lines]\n",
    "\n",
    "# Criar um DataFrame\n",
    "t03p11 = pd.DataFrame(data, columns=['TimeStep', 'c_t', 'c_pp', 'c_en', 'v_volume', 'v_densidade'])\n",
    "# Converter as colunas relevantes para numérico, se necessário\n",
    "t03p11[['TimeStep', 'c_t', 'c_pp', 'c_en', 'v_volume', 'v_densidade']] = t03p11[['TimeStep', 'c_t', 'c_pp', 'c_en', 'v_volume', 'v_densidade']].apply(pd.to_numeric)\n"
   ]
  },
  {
   "cell_type": "code",
   "execution_count": 13,
   "id": "2f17f339",
   "metadata": {},
   "outputs": [],
   "source": [
    "with open('thermodynamicst0.35p1.1.dat', 'r') as file:\n",
    "    lines = [line.strip() for line in file if not line.startswith('#')]\n",
    "\n",
    "# Dividir os dados em colunas\n",
    "data = [line.split() for line in lines]\n",
    "\n",
    "# Criar um DataFrame\n",
    "t035p11 = pd.DataFrame(data, columns=['TimeStep', 'c_t', 'c_pp', 'c_en', 'v_volume', 'v_densidade'])\n",
    "# Converter as colunas relevantes para numérico, se necessário\n",
    "t035p11[['TimeStep', 'c_t', 'c_pp', 'c_en', 'v_volume', 'v_densidade']] = t035p11[['TimeStep', 'c_t', 'c_pp', 'c_en', 'v_volume', 'v_densidade']].apply(pd.to_numeric)\n"
   ]
  },
  {
   "cell_type": "code",
   "execution_count": 14,
   "id": "9b6008b5",
   "metadata": {},
   "outputs": [],
   "source": [
    "with open('thermodynamicst0.4p1.1.dat', 'r') as file:\n",
    "    lines = [line.strip() for line in file if not line.startswith('#')]\n",
    "\n",
    "# Dividir os dados em colunas\n",
    "data = [line.split() for line in lines]\n",
    "\n",
    "# Criar um DataFrame\n",
    "t04p11 = pd.DataFrame(data, columns=['TimeStep', 'c_t', 'c_pp', 'c_en', 'v_volume', 'v_densidade'])\n",
    "# Converter as colunas relevantes para numérico, se necessário\n",
    "t04p11[['TimeStep', 'c_t', 'c_pp', 'c_en', 'v_volume', 'v_densidade']] = t04p11[['TimeStep', 'c_t', 'c_pp', 'c_en', 'v_volume', 'v_densidade']].apply(pd.to_numeric)\n"
   ]
  },
  {
   "cell_type": "code",
   "execution_count": 15,
   "id": "b5dc6923",
   "metadata": {},
   "outputs": [],
   "source": [
    "with open('thermodynamicst0.5p1.1.dat', 'r') as file:\n",
    "    lines = [line.strip() for line in file if not line.startswith('#')]\n",
    "\n",
    "# Dividir os dados em colunas\n",
    "data = [line.split() for line in lines]\n",
    "\n",
    "# Criar um DataFrame\n",
    "t05p11 = pd.DataFrame(data, columns=['TimeStep', 'c_t', 'c_pp', 'c_en', 'v_volume', 'v_densidade'])\n",
    "# Converter as colunas relevantes para numérico, se necessário\n",
    "t05p11[['TimeStep', 'c_t', 'c_pp', 'c_en', 'v_volume', 'v_densidade']] = t05p11[['TimeStep', 'c_t', 'c_pp', 'c_en', 'v_volume', 'v_densidade']].apply(pd.to_numeric)\n"
   ]
  },
  {
   "cell_type": "code",
   "execution_count": 16,
   "id": "a530668c",
   "metadata": {},
   "outputs": [],
   "source": [
    "with open('thermodynamicst0.55p1.1.dat', 'r') as file:\n",
    "    lines = [line.strip() for line in file if not line.startswith('#')]\n",
    "\n",
    "# Dividir os dados em colunas\n",
    "data = [line.split() for line in lines]\n",
    "\n",
    "# Criar um DataFrame\n",
    "t055p11 = pd.DataFrame(data, columns=['TimeStep', 'c_t', 'c_pp', 'c_en', 'v_volume', 'v_densidade'])\n",
    "# Converter as colunas relevantes para numérico, se necessário\n",
    "t055p11[['TimeStep', 'c_t', 'c_pp', 'c_en', 'v_volume', 'v_densidade']] = t055p11[['TimeStep', 'c_t', 'c_pp', 'c_en', 'v_volume', 'v_densidade']].apply(pd.to_numeric)\n"
   ]
  },
  {
   "cell_type": "code",
   "execution_count": 17,
   "id": "bf2b8635",
   "metadata": {},
   "outputs": [],
   "source": [
    "with open('thermodynamicst0.6p1.1.dat', 'r') as file:\n",
    "    lines = [line.strip() for line in file if not line.startswith('#')]\n",
    "\n",
    "# Dividir os dados em colunas\n",
    "data = [line.split() for line in lines]\n",
    "\n",
    "# Criar um DataFrame\n",
    "t06p11 = pd.DataFrame(data, columns=['TimeStep', 'c_t', 'c_pp', 'c_en', 'v_volume', 'v_densidade'])\n",
    "# Converter as colunas relevantes para numérico, se necessário\n",
    "t06p11[['TimeStep', 'c_t', 'c_pp', 'c_en', 'v_volume', 'v_densidade']] = t06p11[['TimeStep', 'c_t', 'c_pp', 'c_en', 'v_volume', 'v_densidade']].apply(pd.to_numeric)\n"
   ]
  },
  {
   "cell_type": "code",
   "execution_count": 18,
   "id": "a6613b85",
   "metadata": {},
   "outputs": [],
   "source": [
    "with open('thermodynamicst0.7p1.1.dat', 'r') as file:\n",
    "    lines = [line.strip() for line in file if not line.startswith('#')]\n",
    "\n",
    "# Dividir os dados em colunas\n",
    "data = [line.split() for line in lines]\n",
    "\n",
    "# Criar um DataFrame\n",
    "t07p11 = pd.DataFrame(data, columns=['TimeStep', 'c_t', 'c_pp', 'c_en', 'v_volume', 'v_densidade'])\n",
    "# Converter as colunas relevantes para numérico, se necessário\n",
    "t07p11[['TimeStep', 'c_t', 'c_pp', 'c_en', 'v_volume', 'v_densidade']] = t07p11[['TimeStep', 'c_t', 'c_pp', 'c_en', 'v_volume', 'v_densidade']].apply(pd.to_numeric)\n"
   ]
  },
  {
   "cell_type": "code",
   "execution_count": 19,
   "id": "41827e46",
   "metadata": {},
   "outputs": [],
   "source": [
    "with open('thermodynamicst0.8p1.1.dat', 'r') as file:\n",
    "    lines = [line.strip() for line in file if not line.startswith('#')]\n",
    "\n",
    "# Dividir os dados em colunas\n",
    "data = [line.split() for line in lines]\n",
    "\n",
    "# Criar um DataFrame\n",
    "t08p11 = pd.DataFrame(data, columns=['TimeStep', 'c_t', 'c_pp', 'c_en', 'v_volume', 'v_densidade'])\n",
    "# Converter as colunas relevantes para numérico, se necessário\n",
    "t08p11[['TimeStep', 'c_t', 'c_pp', 'c_en', 'v_volume', 'v_densidade']] = t08p11[['TimeStep', 'c_t', 'c_pp', 'c_en', 'v_volume', 'v_densidade']].apply(pd.to_numeric)\n"
   ]
  },
  {
   "cell_type": "code",
   "execution_count": 20,
   "id": "78238bdc",
   "metadata": {},
   "outputs": [],
   "source": [
    "with open('thermodynamicst0.9p1.1.dat', 'r') as file:\n",
    "    lines = [line.strip() for line in file if not line.startswith('#')]\n",
    "\n",
    "# Dividir os dados em colunas\n",
    "data = [line.split() for line in lines]\n",
    "\n",
    "# Criar um DataFrame\n",
    "t09p11 = pd.DataFrame(data, columns=['TimeStep', 'c_t', 'c_pp', 'c_en', 'v_volume', 'v_densidade'])\n",
    "# Converter as colunas relevantes para numérico, se necessário\n",
    "t09p11[['TimeStep', 'c_t', 'c_pp', 'c_en', 'v_volume', 'v_densidade']] = t09p11[['TimeStep', 'c_t', 'c_pp', 'c_en', 'v_volume', 'v_densidade']].apply(pd.to_numeric)\n"
   ]
  },
  {
   "cell_type": "code",
   "execution_count": 21,
   "id": "45da2e5d",
   "metadata": {},
   "outputs": [],
   "source": [
    "with open('thermodynamicst0.95p1.1.dat', 'r') as file:\n",
    "    lines = [line.strip() for line in file if not line.startswith('#')]\n",
    "\n",
    "# Dividir os dados em colunas\n",
    "data = [line.split() for line in lines]\n",
    "\n",
    "# Criar um DataFrame\n",
    "t095p11 = pd.DataFrame(data, columns=['TimeStep', 'c_t', 'c_pp', 'c_en', 'v_volume', 'v_densidade'])\n",
    "# Converter as colunas relevantes para numérico, se necessário\n",
    "t095p11[['TimeStep', 'c_t', 'c_pp', 'c_en', 'v_volume', 'v_densidade']] = t095p11[['TimeStep', 'c_t', 'c_pp', 'c_en', 'v_volume', 'v_densidade']].apply(pd.to_numeric)\n"
   ]
  },
  {
   "cell_type": "code",
   "execution_count": 22,
   "id": "e0c11b51",
   "metadata": {},
   "outputs": [],
   "source": [
    "with open('thermodynamicst1.0p1.1.dat', 'r') as file:\n",
    "    lines = [line.strip() for line in file if not line.startswith('#')]\n",
    "\n",
    "# Dividir os dados em colunas\n",
    "data = [line.split() for line in lines]\n",
    "\n",
    "# Criar um DataFrame\n",
    "t10p11 = pd.DataFrame(data, columns=['TimeStep', 'c_t', 'c_pp', 'c_en', 'v_volume', 'v_densidade'])\n",
    "# Converter as colunas relevantes para numérico, se necessário\n",
    "t10p11[['TimeStep', 'c_t', 'c_pp', 'c_en', 'v_volume', 'v_densidade']] = t10p11[['TimeStep', 'c_t', 'c_pp', 'c_en', 'v_volume', 'v_densidade']].apply(pd.to_numeric)\n"
   ]
  },
  {
   "cell_type": "markdown",
   "id": "8858fafa",
   "metadata": {},
   "source": [
    "# Gerando os valores de media para p = 1.1"
   ]
  },
  {
   "cell_type": "code",
   "execution_count": 23,
   "id": "7c1e9764",
   "metadata": {},
   "outputs": [
    {
     "data": {
      "text/plain": [
       "array([0.26856592, 0.27123842, 0.27046765, 0.26897284, 0.26404597,\n",
       "       0.26464377, 0.26402183, 0.2637946 , 0.26069025, 0.2580469 ,\n",
       "       0.25376804, 0.249606  , 0.24095039, 0.23666985, 0.22983893,\n",
       "       0.22649185, 0.22393241, 0.21507125, 0.21263123, 0.21280194])"
      ]
     },
     "execution_count": 23,
     "metadata": {},
     "output_type": "execute_result"
    }
   ],
   "source": [
    "mt = np.array([t001p11[\"c_t\"].mean(),t002p11[\"c_t\"].mean(),t003p11[\"c_t\"].mean(),t005p11[\"c_t\"].mean(),t0075p11[\"c_t\"].mean(),t01p11[\"c_t\"].mean(),t015p11[\"c_t\"].mean(),t02p11[\"c_t\"].mean(),t025p11[\"c_t\"].mean(),t03p11[\"c_t\"].mean(),t035p11[\"c_t\"].mean(),t04p11[\"c_t\"].mean(),t05p11[\"c_t\"].mean(),t055p11[\"c_t\"].mean(),t06p11[\"c_t\"].mean(),t07p11[\"c_t\"].mean(),t08p11[\"c_t\"].mean(),t09p11[\"c_t\"].mean(),t095p11[\"c_t\"].mean(),t10p11[\"c_t\"].mean() ])\n",
    "mph= np.array([t001p11[\"v_densidade\"].mean(),t002p11[\"v_densidade\"].mean(),t003p11[\"v_densidade\"].mean(),t005p11[\"v_densidade\"].mean(),t0075p11[\"v_densidade\"].mean(),t01p11[\"v_densidade\"].mean(),t015p11[\"v_densidade\"].mean(),t02p11[\"v_densidade\"].mean(),t025p11[\"v_densidade\"].mean(),t03p11[\"v_densidade\"].mean(),t035p11[\"v_densidade\"].mean(),t04p11[\"v_densidade\"].mean(),t05p11[\"v_densidade\"].mean(),t055p11[\"v_densidade\"].mean(),t06p11[\"v_densidade\"].mean(),t07p11[\"v_densidade\"].mean(),t08p11[\"v_densidade\"].mean(),t09p11[\"v_densidade\"].mean(),t095p11[\"v_densidade\"].mean(),t10p11[\"v_densidade\"].mean() ])\n",
    "mph"
   ]
  },
  {
   "cell_type": "markdown",
   "id": "f313f691",
   "metadata": {},
   "source": [
    "# Importando csvs p=1.18"
   ]
  },
  {
   "cell_type": "code",
   "execution_count": 24,
   "id": "b302d6b6",
   "metadata": {},
   "outputs": [],
   "source": [
    "with open('thermodynamicst0.1p1.18.dat', 'r') as file:\n",
    "    lines = [line.strip() for line in file if not line.startswith('#')]\n",
    "\n",
    "# Dividir os dados em colunas\n",
    "data = [line.split() for line in lines]\n",
    "\n",
    "# Criar um DataFrame\n",
    "t01p118 = pd.DataFrame(data, columns=['TimeStep', 'c_t', 'c_pp', 'c_en', 'v_volume', 'v_densidade'])\n",
    "\n",
    "# Converter as colunas relevantes para numérico, se necessário\n",
    "t01p118[['TimeStep', 'c_t', 'c_pp', 'c_en', 'v_volume', 'v_densidade']] = t01p118[['TimeStep', 'c_t', 'c_pp', 'c_en', 'v_volume', 'v_densidade']].apply(pd.to_numeric)\n",
    "\n"
   ]
  },
  {
   "cell_type": "code",
   "execution_count": 25,
   "id": "25aa4c35",
   "metadata": {},
   "outputs": [],
   "source": [
    "with open('thermodynamicst0.15p1.18.dat', 'r') as file:\n",
    "    lines = [line.strip() for line in file if not line.startswith('#')]\n",
    "\n",
    "# Dividir os dados em colunas\n",
    "data = [line.split() for line in lines]\n",
    "\n",
    "# Criar um DataFrame\n",
    "t015p118 = pd.DataFrame(data, columns=['TimeStep', 'c_t', 'c_pp', 'c_en', 'v_volume', 'v_densidade'])\n",
    "\n",
    "# Converter as colunas relevantes para numérico, se necessário\n",
    "t015p118[['TimeStep', 'c_t', 'c_pp', 'c_en', 'v_volume', 'v_densidade']] = t015p118[['TimeStep', 'c_t', 'c_pp', 'c_en', 'v_volume', 'v_densidade']].apply(pd.to_numeric)\n"
   ]
  },
  {
   "cell_type": "code",
   "execution_count": 26,
   "id": "aae23f1f",
   "metadata": {},
   "outputs": [],
   "source": [
    "with open('thermodynamicst0.2p1.18.dat', 'r') as file:\n",
    "    lines = [line.strip() for line in file if not line.startswith('#')]\n",
    "\n",
    "# Dividir os dados em colunas\n",
    "data = [line.split() for line in lines]\n",
    "\n",
    "# Criar um DataFrame\n",
    "t02p118 = pd.DataFrame(data, columns=['TimeStep', 'c_t', 'c_pp', 'c_en', 'v_volume', 'v_densidade'])\n",
    "\n",
    "# Converter as colunas relevantes para numérico, se necessário\n",
    "t02p118[['TimeStep', 'c_t', 'c_pp', 'c_en', 'v_volume', 'v_densidade']] = t02p118[['TimeStep', 'c_t', 'c_pp', 'c_en', 'v_volume', 'v_densidade']].apply(pd.to_numeric)\n"
   ]
  },
  {
   "cell_type": "code",
   "execution_count": 27,
   "id": "c96ac6d8",
   "metadata": {},
   "outputs": [],
   "source": [
    "with open('thermodynamicst0.25p1.18.dat', 'r') as file:\n",
    "    lines = [line.strip() for line in file if not line.startswith('#')]\n",
    "\n",
    "# Dividir os dados em colunas\n",
    "data = [line.split() for line in lines]\n",
    "\n",
    "# Criar um DataFrame\n",
    "t025p118 = pd.DataFrame(data, columns=['TimeStep', 'c_t', 'c_pp', 'c_en', 'v_volume', 'v_densidade'])\n",
    "# Converter as colunas relevantes para numérico, se necessário\n",
    "t025p118[['TimeStep', 'c_t', 'c_pp', 'c_en', 'v_volume', 'v_densidade']] = t025p118[['TimeStep', 'c_t', 'c_pp', 'c_en', 'v_volume', 'v_densidade']].apply(pd.to_numeric)\n"
   ]
  },
  {
   "cell_type": "code",
   "execution_count": 28,
   "id": "32649df3",
   "metadata": {},
   "outputs": [],
   "source": [
    "with open('thermodynamicst0.3p1.18.dat', 'r') as file:\n",
    "    lines = [line.strip() for line in file if not line.startswith('#')]\n",
    "\n",
    "# Dividir os dados em colunas\n",
    "data = [line.split() for line in lines]\n",
    "\n",
    "# Criar um DataFrame\n",
    "t03p118 = pd.DataFrame(data, columns=['TimeStep', 'c_t', 'c_pp', 'c_en', 'v_volume', 'v_densidade'])\n",
    "# Converter as colunas relevantes para numérico, se necessário\n",
    "t03p118[['TimeStep', 'c_t', 'c_pp', 'c_en', 'v_volume', 'v_densidade']] = t03p118[['TimeStep', 'c_t', 'c_pp', 'c_en', 'v_volume', 'v_densidade']].apply(pd.to_numeric)\n"
   ]
  },
  {
   "cell_type": "code",
   "execution_count": 29,
   "id": "0f222f1f",
   "metadata": {},
   "outputs": [],
   "source": [
    "with open('thermodynamicst0.35p1.18.dat', 'r') as file:\n",
    "    lines = [line.strip() for line in file if not line.startswith('#')]\n",
    "\n",
    "# Dividir os dados em colunas\n",
    "data = [line.split() for line in lines]\n",
    "\n",
    "# Criar um DataFrame\n",
    "t035p118 = pd.DataFrame(data, columns=['TimeStep', 'c_t', 'c_pp', 'c_en', 'v_volume', 'v_densidade'])\n",
    "# Converter as colunas relevantes para numérico, se necessário\n",
    "t035p118[['TimeStep', 'c_t', 'c_pp', 'c_en', 'v_volume', 'v_densidade']] = t035p118[['TimeStep', 'c_t', 'c_pp', 'c_en', 'v_volume', 'v_densidade']].apply(pd.to_numeric)\n"
   ]
  },
  {
   "cell_type": "code",
   "execution_count": 30,
   "id": "6f7208fc",
   "metadata": {},
   "outputs": [],
   "source": [
    "with open('thermodynamicst0.4p1.18.dat', 'r') as file:\n",
    "    lines = [line.strip() for line in file if not line.startswith('#')]\n",
    "\n",
    "# Dividir os dados em colunas\n",
    "data = [line.split() for line in lines]\n",
    "\n",
    "# Criar um DataFrame\n",
    "t04p118 = pd.DataFrame(data, columns=['TimeStep', 'c_t', 'c_pp', 'c_en', 'v_volume', 'v_densidade'])\n",
    "# Converter as colunas relevantes para numérico, se necessário\n",
    "t04p118[['TimeStep', 'c_t', 'c_pp', 'c_en', 'v_volume', 'v_densidade']] = t04p118[['TimeStep', 'c_t', 'c_pp', 'c_en', 'v_volume', 'v_densidade']].apply(pd.to_numeric)\n"
   ]
  },
  {
   "cell_type": "code",
   "execution_count": 31,
   "id": "d6ce58fb",
   "metadata": {},
   "outputs": [],
   "source": [
    "with open('thermodynamicst0.5p1.18.dat', 'r') as file:\n",
    "    lines = [line.strip() for line in file if not line.startswith('#')]\n",
    "\n",
    "# Dividir os dados em colunas\n",
    "data = [line.split() for line in lines]\n",
    "\n",
    "# Criar um DataFrame\n",
    "t05p118 = pd.DataFrame(data, columns=['TimeStep', 'c_t', 'c_pp', 'c_en', 'v_volume', 'v_densidade'])\n",
    "# Converter as colunas relevantes para numérico, se necessário\n",
    "t05p118[['TimeStep', 'c_t', 'c_pp', 'c_en', 'v_volume', 'v_densidade']] = t05p118[['TimeStep', 'c_t', 'c_pp', 'c_en', 'v_volume', 'v_densidade']].apply(pd.to_numeric)\n"
   ]
  },
  {
   "cell_type": "code",
   "execution_count": 32,
   "id": "446fc4f2",
   "metadata": {},
   "outputs": [],
   "source": [
    "with open('thermodynamicst0.55p1.18.dat', 'r') as file:\n",
    "    lines = [line.strip() for line in file if not line.startswith('#')]\n",
    "\n",
    "# Dividir os dados em colunas\n",
    "data = [line.split() for line in lines]\n",
    "\n",
    "# Criar um DataFrame\n",
    "t055p118 = pd.DataFrame(data, columns=['TimeStep', 'c_t', 'c_pp', 'c_en', 'v_volume', 'v_densidade'])\n",
    "# Converter as colunas relevantes para numérico, se necessário\n",
    "t055p118[['TimeStep', 'c_t', 'c_pp', 'c_en', 'v_volume', 'v_densidade']] = t055p118[['TimeStep', 'c_t', 'c_pp', 'c_en', 'v_volume', 'v_densidade']].apply(pd.to_numeric)\n"
   ]
  },
  {
   "cell_type": "code",
   "execution_count": 33,
   "id": "17f13809",
   "metadata": {},
   "outputs": [],
   "source": [
    "with open('thermodynamicst0.6p1.18.dat', 'r') as file:\n",
    "    lines = [line.strip() for line in file if not line.startswith('#')]\n",
    "\n",
    "# Dividir os dados em colunas\n",
    "data = [line.split() for line in lines]\n",
    "\n",
    "# Criar um DataFrame\n",
    "t06p118 = pd.DataFrame(data, columns=['TimeStep', 'c_t', 'c_pp', 'c_en', 'v_volume', 'v_densidade'])\n",
    "# Converter as colunas relevantes para numérico, se necessário\n",
    "t06p118[['TimeStep', 'c_t', 'c_pp', 'c_en', 'v_volume', 'v_densidade']] = t06p118[['TimeStep', 'c_t', 'c_pp', 'c_en', 'v_volume', 'v_densidade']].apply(pd.to_numeric)\n"
   ]
  },
  {
   "cell_type": "code",
   "execution_count": 34,
   "id": "5b7d8616",
   "metadata": {},
   "outputs": [],
   "source": [
    "with open('thermodynamicst0.7p1.18.dat', 'r') as file:\n",
    "    lines = [line.strip() for line in file if not line.startswith('#')]\n",
    "\n",
    "# Dividir os dados em colunas\n",
    "data = [line.split() for line in lines]\n",
    "\n",
    "# Criar um DataFrame\n",
    "t07p118 = pd.DataFrame(data, columns=['TimeStep', 'c_t', 'c_pp', 'c_en', 'v_volume', 'v_densidade'])\n",
    "# Converter as colunas relevantes para numérico, se necessário\n",
    "t07p118[['TimeStep', 'c_t', 'c_pp', 'c_en', 'v_volume', 'v_densidade']] = t07p118[['TimeStep', 'c_t', 'c_pp', 'c_en', 'v_volume', 'v_densidade']].apply(pd.to_numeric)\n"
   ]
  },
  {
   "cell_type": "code",
   "execution_count": 35,
   "id": "d891c18b",
   "metadata": {},
   "outputs": [],
   "source": [
    "with open('thermodynamicst0.8p1.18.dat', 'r') as file:\n",
    "    lines = [line.strip() for line in file if not line.startswith('#')]\n",
    "\n",
    "# Dividir os dados em colunas\n",
    "data = [line.split() for line in lines]\n",
    "\n",
    "# Criar um DataFrame\n",
    "t08p118 = pd.DataFrame(data, columns=['TimeStep', 'c_t', 'c_pp', 'c_en', 'v_volume', 'v_densidade'])\n",
    "# Converter as colunas relevantes para numérico, se necessário\n",
    "t08p118[['TimeStep', 'c_t', 'c_pp', 'c_en', 'v_volume', 'v_densidade']] = t08p118[['TimeStep', 'c_t', 'c_pp', 'c_en', 'v_volume', 'v_densidade']].apply(pd.to_numeric)\n"
   ]
  },
  {
   "cell_type": "code",
   "execution_count": 36,
   "id": "b75c71cd",
   "metadata": {},
   "outputs": [],
   "source": [
    "with open('thermodynamicst0.9p1.18.dat', 'r') as file:\n",
    "    lines = [line.strip() for line in file if not line.startswith('#')]\n",
    "\n",
    "# Dividir os dados em colunas\n",
    "data = [line.split() for line in lines]\n",
    "\n",
    "# Criar um DataFrame\n",
    "t09p118 = pd.DataFrame(data, columns=['TimeStep', 'c_t', 'c_pp', 'c_en', 'v_volume', 'v_densidade'])\n",
    "# Converter as colunas relevantes para numérico, se necessário\n",
    "t09p118[['TimeStep', 'c_t', 'c_pp', 'c_en', 'v_volume', 'v_densidade']] = t09p118[['TimeStep', 'c_t', 'c_pp', 'c_en', 'v_volume', 'v_densidade']].apply(pd.to_numeric)\n"
   ]
  },
  {
   "cell_type": "code",
   "execution_count": 37,
   "id": "85cd6a5d",
   "metadata": {},
   "outputs": [],
   "source": [
    "with open('thermodynamicst0.95p1.18.dat', 'r') as file:\n",
    "    lines = [line.strip() for line in file if not line.startswith('#')]\n",
    "\n",
    "# Dividir os dados em colunas\n",
    "data = [line.split() for line in lines]\n",
    "\n",
    "# Criar um DataFrame\n",
    "t095p118 = pd.DataFrame(data, columns=['TimeStep', 'c_t', 'c_pp', 'c_en', 'v_volume', 'v_densidade'])\n",
    "# Converter as colunas relevantes para numérico, se necessário\n",
    "t095p118[['TimeStep', 'c_t', 'c_pp', 'c_en', 'v_volume', 'v_densidade']] = t095p118[['TimeStep', 'c_t', 'c_pp', 'c_en', 'v_volume', 'v_densidade']].apply(pd.to_numeric)\n"
   ]
  },
  {
   "cell_type": "code",
   "execution_count": 38,
   "id": "7cd92dad",
   "metadata": {},
   "outputs": [],
   "source": [
    "with open('thermodynamicst1.0p1.18.dat', 'r') as file:\n",
    "    lines = [line.strip() for line in file if not line.startswith('#')]\n",
    "\n",
    "# Dividir os dados em colunas\n",
    "data = [line.split() for line in lines]\n",
    "\n",
    "# Criar um DataFrame\n",
    "t10p118 = pd.DataFrame(data, columns=['TimeStep', 'c_t', 'c_pp', 'c_en', 'v_volume', 'v_densidade'])\n",
    "# Converter as colunas relevantes para numérico, se necessário\n",
    "t10p118[['TimeStep', 'c_t', 'c_pp', 'c_en', 'v_volume', 'v_densidade']] = t10p118[['TimeStep', 'c_t', 'c_pp', 'c_en', 'v_volume', 'v_densidade']].apply(pd.to_numeric)\n"
   ]
  },
  {
   "cell_type": "markdown",
   "id": "4ab6f253",
   "metadata": {},
   "source": [
    "# Gerando os valores de media para p = 1.18"
   ]
  },
  {
   "cell_type": "code",
   "execution_count": 39,
   "id": "71a4ed6f",
   "metadata": {},
   "outputs": [],
   "source": [
    "mt118 = np.array([t01p118[\"c_t\"].mean(),t015p118[\"c_t\"].mean(),t02p118[\"c_t\"].mean(),t025p118[\"c_t\"].mean(),t03p118[\"c_t\"].mean(),t035p118[\"c_t\"].mean(),t04p118[\"c_t\"].mean(),t05p118[\"c_t\"].mean(),t055p118[\"c_t\"].mean(),t06p118[\"c_t\"].mean(),t07p118[\"c_t\"].mean(),t08p118[\"c_t\"].mean(),t09p118[\"c_t\"].mean(),t095p118[\"c_t\"].mean(),t10p118[\"c_t\"].mean() ])\n",
    "mph118= np.array([t01p118[\"v_densidade\"].mean(),t015p118[\"v_densidade\"].mean(),t02p118[\"v_densidade\"].mean(),t025p118[\"v_densidade\"].mean(),t03p118[\"v_densidade\"].mean(),t035p118[\"v_densidade\"].mean(),t04p118[\"v_densidade\"].mean(),t05p118[\"v_densidade\"].mean(),t055p118[\"v_densidade\"].mean(),t06p118[\"v_densidade\"].mean(),t07p118[\"v_densidade\"].mean(),t08p118[\"v_densidade\"].mean(),t09p118[\"v_densidade\"].mean(),t095p118[\"v_densidade\"].mean(),t10p118[\"v_densidade\"].mean() ])\n"
   ]
  },
  {
   "cell_type": "markdown",
   "id": "bef47bdf",
   "metadata": {},
   "source": [
    "# Importando csv P= 1.3 "
   ]
  },
  {
   "cell_type": "code",
   "execution_count": 40,
   "id": "8aa8dd29",
   "metadata": {},
   "outputs": [],
   "source": [
    "with open('thermodynamicst0.1p1.3.dat', 'r') as file:\n",
    "    lines = [line.strip() for line in file if not line.startswith('#')]\n",
    "\n",
    "# Dividir os dados em colunas\n",
    "data = [line.split() for line in lines]\n",
    "\n",
    "# Criar um DataFrame\n",
    "t01p13 = pd.DataFrame(data, columns=['TimeStep', 'c_t', 'c_pp', 'c_en', 'v_volume', 'v_densidade'])\n",
    "# Converter as colunas relevantes para numérico, se necessário\n",
    "t01p13[['TimeStep', 'c_t', 'c_pp', 'c_en', 'v_volume', 'v_densidade']] = t01p13[['TimeStep', 'c_t', 'c_pp', 'c_en', 'v_volume', 'v_densidade']].apply(pd.to_numeric)\n"
   ]
  },
  {
   "cell_type": "code",
   "execution_count": 41,
   "id": "71d27055",
   "metadata": {},
   "outputs": [],
   "source": [
    "with open('thermodynamicst0.2p1.3.dat', 'r') as file:\n",
    "    lines = [line.strip() for line in file if not line.startswith('#')]\n",
    "\n",
    "# Dividir os dados em colunas\n",
    "data = [line.split() for line in lines]\n",
    "\n",
    "# Criar um DataFrame\n",
    "t02p13 = pd.DataFrame(data, columns=['TimeStep', 'c_t', 'c_pp', 'c_en', 'v_volume', 'v_densidade'])\n",
    "# Converter as colunas relevantes para numérico, se necessário\n",
    "t02p13[['TimeStep', 'c_t', 'c_pp', 'c_en', 'v_volume', 'v_densidade']] = t02p13[['TimeStep', 'c_t', 'c_pp', 'c_en', 'v_volume', 'v_densidade']].apply(pd.to_numeric)\n"
   ]
  },
  {
   "cell_type": "code",
   "execution_count": 42,
   "id": "4f8d09ba",
   "metadata": {},
   "outputs": [],
   "source": [
    "with open('thermodynamicst0.3p1.3.dat', 'r') as file:\n",
    "    lines = [line.strip() for line in file if not line.startswith('#')]\n",
    "\n",
    "# Dividir os dados em colunas\n",
    "data = [line.split() for line in lines]\n",
    "\n",
    "# Criar um DataFrame\n",
    "t03p13 = pd.DataFrame(data, columns=['TimeStep', 'c_t', 'c_pp', 'c_en', 'v_volume', 'v_densidade'])\n",
    "# Converter as colunas relevantes para numérico, se necessário\n",
    "t03p13[['TimeStep', 'c_t', 'c_pp', 'c_en', 'v_volume', 'v_densidade']] = t03p13[['TimeStep', 'c_t', 'c_pp', 'c_en', 'v_volume', 'v_densidade']].apply(pd.to_numeric)\n"
   ]
  },
  {
   "cell_type": "code",
   "execution_count": 43,
   "id": "703aab1f",
   "metadata": {},
   "outputs": [],
   "source": [
    "with open('thermodynamicst0.4p1.3.dat', 'r') as file:\n",
    "    lines = [line.strip() for line in file if not line.startswith('#')]\n",
    "\n",
    "# Dividir os dados em colunas\n",
    "data = [line.split() for line in lines]\n",
    "\n",
    "# Criar um DataFrame\n",
    "t04p13 = pd.DataFrame(data, columns=['TimeStep', 'c_t', 'c_pp', 'c_en', 'v_volume', 'v_densidade'])\n",
    "# Converter as colunas relevantes para numérico, se necessário\n",
    "t04p13[['TimeStep', 'c_t', 'c_pp', 'c_en', 'v_volume', 'v_densidade']] = t04p13[['TimeStep', 'c_t', 'c_pp', 'c_en', 'v_volume', 'v_densidade']].apply(pd.to_numeric)\n"
   ]
  },
  {
   "cell_type": "code",
   "execution_count": 44,
   "id": "f9b5edcc",
   "metadata": {},
   "outputs": [],
   "source": [
    "with open('thermodynamicst0.5p1.3.dat', 'r') as file:\n",
    "    lines = [line.strip() for line in file if not line.startswith('#')]\n",
    "\n",
    "# Dividir os dados em colunas\n",
    "data = [line.split() for line in lines]\n",
    "\n",
    "# Criar um DataFrame\n",
    "t05p13 = pd.DataFrame(data, columns=['TimeStep', 'c_t', 'c_pp', 'c_en', 'v_volume', 'v_densidade'])\n",
    "# Converter as colunas relevantes para numérico, se necessário\n",
    "t05p13[['TimeStep', 'c_t', 'c_pp', 'c_en', 'v_volume', 'v_densidade']] = t05p13[['TimeStep', 'c_t', 'c_pp', 'c_en', 'v_volume', 'v_densidade']].apply(pd.to_numeric)\n"
   ]
  },
  {
   "cell_type": "code",
   "execution_count": 45,
   "id": "5cf467cf",
   "metadata": {},
   "outputs": [],
   "source": [
    "with open('thermodynamicst0.6p1.3.dat', 'r') as file:\n",
    "    lines = [line.strip() for line in file if not line.startswith('#')]\n",
    "\n",
    "# Dividir os dados em colunas\n",
    "data = [line.split() for line in lines]\n",
    "\n",
    "# Criar um DataFrame\n",
    "t06p13 = pd.DataFrame(data, columns=['TimeStep', 'c_t', 'c_pp', 'c_en', 'v_volume', 'v_densidade'])\n",
    "# Converter as colunas relevantes para numérico, se necessário\n",
    "t06p13[['TimeStep', 'c_t', 'c_pp', 'c_en', 'v_volume', 'v_densidade']] = t06p13[['TimeStep', 'c_t', 'c_pp', 'c_en', 'v_volume', 'v_densidade']].apply(pd.to_numeric)\n"
   ]
  },
  {
   "cell_type": "code",
   "execution_count": 46,
   "id": "5001346e",
   "metadata": {},
   "outputs": [],
   "source": [
    "with open('thermodynamicst0.7p1.3.dat', 'r') as file:\n",
    "    lines = [line.strip() for line in file if not line.startswith('#')]\n",
    "\n",
    "# Dividir os dados em colunas\n",
    "data = [line.split() for line in lines]\n",
    "\n",
    "# Criar um DataFrame\n",
    "t07p13 = pd.DataFrame(data, columns=['TimeStep', 'c_t', 'c_pp', 'c_en', 'v_volume', 'v_densidade'])\n",
    "# Converter as colunas relevantes para numérico, se necessário\n",
    "t07p13[['TimeStep', 'c_t', 'c_pp', 'c_en', 'v_volume', 'v_densidade']] = t07p13[['TimeStep', 'c_t', 'c_pp', 'c_en', 'v_volume', 'v_densidade']].apply(pd.to_numeric)\n"
   ]
  },
  {
   "cell_type": "code",
   "execution_count": 47,
   "id": "6c0b4218",
   "metadata": {},
   "outputs": [],
   "source": [
    "with open('thermodynamicst0.8p1.3.dat', 'r') as file:\n",
    "    lines = [line.strip() for line in file if not line.startswith('#')]\n",
    "\n",
    "# Dividir os dados em colunas\n",
    "data = [line.split() for line in lines]\n",
    "\n",
    "# Criar um DataFrame\n",
    "t08p13 = pd.DataFrame(data, columns=['TimeStep', 'c_t', 'c_pp', 'c_en', 'v_volume', 'v_densidade'])\n",
    "# Converter as colunas relevantes para numérico, se necessário\n",
    "t08p13[['TimeStep', 'c_t', 'c_pp', 'c_en', 'v_volume', 'v_densidade']] = t08p13[['TimeStep', 'c_t', 'c_pp', 'c_en', 'v_volume', 'v_densidade']].apply(pd.to_numeric)\n"
   ]
  },
  {
   "cell_type": "code",
   "execution_count": 48,
   "id": "e128e05a",
   "metadata": {},
   "outputs": [],
   "source": [
    "with open('thermodynamicst0.9p1.3.dat', 'r') as file:\n",
    "    lines = [line.strip() for line in file if not line.startswith('#')]\n",
    "\n",
    "# Dividir os dados em colunas\n",
    "data = [line.split() for line in lines]\n",
    "\n",
    "# Criar um DataFrame\n",
    "t09p13 = pd.DataFrame(data, columns=['TimeStep', 'c_t', 'c_pp', 'c_en', 'v_volume', 'v_densidade'])\n",
    "# Converter as colunas relevantes para numérico, se necessário\n",
    "t09p13[['TimeStep', 'c_t', 'c_pp', 'c_en', 'v_volume', 'v_densidade']] = t09p13[['TimeStep', 'c_t', 'c_pp', 'c_en', 'v_volume', 'v_densidade']].apply(pd.to_numeric)\n"
   ]
  },
  {
   "cell_type": "code",
   "execution_count": 49,
   "id": "8285665c",
   "metadata": {},
   "outputs": [],
   "source": [
    "with open('thermodynamicst1.p1.3.dat', 'r') as file:\n",
    "    lines = [line.strip() for line in file if not line.startswith('#')]\n",
    "\n",
    "# Dividir os dados em colunas\n",
    "data = [line.split() for line in lines]\n",
    "\n",
    "# Criar um DataFrame\n",
    "t1p13 = pd.DataFrame(data, columns=['TimeStep', 'c_t', 'c_pp', 'c_en', 'v_volume', 'v_densidade'])\n",
    "# Converter as colunas relevantes para numérico, se necessário\n",
    "t1p13[['TimeStep', 'c_t', 'c_pp', 'c_en', 'v_volume', 'v_densidade']] = t1p13[['TimeStep', 'c_t', 'c_pp', 'c_en', 'v_volume', 'v_densidade']].apply(pd.to_numeric)\n"
   ]
  },
  {
   "cell_type": "markdown",
   "id": "3c21069b",
   "metadata": {},
   "source": [
    "# Gerando os valores de media para p = 1.3"
   ]
  },
  {
   "cell_type": "code",
   "execution_count": 50,
   "id": "e0193e48",
   "metadata": {},
   "outputs": [],
   "source": [
    "mt13 = np.array([t01p13[\"c_t\"].mean(),t02p13[\"c_t\"].mean(),t03p13[\"c_t\"].mean(),t04p13[\"c_t\"].mean(),t05p13[\"c_t\"].mean(),t06p13[\"c_t\"].mean(),t07p13[\"c_t\"].mean(),t08p13[\"c_t\"].mean(),t09p13[\"c_t\"].mean(),t1p13[\"c_t\"].mean()])\n",
    "mph13 = np.array([t01p13[\"v_densidade\"].mean(),t02p13[\"v_densidade\"].mean(),t03p13[\"v_densidade\"].mean(),t04p13[\"v_densidade\"].mean(),t05p13[\"v_densidade\"].mean(),t06p13[\"v_densidade\"].mean(),t07p13[\"v_densidade\"].mean(),t08p13[\"v_densidade\"].mean(),t09p13[\"v_densidade\"].mean(),t1p13[\"v_densidade\"].mean()])"
   ]
  },
  {
   "cell_type": "markdown",
   "id": "f66eebfb",
   "metadata": {},
   "source": [
    "# Importando csv P= 1.5"
   ]
  },
  {
   "cell_type": "code",
   "execution_count": 51,
   "id": "a613e755",
   "metadata": {},
   "outputs": [],
   "source": [
    "with open('thermodynamicst0.1p1.5.dat', 'r') as file:\n",
    "    lines = [line.strip() for line in file if not line.startswith('#')]\n",
    "\n",
    "# Dividir os dados em colunas\n",
    "data = [line.split() for line in lines]\n",
    "\n",
    "# Criar um DataFrame\n",
    "t01p15 = pd.DataFrame(data, columns=['TimeStep', 'c_t', 'c_pp', 'c_en', 'v_volume', 'v_densidade'])\n",
    "# Converter as colunas relevantes para numérico, se necessário\n",
    "t01p15[['TimeStep', 'c_t', 'c_pp', 'c_en', 'v_volume', 'v_densidade']] = t01p15[['TimeStep', 'c_t', 'c_pp', 'c_en', 'v_volume', 'v_densidade']].apply(pd.to_numeric)\n"
   ]
  },
  {
   "cell_type": "code",
   "execution_count": 52,
   "id": "66df70fc",
   "metadata": {},
   "outputs": [],
   "source": [
    "with open('thermodynamicst0.2p1.5.dat', 'r') as file:\n",
    "    lines = [line.strip() for line in file if not line.startswith('#')]\n",
    "\n",
    "# Dividir os dados em colunas\n",
    "data = [line.split() for line in lines]\n",
    "\n",
    "# Criar um DataFrame\n",
    "t02p15 = pd.DataFrame(data, columns=['TimeStep', 'c_t', 'c_pp', 'c_en', 'v_volume', 'v_densidade'])\n",
    "# Converter as colunas relevantes para numérico, se necessário\n",
    "t02p15[['TimeStep', 'c_t', 'c_pp', 'c_en', 'v_volume', 'v_densidade']] = t02p15[['TimeStep', 'c_t', 'c_pp', 'c_en', 'v_volume', 'v_densidade']].apply(pd.to_numeric)\n"
   ]
  },
  {
   "cell_type": "code",
   "execution_count": 53,
   "id": "af08a123",
   "metadata": {},
   "outputs": [],
   "source": [
    "with open('thermodynamicst0.3p1.5.dat', 'r') as file:\n",
    "    lines = [line.strip() for line in file if not line.startswith('#')]\n",
    "\n",
    "# Dividir os dados em colunas\n",
    "data = [line.split() for line in lines]\n",
    "\n",
    "# Criar um DataFrame\n",
    "t03p15 = pd.DataFrame(data, columns=['TimeStep', 'c_t', 'c_pp', 'c_en', 'v_volume', 'v_densidade'])\n",
    "# Converter as colunas relevantes para numérico, se necessário\n",
    "t03p15[['TimeStep', 'c_t', 'c_pp', 'c_en', 'v_volume', 'v_densidade']] = t03p15[['TimeStep', 'c_t', 'c_pp', 'c_en', 'v_volume', 'v_densidade']].apply(pd.to_numeric)\n"
   ]
  },
  {
   "cell_type": "code",
   "execution_count": 54,
   "id": "c6f96685",
   "metadata": {},
   "outputs": [],
   "source": [
    "with open('thermodynamicst0.4p1.5.dat', 'r') as file:\n",
    "    lines = [line.strip() for line in file if not line.startswith('#')]\n",
    "\n",
    "# Dividir os dados em colunas\n",
    "data = [line.split() for line in lines]\n",
    "\n",
    "# Criar um DataFrame\n",
    "t04p15 = pd.DataFrame(data, columns=['TimeStep', 'c_t', 'c_pp', 'c_en', 'v_volume', 'v_densidade'])\n",
    "# Converter as colunas relevantes para numérico, se necessário\n",
    "t04p15[['TimeStep', 'c_t', 'c_pp', 'c_en', 'v_volume', 'v_densidade']] = t04p15[['TimeStep', 'c_t', 'c_pp', 'c_en', 'v_volume', 'v_densidade']].apply(pd.to_numeric)\n"
   ]
  },
  {
   "cell_type": "code",
   "execution_count": 55,
   "id": "9207cf43",
   "metadata": {},
   "outputs": [],
   "source": [
    "with open('thermodynamicst0.5p1.5.dat', 'r') as file:\n",
    "    lines = [line.strip() for line in file if not line.startswith('#')]\n",
    "\n",
    "# Dividir os dados em colunas\n",
    "data = [line.split() for line in lines]\n",
    "\n",
    "# Criar um DataFrame\n",
    "t05p15 = pd.DataFrame(data, columns=['TimeStep', 'c_t', 'c_pp', 'c_en', 'v_volume', 'v_densidade'])\n",
    "# Converter as colunas relevantes para numérico, se necessário\n",
    "t05p15[['TimeStep', 'c_t', 'c_pp', 'c_en', 'v_volume', 'v_densidade']] = t05p15[['TimeStep', 'c_t', 'c_pp', 'c_en', 'v_volume', 'v_densidade']].apply(pd.to_numeric)\n"
   ]
  },
  {
   "cell_type": "code",
   "execution_count": 56,
   "id": "17ba98de",
   "metadata": {},
   "outputs": [],
   "source": [
    "with open('thermodynamicst0.6p1.5.dat', 'r') as file:\n",
    "    lines = [line.strip() for line in file if not line.startswith('#')]\n",
    "\n",
    "# Dividir os dados em colunas\n",
    "data = [line.split() for line in lines]\n",
    "\n",
    "# Criar um DataFrame\n",
    "t06p15 = pd.DataFrame(data, columns=['TimeStep', 'c_t', 'c_pp', 'c_en', 'v_volume', 'v_densidade'])\n",
    "# Converter as colunas relevantes para numérico, se necessário\n",
    "t06p15[['TimeStep', 'c_t', 'c_pp', 'c_en', 'v_volume', 'v_densidade']] = t06p15[['TimeStep', 'c_t', 'c_pp', 'c_en', 'v_volume', 'v_densidade']].apply(pd.to_numeric)\n"
   ]
  },
  {
   "cell_type": "code",
   "execution_count": 57,
   "id": "e1c900f2",
   "metadata": {},
   "outputs": [],
   "source": [
    "with open('thermodynamicst0.7p1.5.dat', 'r') as file:\n",
    "    lines = [line.strip() for line in file if not line.startswith('#')]\n",
    "\n",
    "# Dividir os dados em colunas\n",
    "data = [line.split() for line in lines]\n",
    "\n",
    "# Criar um DataFrame\n",
    "t07p15 = pd.DataFrame(data, columns=['TimeStep', 'c_t', 'c_pp', 'c_en', 'v_volume', 'v_densidade'])\n",
    "# Converter as colunas relevantes para numérico, se necessário\n",
    "t07p15[['TimeStep', 'c_t', 'c_pp', 'c_en', 'v_volume', 'v_densidade']] = t07p15[['TimeStep', 'c_t', 'c_pp', 'c_en', 'v_volume', 'v_densidade']].apply(pd.to_numeric)\n"
   ]
  },
  {
   "cell_type": "code",
   "execution_count": 58,
   "id": "079b0fd3",
   "metadata": {},
   "outputs": [],
   "source": [
    "with open('thermodynamicst0.8p1.5.dat', 'r') as file:\n",
    "    lines = [line.strip() for line in file if not line.startswith('#')]\n",
    "\n",
    "# Dividir os dados em colunas\n",
    "data = [line.split() for line in lines]\n",
    "\n",
    "# Criar um DataFrame\n",
    "t08p15 = pd.DataFrame(data, columns=['TimeStep', 'c_t', 'c_pp', 'c_en', 'v_volume', 'v_densidade'])\n",
    "# Converter as colunas relevantes para numérico, se necessário\n",
    "t08p15[['TimeStep', 'c_t', 'c_pp', 'c_en', 'v_volume', 'v_densidade']] = t08p15[['TimeStep', 'c_t', 'c_pp', 'c_en', 'v_volume', 'v_densidade']].apply(pd.to_numeric)\n"
   ]
  },
  {
   "cell_type": "code",
   "execution_count": 59,
   "id": "7ae29c14",
   "metadata": {},
   "outputs": [],
   "source": [
    "with open('thermodynamicst0.9p1.5.dat', 'r') as file:\n",
    "    lines = [line.strip() for line in file if not line.startswith('#')]\n",
    "\n",
    "# Dividir os dados em colunas\n",
    "data = [line.split() for line in lines]\n",
    "\n",
    "# Criar um DataFrame\n",
    "t09p15 = pd.DataFrame(data, columns=['TimeStep', 'c_t', 'c_pp', 'c_en', 'v_volume', 'v_densidade'])\n",
    "# Converter as colunas relevantes para numérico, se necessário\n",
    "t09p15[['TimeStep', 'c_t', 'c_pp', 'c_en', 'v_volume', 'v_densidade']] = t09p15[['TimeStep', 'c_t', 'c_pp', 'c_en', 'v_volume', 'v_densidade']].apply(pd.to_numeric)\n"
   ]
  },
  {
   "cell_type": "code",
   "execution_count": 60,
   "id": "62b2f170",
   "metadata": {},
   "outputs": [],
   "source": [
    "with open('thermodynamicst1.p1.5.dat', 'r') as file:\n",
    "    lines = [line.strip() for line in file if not line.startswith('#')]\n",
    "\n",
    "# Dividir os dados em colunas\n",
    "data = [line.split() for line in lines]\n",
    "\n",
    "# Criar um DataFrame\n",
    "t1p15 = pd.DataFrame(data, columns=['TimeStep', 'c_t', 'c_pp', 'c_en', 'v_volume', 'v_densidade'])\n",
    "# Converter as colunas relevantes para numérico, se necessário\n",
    "t1p15[['TimeStep', 'c_t', 'c_pp', 'c_en', 'v_volume', 'v_densidade']] = t1p15[['TimeStep', 'c_t', 'c_pp', 'c_en', 'v_volume', 'v_densidade']].apply(pd.to_numeric)\n"
   ]
  },
  {
   "cell_type": "markdown",
   "id": "8d27197a",
   "metadata": {},
   "source": [
    "# Gerando os valores de media para p = 1.5"
   ]
  },
  {
   "cell_type": "code",
   "execution_count": 61,
   "id": "faed65b9",
   "metadata": {},
   "outputs": [],
   "source": [
    "mt15 = np.array([t01p15[\"c_t\"].mean(),t02p15[\"c_t\"].mean(),t03p15[\"c_t\"].mean(),t04p15[\"c_t\"].mean(),t05p15[\"c_t\"].mean(),t06p15[\"c_t\"].mean(),t07p15[\"c_t\"].mean(),t08p15[\"c_t\"].mean(),t09p15[\"c_t\"].mean(),t1p15[\"c_t\"].mean()])\n",
    "mph15 = np.array([t01p15[\"v_densidade\"].mean(),t02p15[\"v_densidade\"].mean(),t03p15[\"v_densidade\"].mean(),t04p15[\"v_densidade\"].mean(),t05p15[\"v_densidade\"].mean(),t06p15[\"v_densidade\"].mean(),t07p15[\"v_densidade\"].mean(),t08p15[\"v_densidade\"].mean(),t09p15[\"v_densidade\"].mean(),t1p15[\"v_densidade\"].mean()])\n"
   ]
  },
  {
   "cell_type": "markdown",
   "id": "aa45f69f",
   "metadata": {},
   "source": [
    "# Importando csv P= 1.6"
   ]
  },
  {
   "cell_type": "code",
   "execution_count": 62,
   "id": "51eda4da",
   "metadata": {},
   "outputs": [],
   "source": [
    "with open('thermodynamicst0.1p1.6.dat', 'r') as file:\n",
    "    lines = [line.strip() for line in file if not line.startswith('#')]\n",
    "\n",
    "# Dividir os dados em colunas\n",
    "data = [line.split() for line in lines]\n",
    "\n",
    "# Criar um DataFrame\n",
    "t01p16 = pd.DataFrame(data, columns=['TimeStep', 'c_t', 'c_pp', 'c_en', 'v_volume', 'v_densidade'])\n",
    "# Converter as colunas relevantes para numérico, se necessário\n",
    "t01p16[['TimeStep', 'c_t', 'c_pp', 'c_en', 'v_volume', 'v_densidade']] = t01p16[['TimeStep', 'c_t', 'c_pp', 'c_en', 'v_volume', 'v_densidade']].apply(pd.to_numeric)\n"
   ]
  },
  {
   "cell_type": "code",
   "execution_count": 63,
   "id": "599d9b89",
   "metadata": {},
   "outputs": [],
   "source": [
    "with open('thermodynamicst0.2p1.6.dat', 'r') as file:\n",
    "    lines = [line.strip() for line in file if not line.startswith('#')]\n",
    "\n",
    "# Dividir os dados em colunas\n",
    "data = [line.split() for line in lines]\n",
    "\n",
    "# Criar um DataFrame\n",
    "t02p16 = pd.DataFrame(data, columns=['TimeStep', 'c_t', 'c_pp', 'c_en', 'v_volume', 'v_densidade'])\n",
    "# Converter as colunas relevantes para numérico, se necessário\n",
    "t02p16[['TimeStep', 'c_t', 'c_pp', 'c_en', 'v_volume', 'v_densidade']] = t02p16[['TimeStep', 'c_t', 'c_pp', 'c_en', 'v_volume', 'v_densidade']].apply(pd.to_numeric)\n"
   ]
  },
  {
   "cell_type": "code",
   "execution_count": 64,
   "id": "11f49335",
   "metadata": {},
   "outputs": [],
   "source": [
    "with open('thermodynamicst0.3p1.6.dat', 'r') as file:\n",
    "    lines = [line.strip() for line in file if not line.startswith('#')]\n",
    "\n",
    "# Dividir os dados em colunas\n",
    "data = [line.split() for line in lines]\n",
    "\n",
    "# Criar um DataFrame\n",
    "t03p16 = pd.DataFrame(data, columns=['TimeStep', 'c_t', 'c_pp', 'c_en', 'v_volume', 'v_densidade'])\n",
    "# Converter as colunas relevantes para numérico, se necessário\n",
    "t03p16[['TimeStep', 'c_t', 'c_pp', 'c_en', 'v_volume', 'v_densidade']] = t03p16[['TimeStep', 'c_t', 'c_pp', 'c_en', 'v_volume', 'v_densidade']].apply(pd.to_numeric)\n"
   ]
  },
  {
   "cell_type": "code",
   "execution_count": 65,
   "id": "a673c502",
   "metadata": {},
   "outputs": [],
   "source": [
    "with open('thermodynamicst0.4p1.6.dat', 'r') as file:\n",
    "    lines = [line.strip() for line in file if not line.startswith('#')]\n",
    "\n",
    "# Dividir os dados em colunas\n",
    "data = [line.split() for line in lines]\n",
    "\n",
    "# Criar um DataFrame\n",
    "t04p16 = pd.DataFrame(data, columns=['TimeStep', 'c_t', 'c_pp', 'c_en', 'v_volume', 'v_densidade'])\n",
    "# Converter as colunas relevantes para numérico, se necessário\n",
    "t04p16[['TimeStep', 'c_t', 'c_pp', 'c_en', 'v_volume', 'v_densidade']] = t04p16[['TimeStep', 'c_t', 'c_pp', 'c_en', 'v_volume', 'v_densidade']].apply(pd.to_numeric)\n"
   ]
  },
  {
   "cell_type": "code",
   "execution_count": 66,
   "id": "cc78b269",
   "metadata": {},
   "outputs": [],
   "source": [
    "with open('thermodynamicst0.5p1.6.dat', 'r') as file:\n",
    "    lines = [line.strip() for line in file if not line.startswith('#')]\n",
    "\n",
    "# Dividir os dados em colunas\n",
    "data = [line.split() for line in lines]\n",
    "\n",
    "# Criar um DataFrame\n",
    "t05p16 = pd.DataFrame(data, columns=['TimeStep', 'c_t', 'c_pp', 'c_en', 'v_volume', 'v_densidade'])\n",
    "# Converter as colunas relevantes para numérico, se necessário\n",
    "t05p16[['TimeStep', 'c_t', 'c_pp', 'c_en', 'v_volume', 'v_densidade']] = t05p16[['TimeStep', 'c_t', 'c_pp', 'c_en', 'v_volume', 'v_densidade']].apply(pd.to_numeric)\n"
   ]
  },
  {
   "cell_type": "code",
   "execution_count": 67,
   "id": "4c978822",
   "metadata": {},
   "outputs": [],
   "source": [
    "with open('thermodynamicst0.6p1.6.dat', 'r') as file:\n",
    "    lines = [line.strip() for line in file if not line.startswith('#')]\n",
    "\n",
    "# Dividir os dados em colunas\n",
    "data = [line.split() for line in lines]\n",
    "\n",
    "# Criar um DataFrame\n",
    "t06p16 = pd.DataFrame(data, columns=['TimeStep', 'c_t', 'c_pp', 'c_en', 'v_volume', 'v_densidade'])\n",
    "# Converter as colunas relevantes para numérico, se necessário\n",
    "t06p16[['TimeStep', 'c_t', 'c_pp', 'c_en', 'v_volume', 'v_densidade']] = t06p16[['TimeStep', 'c_t', 'c_pp', 'c_en', 'v_volume', 'v_densidade']].apply(pd.to_numeric)\n"
   ]
  },
  {
   "cell_type": "code",
   "execution_count": 68,
   "id": "16f18ae0",
   "metadata": {},
   "outputs": [],
   "source": [
    "with open('thermodynamicst0.7p1.6.dat', 'r') as file:\n",
    "    lines = [line.strip() for line in file if not line.startswith('#')]\n",
    "\n",
    "# Dividir os dados em colunas\n",
    "data = [line.split() for line in lines]\n",
    "\n",
    "# Criar um DataFrame\n",
    "t07p16 = pd.DataFrame(data, columns=['TimeStep', 'c_t', 'c_pp', 'c_en', 'v_volume', 'v_densidade'])\n",
    "# Converter as colunas relevantes para numérico, se necessário\n",
    "t07p16[['TimeStep', 'c_t', 'c_pp', 'c_en', 'v_volume', 'v_densidade']] = t07p16[['TimeStep', 'c_t', 'c_pp', 'c_en', 'v_volume', 'v_densidade']].apply(pd.to_numeric)\n"
   ]
  },
  {
   "cell_type": "code",
   "execution_count": 69,
   "id": "e0a8258f",
   "metadata": {},
   "outputs": [],
   "source": [
    "with open('thermodynamicst0.8p1.6.dat', 'r') as file:\n",
    "    lines = [line.strip() for line in file if not line.startswith('#')]\n",
    "\n",
    "# Dividir os dados em colunas\n",
    "data = [line.split() for line in lines]\n",
    "\n",
    "# Criar um DataFrame\n",
    "t08p16 = pd.DataFrame(data, columns=['TimeStep', 'c_t', 'c_pp', 'c_en', 'v_volume', 'v_densidade'])\n",
    "# Converter as colunas relevantes para numérico, se necessário\n",
    "t08p16[['TimeStep', 'c_t', 'c_pp', 'c_en', 'v_volume', 'v_densidade']] = t08p16[['TimeStep', 'c_t', 'c_pp', 'c_en', 'v_volume', 'v_densidade']].apply(pd.to_numeric)\n"
   ]
  },
  {
   "cell_type": "code",
   "execution_count": 70,
   "id": "9b5c32e1",
   "metadata": {},
   "outputs": [],
   "source": [
    "with open('thermodynamicst0.9p1.6.dat', 'r') as file:\n",
    "    lines = [line.strip() for line in file if not line.startswith('#')]\n",
    "\n",
    "# Dividir os dados em colunas\n",
    "data = [line.split() for line in lines]\n",
    "\n",
    "# Criar um DataFrame\n",
    "t09p16 = pd.DataFrame(data, columns=['TimeStep', 'c_t', 'c_pp', 'c_en', 'v_volume', 'v_densidade'])\n",
    "# Converter as colunas relevantes para numérico, se necessário\n",
    "t09p16[['TimeStep', 'c_t', 'c_pp', 'c_en', 'v_volume', 'v_densidade']] = t09p16[['TimeStep', 'c_t', 'c_pp', 'c_en', 'v_volume', 'v_densidade']].apply(pd.to_numeric)\n"
   ]
  },
  {
   "cell_type": "code",
   "execution_count": 71,
   "id": "cc5e3fb0",
   "metadata": {},
   "outputs": [],
   "source": [
    "with open('thermodynamicst1.p1.6.dat', 'r') as file:\n",
    "    lines = [line.strip() for line in file if not line.startswith('#')]\n",
    "\n",
    "# Dividir os dados em colunas\n",
    "data = [line.split() for line in lines]\n",
    "\n",
    "# Criar um DataFrame\n",
    "t1p16 = pd.DataFrame(data, columns=['TimeStep', 'c_t', 'c_pp', 'c_en', 'v_volume', 'v_densidade'])\n",
    "# Converter as colunas relevantes para numérico, se necessário\n",
    "t1p16[['TimeStep', 'c_t', 'c_pp', 'c_en', 'v_volume', 'v_densidade']] = t1p16[['TimeStep', 'c_t', 'c_pp', 'c_en', 'v_volume', 'v_densidade']].apply(pd.to_numeric)\n"
   ]
  },
  {
   "cell_type": "markdown",
   "id": "5ccc73e1",
   "metadata": {},
   "source": [
    "# Gerando os valores de media para p = 1.6"
   ]
  },
  {
   "cell_type": "code",
   "execution_count": 72,
   "id": "58d5c1ec",
   "metadata": {},
   "outputs": [],
   "source": [
    "mt16 = np.array([t01p16[\"c_t\"].mean(),t02p16[\"c_t\"].mean(),t03p16[\"c_t\"].mean(),t04p16[\"c_t\"].mean(),t05p16[\"c_t\"].mean(),t06p16[\"c_t\"].mean(),t07p16[\"c_t\"].mean(),t08p16[\"c_t\"].mean(),t09p16[\"c_t\"].mean(),t1p16[\"c_t\"].mean()])\n",
    "mph16 = np.array([t01p16[\"v_densidade\"].mean(),t02p16[\"v_densidade\"].mean(),t03p16[\"v_densidade\"].mean(),t04p16[\"v_densidade\"].mean(),t05p16[\"v_densidade\"].mean(),t06p16[\"v_densidade\"].mean(),t07p16[\"v_densidade\"].mean(),t08p16[\"v_densidade\"].mean(),t09p16[\"v_densidade\"].mean(),t1p16[\"v_densidade\"].mean()])"
   ]
  },
  {
   "cell_type": "markdown",
   "id": "dc5a5bb6",
   "metadata": {},
   "source": [
    "# Importando csv P= 1.7"
   ]
  },
  {
   "cell_type": "code",
   "execution_count": 73,
   "id": "47e9fd96",
   "metadata": {},
   "outputs": [],
   "source": [
    "with open('thermodynamicst0.1p1.7.dat', 'r') as file:\n",
    "    lines = [line.strip() for line in file if not line.startswith('#')]\n",
    "\n",
    "# Dividir os dados em colunas\n",
    "data = [line.split() for line in lines]\n",
    "\n",
    "# Criar um DataFrame\n",
    "t01p17 = pd.DataFrame(data, columns=['TimeStep', 'c_t', 'c_pp', 'c_en', 'v_volume', 'v_densidade'])\n",
    "# Converter as colunas relevantes para numérico, se necessário\n",
    "t01p17[['TimeStep', 'c_t', 'c_pp', 'c_en', 'v_volume', 'v_densidade']] = t01p17[['TimeStep', 'c_t', 'c_pp', 'c_en', 'v_volume', 'v_densidade']].apply(pd.to_numeric)\n"
   ]
  },
  {
   "cell_type": "code",
   "execution_count": 74,
   "id": "532cef27",
   "metadata": {},
   "outputs": [],
   "source": [
    "with open('thermodynamicst0.2p1.7.dat', 'r') as file:\n",
    "    lines = [line.strip() for line in file if not line.startswith('#')]\n",
    "\n",
    "# Dividir os dados em colunas\n",
    "data = [line.split() for line in lines]\n",
    "\n",
    "# Criar um DataFrame\n",
    "t02p17 = pd.DataFrame(data, columns=['TimeStep', 'c_t', 'c_pp', 'c_en', 'v_volume', 'v_densidade'])\n",
    "# Converter as colunas relevantes para numérico, se necessário\n",
    "t02p17[['TimeStep', 'c_t', 'c_pp', 'c_en', 'v_volume', 'v_densidade']] = t02p17[['TimeStep', 'c_t', 'c_pp', 'c_en', 'v_volume', 'v_densidade']].apply(pd.to_numeric)\n"
   ]
  },
  {
   "cell_type": "code",
   "execution_count": 75,
   "id": "0c7dabfd",
   "metadata": {},
   "outputs": [],
   "source": [
    "with open('thermodynamicst0.3p1.7.dat', 'r') as file:\n",
    "    lines = [line.strip() for line in file if not line.startswith('#')]\n",
    "\n",
    "# Dividir os dados em colunas\n",
    "data = [line.split() for line in lines]\n",
    "\n",
    "# Criar um DataFrame\n",
    "t03p17 = pd.DataFrame(data, columns=['TimeStep', 'c_t', 'c_pp', 'c_en', 'v_volume', 'v_densidade'])\n",
    "# Converter as colunas relevantes para numérico, se necessário\n",
    "t03p17[['TimeStep', 'c_t', 'c_pp', 'c_en', 'v_volume', 'v_densidade']] = t03p17[['TimeStep', 'c_t', 'c_pp', 'c_en', 'v_volume', 'v_densidade']].apply(pd.to_numeric)\n"
   ]
  },
  {
   "cell_type": "code",
   "execution_count": 76,
   "id": "962569e2",
   "metadata": {},
   "outputs": [],
   "source": [
    "with open('thermodynamicst0.4p1.7.dat', 'r') as file:\n",
    "    lines = [line.strip() for line in file if not line.startswith('#')]\n",
    "\n",
    "# Dividir os dados em colunas\n",
    "data = [line.split() for line in lines]\n",
    "\n",
    "# Criar um DataFrame\n",
    "t04p17 = pd.DataFrame(data, columns=['TimeStep', 'c_t', 'c_pp', 'c_en', 'v_volume', 'v_densidade'])\n",
    "# Converter as colunas relevantes para numérico, se necessário\n",
    "t04p17[['TimeStep', 'c_t', 'c_pp', 'c_en', 'v_volume', 'v_densidade']] = t04p17[['TimeStep', 'c_t', 'c_pp', 'c_en', 'v_volume', 'v_densidade']].apply(pd.to_numeric)\n"
   ]
  },
  {
   "cell_type": "code",
   "execution_count": 77,
   "id": "df7e344d",
   "metadata": {},
   "outputs": [],
   "source": [
    "with open('thermodynamicst0.5p1.7.dat', 'r') as file:\n",
    "    lines = [line.strip() for line in file if not line.startswith('#')]\n",
    "\n",
    "# Dividir os dados em colunas\n",
    "data = [line.split() for line in lines]\n",
    "\n",
    "# Criar um DataFrame\n",
    "t05p17 = pd.DataFrame(data, columns=['TimeStep', 'c_t', 'c_pp', 'c_en', 'v_volume', 'v_densidade'])\n",
    "# Converter as colunas relevantes para numérico, se necessário\n",
    "t05p17[['TimeStep', 'c_t', 'c_pp', 'c_en', 'v_volume', 'v_densidade']] = t05p17[['TimeStep', 'c_t', 'c_pp', 'c_en', 'v_volume', 'v_densidade']].apply(pd.to_numeric)\n"
   ]
  },
  {
   "cell_type": "code",
   "execution_count": 78,
   "id": "3dd7671c",
   "metadata": {},
   "outputs": [],
   "source": [
    "with open('thermodynamicst0.6p1.7.dat', 'r') as file:\n",
    "    lines = [line.strip() for line in file if not line.startswith('#')]\n",
    "\n",
    "# Dividir os dados em colunas\n",
    "data = [line.split() for line in lines]\n",
    "\n",
    "# Criar um DataFrame\n",
    "t06p17 = pd.DataFrame(data, columns=['TimeStep', 'c_t', 'c_pp', 'c_en', 'v_volume', 'v_densidade'])\n",
    "# Converter as colunas relevantes para numérico, se necessário\n",
    "t06p17[['TimeStep', 'c_t', 'c_pp', 'c_en', 'v_volume', 'v_densidade']] = t06p17[['TimeStep', 'c_t', 'c_pp', 'c_en', 'v_volume', 'v_densidade']].apply(pd.to_numeric)\n"
   ]
  },
  {
   "cell_type": "code",
   "execution_count": 79,
   "id": "509034e6",
   "metadata": {},
   "outputs": [],
   "source": [
    "with open('thermodynamicst0.7p1.7.dat', 'r') as file:\n",
    "    lines = [line.strip() for line in file if not line.startswith('#')]\n",
    "\n",
    "# Dividir os dados em colunas\n",
    "data = [line.split() for line in lines]\n",
    "\n",
    "# Criar um DataFrame\n",
    "t07p17 = pd.DataFrame(data, columns=['TimeStep', 'c_t', 'c_pp', 'c_en', 'v_volume', 'v_densidade'])\n",
    "# Converter as colunas relevantes para numérico, se necessário\n",
    "t07p17[['TimeStep', 'c_t', 'c_pp', 'c_en', 'v_volume', 'v_densidade']] = t07p17[['TimeStep', 'c_t', 'c_pp', 'c_en', 'v_volume', 'v_densidade']].apply(pd.to_numeric)\n"
   ]
  },
  {
   "cell_type": "code",
   "execution_count": 80,
   "id": "1cd9fe2a",
   "metadata": {},
   "outputs": [],
   "source": [
    "with open('thermodynamicst0.8p1.7.dat', 'r') as file:\n",
    "    lines = [line.strip() for line in file if not line.startswith('#')]\n",
    "\n",
    "# Dividir os dados em colunas\n",
    "data = [line.split() for line in lines]\n",
    "\n",
    "# Criar um DataFrame\n",
    "t08p17 = pd.DataFrame(data, columns=['TimeStep', 'c_t', 'c_pp', 'c_en', 'v_volume', 'v_densidade'])\n",
    "# Converter as colunas relevantes para numérico, se necessário\n",
    "t08p17[['TimeStep', 'c_t', 'c_pp', 'c_en', 'v_volume', 'v_densidade']] = t08p17[['TimeStep', 'c_t', 'c_pp', 'c_en', 'v_volume', 'v_densidade']].apply(pd.to_numeric)\n"
   ]
  },
  {
   "cell_type": "code",
   "execution_count": 81,
   "id": "51dbab33",
   "metadata": {},
   "outputs": [],
   "source": [
    "with open('thermodynamicst0.9p1.7.dat', 'r') as file:\n",
    "    lines = [line.strip() for line in file if not line.startswith('#')]\n",
    "\n",
    "# Dividir os dados em colunas\n",
    "data = [line.split() for line in lines]\n",
    "\n",
    "# Criar um DataFrame\n",
    "t09p17 = pd.DataFrame(data, columns=['TimeStep', 'c_t', 'c_pp', 'c_en', 'v_volume', 'v_densidade'])\n",
    "# Converter as colunas relevantes para numérico, se necessário\n",
    "t09p17[['TimeStep', 'c_t', 'c_pp', 'c_en', 'v_volume', 'v_densidade']] = t09p17[['TimeStep', 'c_t', 'c_pp', 'c_en', 'v_volume', 'v_densidade']].apply(pd.to_numeric)\n"
   ]
  },
  {
   "cell_type": "code",
   "execution_count": 82,
   "id": "e67cd7d5",
   "metadata": {},
   "outputs": [],
   "source": [
    "with open('thermodynamicst1.p1.7.dat', 'r') as file:\n",
    "    lines = [line.strip() for line in file if not line.startswith('#')]\n",
    "\n",
    "# Dividir os dados em colunas\n",
    "data = [line.split() for line in lines]\n",
    "\n",
    "# Criar um DataFrame\n",
    "t1p17 = pd.DataFrame(data, columns=['TimeStep', 'c_t', 'c_pp', 'c_en', 'v_volume', 'v_densidade'])\n",
    "# Converter as colunas relevantes para numérico, se necessário\n",
    "t1p17[['TimeStep', 'c_t', 'c_pp', 'c_en', 'v_volume', 'v_densidade']] = t1p17[['TimeStep', 'c_t', 'c_pp', 'c_en', 'v_volume', 'v_densidade']].apply(pd.to_numeric)\n"
   ]
  },
  {
   "cell_type": "markdown",
   "id": "43f9e1aa",
   "metadata": {},
   "source": [
    "# Gerando os valores de media para P = 1.7"
   ]
  },
  {
   "cell_type": "code",
   "execution_count": 83,
   "id": "628dfe3a",
   "metadata": {},
   "outputs": [],
   "source": [
    "mt17 = np.array([t01p17[\"c_t\"].mean(),t02p17[\"c_t\"].mean(),t03p17[\"c_t\"].mean(),t04p17[\"c_t\"].mean(),t05p17[\"c_t\"].mean(),t06p17[\"c_t\"].mean(),t07p17[\"c_t\"].mean(),t08p17[\"c_t\"].mean(),t09p17[\"c_t\"].mean(),t1p17[\"c_t\"].mean()])\n",
    "mph17 = np.array([t01p17[\"v_densidade\"].mean(),t02p17[\"v_densidade\"].mean(),t03p17[\"v_densidade\"].mean(),t04p17[\"v_densidade\"].mean(),t05p17[\"v_densidade\"].mean(),t06p17[\"v_densidade\"].mean(),t07p17[\"v_densidade\"].mean(),t08p17[\"v_densidade\"].mean(),t09p17[\"v_densidade\"].mean(),t1p17[\"v_densidade\"].mean()])"
   ]
  },
  {
   "cell_type": "markdown",
   "id": "558e34fe",
   "metadata": {},
   "source": [
    "# Importando csv P= 1.9"
   ]
  },
  {
   "cell_type": "code",
   "execution_count": 84,
   "id": "07018762",
   "metadata": {},
   "outputs": [],
   "source": [
    "with open('thermodynamicst0.1p1.9.dat', 'r') as file:\n",
    "    lines = [line.strip() for line in file if not line.startswith('#')]\n",
    "\n",
    "# Dividir os dados em colunas\n",
    "data = [line.split() for line in lines]\n",
    "\n",
    "# Criar um DataFrame\n",
    "t01p19 = pd.DataFrame(data, columns=['TimeStep', 'c_t', 'c_pp', 'c_en', 'v_volume', 'v_densidade'])\n",
    "# Converter as colunas relevantes para numérico, se necessário\n",
    "t01p19[['TimeStep', 'c_t', 'c_pp', 'c_en', 'v_volume', 'v_densidade']] = t01p19[['TimeStep', 'c_t', 'c_pp', 'c_en', 'v_volume', 'v_densidade']].apply(pd.to_numeric)\n"
   ]
  },
  {
   "cell_type": "code",
   "execution_count": 85,
   "id": "7945b14e",
   "metadata": {},
   "outputs": [],
   "source": [
    "with open('thermodynamicst0.2p1.9.dat', 'r') as file:\n",
    "    lines = [line.strip() for line in file if not line.startswith('#')]\n",
    "\n",
    "# Dividir os dados em colunas\n",
    "data = [line.split() for line in lines]\n",
    "\n",
    "# Criar um DataFrame\n",
    "t02p19 = pd.DataFrame(data, columns=['TimeStep', 'c_t', 'c_pp', 'c_en', 'v_volume', 'v_densidade'])\n",
    "# Converter as colunas relevantes para numérico, se necessário\n",
    "t02p19[['TimeStep', 'c_t', 'c_pp', 'c_en', 'v_volume', 'v_densidade']] = t02p19[['TimeStep', 'c_t', 'c_pp', 'c_en', 'v_volume', 'v_densidade']].apply(pd.to_numeric)\n"
   ]
  },
  {
   "cell_type": "code",
   "execution_count": 86,
   "id": "32c59c8a",
   "metadata": {},
   "outputs": [],
   "source": [
    "with open('thermodynamicst0.3p1.9.dat', 'r') as file:\n",
    "    lines = [line.strip() for line in file if not line.startswith('#')]\n",
    "\n",
    "# Dividir os dados em colunas\n",
    "data = [line.split() for line in lines]\n",
    "\n",
    "# Criar um DataFrame\n",
    "t03p19 = pd.DataFrame(data, columns=['TimeStep', 'c_t', 'c_pp', 'c_en', 'v_volume', 'v_densidade'])\n",
    "# Converter as colunas relevantes para numérico, se necessário\n",
    "t03p19[['TimeStep', 'c_t', 'c_pp', 'c_en', 'v_volume', 'v_densidade']] = t03p19[['TimeStep', 'c_t', 'c_pp', 'c_en', 'v_volume', 'v_densidade']].apply(pd.to_numeric)\n"
   ]
  },
  {
   "cell_type": "code",
   "execution_count": 87,
   "id": "61315cc5",
   "metadata": {},
   "outputs": [],
   "source": [
    "with open('thermodynamicst0.4p1.9.dat', 'r') as file:\n",
    "    lines = [line.strip() for line in file if not line.startswith('#')]\n",
    "\n",
    "# Dividir os dados em colunas\n",
    "data = [line.split() for line in lines]\n",
    "\n",
    "# Criar um DataFrame\n",
    "t04p19 = pd.DataFrame(data, columns=['TimeStep', 'c_t', 'c_pp', 'c_en', 'v_volume', 'v_densidade'])\n",
    "# Converter as colunas relevantes para numérico, se necessário\n",
    "t04p19[['TimeStep', 'c_t', 'c_pp', 'c_en', 'v_volume', 'v_densidade']] = t04p19[['TimeStep', 'c_t', 'c_pp', 'c_en', 'v_volume', 'v_densidade']].apply(pd.to_numeric)\n"
   ]
  },
  {
   "cell_type": "code",
   "execution_count": 88,
   "id": "780c2450",
   "metadata": {},
   "outputs": [],
   "source": [
    "with open('thermodynamicst0.5p1.9.dat', 'r') as file:\n",
    "    lines = [line.strip() for line in file if not line.startswith('#')]\n",
    "\n",
    "# Dividir os dados em colunas\n",
    "data = [line.split() for line in lines]\n",
    "\n",
    "# Criar um DataFrame\n",
    "t05p19 = pd.DataFrame(data, columns=['TimeStep', 'c_t', 'c_pp', 'c_en', 'v_volume', 'v_densidade'])\n",
    "# Converter as colunas relevantes para numérico, se necessário\n",
    "t05p19[['TimeStep', 'c_t', 'c_pp', 'c_en', 'v_volume', 'v_densidade']] = t05p19[['TimeStep', 'c_t', 'c_pp', 'c_en', 'v_volume', 'v_densidade']].apply(pd.to_numeric)\n"
   ]
  },
  {
   "cell_type": "code",
   "execution_count": 89,
   "id": "1b1484bf",
   "metadata": {},
   "outputs": [],
   "source": [
    "with open('thermodynamicst0.6p1.9.dat', 'r') as file:\n",
    "    lines = [line.strip() for line in file if not line.startswith('#')]\n",
    "\n",
    "# Dividir os dados em colunas\n",
    "data = [line.split() for line in lines]\n",
    "\n",
    "# Criar um DataFrame\n",
    "t06p19 = pd.DataFrame(data, columns=['TimeStep', 'c_t', 'c_pp', 'c_en', 'v_volume', 'v_densidade'])\n",
    "# Converter as colunas relevantes para numérico, se necessário\n",
    "t06p19[['TimeStep', 'c_t', 'c_pp', 'c_en', 'v_volume', 'v_densidade']] = t06p19[['TimeStep', 'c_t', 'c_pp', 'c_en', 'v_volume', 'v_densidade']].apply(pd.to_numeric)\n"
   ]
  },
  {
   "cell_type": "code",
   "execution_count": 90,
   "id": "2644a47b",
   "metadata": {},
   "outputs": [],
   "source": [
    "with open('thermodynamicst0.7p1.9.dat', 'r') as file:\n",
    "    lines = [line.strip() for line in file if not line.startswith('#')]\n",
    "\n",
    "# Dividir os dados em colunas\n",
    "data = [line.split() for line in lines]\n",
    "\n",
    "# Criar um DataFrame\n",
    "t07p19 = pd.DataFrame(data, columns=['TimeStep', 'c_t', 'c_pp', 'c_en', 'v_volume', 'v_densidade'])\n",
    "# Converter as colunas relevantes para numérico, se necessário\n",
    "t07p19[['TimeStep', 'c_t', 'c_pp', 'c_en', 'v_volume', 'v_densidade']] = t07p19[['TimeStep', 'c_t', 'c_pp', 'c_en', 'v_volume', 'v_densidade']].apply(pd.to_numeric)\n"
   ]
  },
  {
   "cell_type": "code",
   "execution_count": 91,
   "id": "130c9100",
   "metadata": {},
   "outputs": [],
   "source": [
    "with open('thermodynamicst0.8p1.9.dat', 'r') as file:\n",
    "    lines = [line.strip() for line in file if not line.startswith('#')]\n",
    "\n",
    "# Dividir os dados em colunas\n",
    "data = [line.split() for line in lines]\n",
    "\n",
    "# Criar um DataFrame\n",
    "t08p19 = pd.DataFrame(data, columns=['TimeStep', 'c_t', 'c_pp', 'c_en', 'v_volume', 'v_densidade'])\n",
    "# Converter as colunas relevantes para numérico, se necessário\n",
    "t08p19[['TimeStep', 'c_t', 'c_pp', 'c_en', 'v_volume', 'v_densidade']] = t08p19[['TimeStep', 'c_t', 'c_pp', 'c_en', 'v_volume', 'v_densidade']].apply(pd.to_numeric)\n"
   ]
  },
  {
   "cell_type": "code",
   "execution_count": 92,
   "id": "7c94e7ef",
   "metadata": {},
   "outputs": [],
   "source": [
    "with open('thermodynamicst0.9p1.9.dat', 'r') as file:\n",
    "    lines = [line.strip() for line in file if not line.startswith('#')]\n",
    "\n",
    "# Dividir os dados em colunas\n",
    "data = [line.split() for line in lines]\n",
    "\n",
    "# Criar um DataFrame\n",
    "t09p19 = pd.DataFrame(data, columns=['TimeStep', 'c_t', 'c_pp', 'c_en', 'v_volume', 'v_densidade'])\n",
    "# Converter as colunas relevantes para numérico, se necessário\n",
    "t09p19[['TimeStep', 'c_t', 'c_pp', 'c_en', 'v_volume', 'v_densidade']] = t09p19[['TimeStep', 'c_t', 'c_pp', 'c_en', 'v_volume', 'v_densidade']].apply(pd.to_numeric)\n"
   ]
  },
  {
   "cell_type": "code",
   "execution_count": 93,
   "id": "57c1761b",
   "metadata": {},
   "outputs": [],
   "source": [
    "with open('thermodynamicst1.p1.9.dat', 'r') as file:\n",
    "    lines = [line.strip() for line in file if not line.startswith('#')]\n",
    "\n",
    "# Dividir os dados em colunas\n",
    "data = [line.split() for line in lines]\n",
    "\n",
    "# Criar um DataFrame\n",
    "t1p19 = pd.DataFrame(data, columns=['TimeStep', 'c_t', 'c_pp', 'c_en', 'v_volume', 'v_densidade'])\n",
    "# Converter as colunas relevantes para numérico, se necessário\n",
    "t1p19[['TimeStep', 'c_t', 'c_pp', 'c_en', 'v_volume', 'v_densidade']] = t1p19[['TimeStep', 'c_t', 'c_pp', 'c_en', 'v_volume', 'v_densidade']].apply(pd.to_numeric)\n"
   ]
  },
  {
   "cell_type": "markdown",
   "id": "bcfbe05d",
   "metadata": {},
   "source": [
    "# Gerando os valores de media para P = 1.9"
   ]
  },
  {
   "cell_type": "code",
   "execution_count": 94,
   "id": "1c740021",
   "metadata": {},
   "outputs": [],
   "source": [
    "mt19 = np.array([t01p19[\"c_t\"].mean(),t02p19[\"c_t\"].mean(),t03p19[\"c_t\"].mean(),t04p19[\"c_t\"].mean(),t05p19[\"c_t\"].mean(),t06p19[\"c_t\"].mean(),t07p19[\"c_t\"].mean(),t08p19[\"c_t\"].mean(),t09p19[\"c_t\"].mean(),t1p19[\"c_t\"].mean()])\n",
    "mph19 = np.array([t01p19[\"v_densidade\"].mean(),t02p19[\"v_densidade\"].mean(),t03p19[\"v_densidade\"].mean(),t04p19[\"v_densidade\"].mean(),t05p19[\"v_densidade\"].mean(),t06p19[\"v_densidade\"].mean(),t07p19[\"v_densidade\"].mean(),t08p19[\"v_densidade\"].mean(),t09p19[\"v_densidade\"].mean(),t1p19[\"v_densidade\"].mean()])"
   ]
  },
  {
   "cell_type": "markdown",
   "id": "cf34660a",
   "metadata": {},
   "source": [
    "# Importando csv P= 2.0"
   ]
  },
  {
   "cell_type": "code",
   "execution_count": 95,
   "id": "707513c1",
   "metadata": {},
   "outputs": [],
   "source": [
    "with open('thermodynamicst0.1p2.0.dat', 'r') as file:\n",
    "    lines = [line.strip() for line in file if not line.startswith('#')]\n",
    "\n",
    "# Dividir os dados em colunas\n",
    "data = [line.split() for line in lines]\n",
    "\n",
    "# Criar um DataFrame\n",
    "t01p20 = pd.DataFrame(data, columns=['TimeStep', 'c_t', 'c_pp', 'c_en', 'v_volume', 'v_densidade'])\n",
    "# Converter as colunas relevantes para numérico, se necessário\n",
    "t01p20[['TimeStep', 'c_t', 'c_pp', 'c_en', 'v_volume', 'v_densidade']] = t01p20[['TimeStep', 'c_t', 'c_pp', 'c_en', 'v_volume', 'v_densidade']].apply(pd.to_numeric)\n"
   ]
  },
  {
   "cell_type": "code",
   "execution_count": 96,
   "id": "42f7cc48",
   "metadata": {},
   "outputs": [],
   "source": [
    "with open('thermodynamicst0.2p2.0.dat', 'r') as file:\n",
    "    lines = [line.strip() for line in file if not line.startswith('#')]\n",
    "\n",
    "# Dividir os dados em colunas\n",
    "data = [line.split() for line in lines]\n",
    "\n",
    "# Criar um DataFrame\n",
    "t02p20 = pd.DataFrame(data, columns=['TimeStep', 'c_t', 'c_pp', 'c_en', 'v_volume', 'v_densidade'])\n",
    "# Converter as colunas relevantes para numérico, se necessário\n",
    "t02p20[['TimeStep', 'c_t', 'c_pp', 'c_en', 'v_volume', 'v_densidade']] = t02p20[['TimeStep', 'c_t', 'c_pp', 'c_en', 'v_volume', 'v_densidade']].apply(pd.to_numeric)\n"
   ]
  },
  {
   "cell_type": "code",
   "execution_count": 97,
   "id": "90921572",
   "metadata": {},
   "outputs": [],
   "source": [
    "with open('thermodynamicst0.3p2.0.dat', 'r') as file:\n",
    "    lines = [line.strip() for line in file if not line.startswith('#')]\n",
    "\n",
    "# Dividir os dados em colunas\n",
    "data = [line.split() for line in lines]\n",
    "\n",
    "# Criar um DataFrame\n",
    "t03p20 = pd.DataFrame(data, columns=['TimeStep', 'c_t', 'c_pp', 'c_en', 'v_volume', 'v_densidade'])\n",
    "# Converter as colunas relevantes para numérico, se necessário\n",
    "t03p20[['TimeStep', 'c_t', 'c_pp', 'c_en', 'v_volume', 'v_densidade']] = t03p20[['TimeStep', 'c_t', 'c_pp', 'c_en', 'v_volume', 'v_densidade']].apply(pd.to_numeric)\n"
   ]
  },
  {
   "cell_type": "code",
   "execution_count": 98,
   "id": "8dba1b34",
   "metadata": {},
   "outputs": [],
   "source": [
    "with open('thermodynamicst0.4p2.0.dat', 'r') as file:\n",
    "    lines = [line.strip() for line in file if not line.startswith('#')]\n",
    "\n",
    "# Dividir os dados em colunas\n",
    "data = [line.split() for line in lines]\n",
    "\n",
    "# Criar um DataFrame\n",
    "t04p20 = pd.DataFrame(data, columns=['TimeStep', 'c_t', 'c_pp', 'c_en', 'v_volume', 'v_densidade'])\n",
    "# Converter as colunas relevantes para numérico, se necessário\n",
    "t04p20[['TimeStep', 'c_t', 'c_pp', 'c_en', 'v_volume', 'v_densidade']] = t04p20[['TimeStep', 'c_t', 'c_pp', 'c_en', 'v_volume', 'v_densidade']].apply(pd.to_numeric)\n"
   ]
  },
  {
   "cell_type": "code",
   "execution_count": 99,
   "id": "be4b2e2a",
   "metadata": {},
   "outputs": [],
   "source": [
    "with open('thermodynamicst0.5p2.0.dat', 'r') as file:\n",
    "    lines = [line.strip() for line in file if not line.startswith('#')]\n",
    "\n",
    "# Dividir os dados em colunas\n",
    "data = [line.split() for line in lines]\n",
    "\n",
    "# Criar um DataFrame\n",
    "t05p20 = pd.DataFrame(data, columns=['TimeStep', 'c_t', 'c_pp', 'c_en', 'v_volume', 'v_densidade'])\n",
    "# Converter as colunas relevantes para numérico, se necessário\n",
    "t05p20[['TimeStep', 'c_t', 'c_pp', 'c_en', 'v_volume', 'v_densidade']] = t05p20[['TimeStep', 'c_t', 'c_pp', 'c_en', 'v_volume', 'v_densidade']].apply(pd.to_numeric)\n"
   ]
  },
  {
   "cell_type": "code",
   "execution_count": 100,
   "id": "dafa0a36",
   "metadata": {},
   "outputs": [],
   "source": [
    "with open('thermodynamicst0.6p2.0.dat', 'r') as file:\n",
    "    lines = [line.strip() for line in file if not line.startswith('#')]\n",
    "\n",
    "# Dividir os dados em colunas\n",
    "data = [line.split() for line in lines]\n",
    "\n",
    "# Criar um DataFrame\n",
    "t06p20 = pd.DataFrame(data, columns=['TimeStep', 'c_t', 'c_pp', 'c_en', 'v_volume', 'v_densidade'])\n",
    "# Converter as colunas relevantes para numérico, se necessário\n",
    "t06p20[['TimeStep', 'c_t', 'c_pp', 'c_en', 'v_volume', 'v_densidade']] = t06p20[['TimeStep', 'c_t', 'c_pp', 'c_en', 'v_volume', 'v_densidade']].apply(pd.to_numeric)\n"
   ]
  },
  {
   "cell_type": "code",
   "execution_count": 101,
   "id": "cdd9f36d",
   "metadata": {},
   "outputs": [],
   "source": [
    "with open('thermodynamicst0.7p2.0.dat', 'r') as file:\n",
    "    lines = [line.strip() for line in file if not line.startswith('#')]\n",
    "\n",
    "# Dividir os dados em colunas\n",
    "data = [line.split() for line in lines]\n",
    "\n",
    "# Criar um DataFrame\n",
    "t07p20 = pd.DataFrame(data, columns=['TimeStep', 'c_t', 'c_pp', 'c_en', 'v_volume', 'v_densidade'])\n",
    "# Converter as colunas relevantes para numérico, se necessário\n",
    "t07p20[['TimeStep', 'c_t', 'c_pp', 'c_en', 'v_volume', 'v_densidade']] = t07p20[['TimeStep', 'c_t', 'c_pp', 'c_en', 'v_volume', 'v_densidade']].apply(pd.to_numeric)\n"
   ]
  },
  {
   "cell_type": "code",
   "execution_count": 102,
   "id": "4aef2e8e",
   "metadata": {},
   "outputs": [],
   "source": [
    "with open('thermodynamicst0.8p2.0.dat', 'r') as file:\n",
    "    lines = [line.strip() for line in file if not line.startswith('#')]\n",
    "\n",
    "# Dividir os dados em colunas\n",
    "data = [line.split() for line in lines]\n",
    "\n",
    "# Criar um DataFrame\n",
    "t08p20 = pd.DataFrame(data, columns=['TimeStep', 'c_t', 'c_pp', 'c_en', 'v_volume', 'v_densidade'])\n",
    "# Converter as colunas relevantes para numérico, se necessário\n",
    "t08p20[['TimeStep', 'c_t', 'c_pp', 'c_en', 'v_volume', 'v_densidade']] = t08p20[['TimeStep', 'c_t', 'c_pp', 'c_en', 'v_volume', 'v_densidade']].apply(pd.to_numeric)\n"
   ]
  },
  {
   "cell_type": "code",
   "execution_count": 103,
   "id": "408adfb7",
   "metadata": {},
   "outputs": [],
   "source": [
    "with open('thermodynamicst0.9p2.0.dat', 'r') as file:\n",
    "    lines = [line.strip() for line in file if not line.startswith('#')]\n",
    "\n",
    "# Dividir os dados em colunas\n",
    "data = [line.split() for line in lines]\n",
    "\n",
    "# Criar um DataFrame\n",
    "t09p20 = pd.DataFrame(data, columns=['TimeStep', 'c_t', 'c_pp', 'c_en', 'v_volume', 'v_densidade'])\n",
    "# Converter as colunas relevantes para numérico, se necessário\n",
    "t09p20[['TimeStep', 'c_t', 'c_pp', 'c_en', 'v_volume', 'v_densidade']] = t09p20[['TimeStep', 'c_t', 'c_pp', 'c_en', 'v_volume', 'v_densidade']].apply(pd.to_numeric)\n"
   ]
  },
  {
   "cell_type": "code",
   "execution_count": 104,
   "id": "7011f854",
   "metadata": {},
   "outputs": [],
   "source": [
    "with open('thermodynamicst1.p2.0.dat', 'r') as file:\n",
    "    lines = [line.strip() for line in file if not line.startswith('#')]\n",
    "\n",
    "# Dividir os dados em colunas\n",
    "data = [line.split() for line in lines]\n",
    "\n",
    "# Criar um DataFrame\n",
    "t1p20 = pd.DataFrame(data, columns=['TimeStep', 'c_t', 'c_pp', 'c_en', 'v_volume', 'v_densidade'])\n",
    "# Converter as colunas relevantes para numérico, se necessário\n",
    "t1p20[['TimeStep', 'c_t', 'c_pp', 'c_en', 'v_volume', 'v_densidade']] = t1p20[['TimeStep', 'c_t', 'c_pp', 'c_en', 'v_volume', 'v_densidade']].apply(pd.to_numeric)\n"
   ]
  },
  {
   "cell_type": "markdown",
   "id": "cfb2fe31",
   "metadata": {},
   "source": [
    "# Gerando os valores de media para P = 1.9"
   ]
  },
  {
   "cell_type": "code",
   "execution_count": 105,
   "id": "99033f95",
   "metadata": {},
   "outputs": [],
   "source": [
    "mt20 = np.array([t01p20[\"c_t\"].mean(),t02p20[\"c_t\"].mean(),t03p20[\"c_t\"].mean(),t04p20[\"c_t\"].mean(),t05p20[\"c_t\"].mean(),t06p20[\"c_t\"].mean(),t07p20[\"c_t\"].mean(),t08p20[\"c_t\"].mean(),t09p20[\"c_t\"].mean(),t1p20[\"c_t\"].mean()])\n",
    "mph20 = np.array([t01p20[\"v_densidade\"].mean(),t02p20[\"v_densidade\"].mean(),t03p20[\"v_densidade\"].mean(),t04p20[\"v_densidade\"].mean(),t05p20[\"v_densidade\"].mean(),t06p20[\"v_densidade\"].mean(),t07p20[\"v_densidade\"].mean(),t08p20[\"v_densidade\"].mean(),t09p20[\"v_densidade\"].mean(),t1p20[\"v_densidade\"].mean()])"
   ]
  },
  {
   "cell_type": "markdown",
   "id": "45464c3c",
   "metadata": {},
   "source": [
    "# Importando csv P= 2.1"
   ]
  },
  {
   "cell_type": "code",
   "execution_count": 106,
   "id": "e48c89c2",
   "metadata": {},
   "outputs": [],
   "source": [
    "with open('thermodynamicst0.1p2.1.dat', 'r') as file:\n",
    "    lines = [line.strip() for line in file if not line.startswith('#')]\n",
    "\n",
    "# Dividir os dados em colunas\n",
    "data = [line.split() for line in lines]\n",
    "\n",
    "# Criar um DataFrame\n",
    "t01p21 = pd.DataFrame(data, columns=['TimeStep', 'c_t', 'c_pp', 'c_en', 'v_volume', 'v_densidade'])\n",
    "# Converter as colunas relevantes para numérico, se necessário\n",
    "t01p21[['TimeStep', 'c_t', 'c_pp', 'c_en', 'v_volume', 'v_densidade']] = t01p21[['TimeStep', 'c_t', 'c_pp', 'c_en', 'v_volume', 'v_densidade']].apply(pd.to_numeric)\n"
   ]
  },
  {
   "cell_type": "code",
   "execution_count": 107,
   "id": "4a7f2271",
   "metadata": {},
   "outputs": [],
   "source": [
    "with open('thermodynamicst0.2p2.1.dat', 'r') as file:\n",
    "    lines = [line.strip() for line in file if not line.startswith('#')]\n",
    "\n",
    "# Dividir os dados em colunas\n",
    "data = [line.split() for line in lines]\n",
    "\n",
    "# Criar um DataFrame\n",
    "t02p21 = pd.DataFrame(data, columns=['TimeStep', 'c_t', 'c_pp', 'c_en', 'v_volume', 'v_densidade'])\n",
    "# Converter as colunas relevantes para numérico, se necessário\n",
    "t02p21[['TimeStep', 'c_t', 'c_pp', 'c_en', 'v_volume', 'v_densidade']] = t02p21[['TimeStep', 'c_t', 'c_pp', 'c_en', 'v_volume', 'v_densidade']].apply(pd.to_numeric)\n"
   ]
  },
  {
   "cell_type": "code",
   "execution_count": 108,
   "id": "2f0b7056",
   "metadata": {},
   "outputs": [],
   "source": [
    "with open('thermodynamicst0.3p2.1.dat', 'r') as file:\n",
    "    lines = [line.strip() for line in file if not line.startswith('#')]\n",
    "\n",
    "# Dividir os dados em colunas\n",
    "data = [line.split() for line in lines]\n",
    "\n",
    "# Criar um DataFrame\n",
    "t03p21 = pd.DataFrame(data, columns=['TimeStep', 'c_t', 'c_pp', 'c_en', 'v_volume', 'v_densidade'])\n",
    "# Converter as colunas relevantes para numérico, se necessário\n",
    "t03p21[['TimeStep', 'c_t', 'c_pp', 'c_en', 'v_volume', 'v_densidade']] = t03p21[['TimeStep', 'c_t', 'c_pp', 'c_en', 'v_volume', 'v_densidade']].apply(pd.to_numeric)\n"
   ]
  },
  {
   "cell_type": "code",
   "execution_count": 109,
   "id": "435221ea",
   "metadata": {},
   "outputs": [],
   "source": [
    "with open('thermodynamicst0.4p2.1.dat', 'r') as file:\n",
    "    lines = [line.strip() for line in file if not line.startswith('#')]\n",
    "\n",
    "# Dividir os dados em colunas\n",
    "data = [line.split() for line in lines]\n",
    "\n",
    "# Criar um DataFrame\n",
    "t04p21 = pd.DataFrame(data, columns=['TimeStep', 'c_t', 'c_pp', 'c_en', 'v_volume', 'v_densidade'])\n",
    "# Converter as colunas relevantes para numérico, se necessário\n",
    "t04p21[['TimeStep', 'c_t', 'c_pp', 'c_en', 'v_volume', 'v_densidade']] = t04p21[['TimeStep', 'c_t', 'c_pp', 'c_en', 'v_volume', 'v_densidade']].apply(pd.to_numeric)\n"
   ]
  },
  {
   "cell_type": "code",
   "execution_count": 110,
   "id": "0fc628b1",
   "metadata": {},
   "outputs": [],
   "source": [
    "with open('thermodynamicst0.5p2.1.dat', 'r') as file:\n",
    "    lines = [line.strip() for line in file if not line.startswith('#')]\n",
    "\n",
    "# Dividir os dados em colunas\n",
    "data = [line.split() for line in lines]\n",
    "\n",
    "# Criar um DataFrame\n",
    "t05p21 = pd.DataFrame(data, columns=['TimeStep', 'c_t', 'c_pp', 'c_en', 'v_volume', 'v_densidade'])\n",
    "# Converter as colunas relevantes para numérico, se necessário\n",
    "t05p21[['TimeStep', 'c_t', 'c_pp', 'c_en', 'v_volume', 'v_densidade']] = t05p21[['TimeStep', 'c_t', 'c_pp', 'c_en', 'v_volume', 'v_densidade']].apply(pd.to_numeric)\n"
   ]
  },
  {
   "cell_type": "code",
   "execution_count": 111,
   "id": "75f11468",
   "metadata": {},
   "outputs": [],
   "source": [
    "with open('thermodynamicst0.6p2.1.dat', 'r') as file:\n",
    "    lines = [line.strip() for line in file if not line.startswith('#')]\n",
    "\n",
    "# Dividir os dados em colunas\n",
    "data = [line.split() for line in lines]\n",
    "\n",
    "# Criar um DataFrame\n",
    "t06p21 = pd.DataFrame(data, columns=['TimeStep', 'c_t', 'c_pp', 'c_en', 'v_volume', 'v_densidade'])\n",
    "# Converter as colunas relevantes para numérico, se necessário\n",
    "t06p21[['TimeStep', 'c_t', 'c_pp', 'c_en', 'v_volume', 'v_densidade']] = t06p21[['TimeStep', 'c_t', 'c_pp', 'c_en', 'v_volume', 'v_densidade']].apply(pd.to_numeric)\n"
   ]
  },
  {
   "cell_type": "code",
   "execution_count": 112,
   "id": "f4fe7c32",
   "metadata": {},
   "outputs": [],
   "source": [
    "with open('thermodynamicst0.7p2.1.dat', 'r') as file:\n",
    "    lines = [line.strip() for line in file if not line.startswith('#')]\n",
    "\n",
    "# Dividir os dados em colunas\n",
    "data = [line.split() for line in lines]\n",
    "\n",
    "# Criar um DataFrame\n",
    "t07p21 = pd.DataFrame(data, columns=['TimeStep', 'c_t', 'c_pp', 'c_en', 'v_volume', 'v_densidade'])\n",
    "# Converter as colunas relevantes para numérico, se necessário\n",
    "t07p21[['TimeStep', 'c_t', 'c_pp', 'c_en', 'v_volume', 'v_densidade']] = t07p21[['TimeStep', 'c_t', 'c_pp', 'c_en', 'v_volume', 'v_densidade']].apply(pd.to_numeric)\n"
   ]
  },
  {
   "cell_type": "code",
   "execution_count": 113,
   "id": "b8d72eeb",
   "metadata": {},
   "outputs": [],
   "source": [
    "with open('thermodynamicst0.8p2.1.dat', 'r') as file:\n",
    "    lines = [line.strip() for line in file if not line.startswith('#')]\n",
    "\n",
    "# Dividir os dados em colunas\n",
    "data = [line.split() for line in lines]\n",
    "\n",
    "# Criar um DataFrame\n",
    "t08p21 = pd.DataFrame(data, columns=['TimeStep', 'c_t', 'c_pp', 'c_en', 'v_volume', 'v_densidade'])\n",
    "# Converter as colunas relevantes para numérico, se necessário\n",
    "t08p21[['TimeStep', 'c_t', 'c_pp', 'c_en', 'v_volume', 'v_densidade']] = t08p21[['TimeStep', 'c_t', 'c_pp', 'c_en', 'v_volume', 'v_densidade']].apply(pd.to_numeric)\n"
   ]
  },
  {
   "cell_type": "code",
   "execution_count": 114,
   "id": "fec913cf",
   "metadata": {},
   "outputs": [],
   "source": [
    "with open('thermodynamicst0.9p2.1.dat', 'r') as file:\n",
    "    lines = [line.strip() for line in file if not line.startswith('#')]\n",
    "\n",
    "# Dividir os dados em colunas\n",
    "data = [line.split() for line in lines]\n",
    "\n",
    "# Criar um DataFrame\n",
    "t09p21 = pd.DataFrame(data, columns=['TimeStep', 'c_t', 'c_pp', 'c_en', 'v_volume', 'v_densidade'])\n",
    "# Converter as colunas relevantes para numérico, se necessário\n",
    "t09p21[['TimeStep', 'c_t', 'c_pp', 'c_en', 'v_volume', 'v_densidade']] = t09p21[['TimeStep', 'c_t', 'c_pp', 'c_en', 'v_volume', 'v_densidade']].apply(pd.to_numeric)\n"
   ]
  },
  {
   "cell_type": "code",
   "execution_count": 115,
   "id": "0f678a77",
   "metadata": {},
   "outputs": [],
   "source": [
    "with open('thermodynamicst1.p2.1.dat', 'r') as file:\n",
    "    lines = [line.strip() for line in file if not line.startswith('#')]\n",
    "\n",
    "# Dividir os dados em colunas\n",
    "data = [line.split() for line in lines]\n",
    "\n",
    "# Criar um DataFrame\n",
    "t1p21 = pd.DataFrame(data, columns=['TimeStep', 'c_t', 'c_pp', 'c_en', 'v_volume', 'v_densidade'])\n",
    "# Converter as colunas relevantes para numérico, se necessário\n",
    "t1p21[['TimeStep', 'c_t', 'c_pp', 'c_en', 'v_volume', 'v_densidade']] = t1p21[['TimeStep', 'c_t', 'c_pp', 'c_en', 'v_volume', 'v_densidade']].apply(pd.to_numeric)\n"
   ]
  },
  {
   "cell_type": "markdown",
   "id": "8baef82e",
   "metadata": {},
   "source": [
    "# Gerando os valores de media para P = 2.1"
   ]
  },
  {
   "cell_type": "code",
   "execution_count": 116,
   "id": "36c27437",
   "metadata": {},
   "outputs": [],
   "source": [
    "mt21 = np.array([t01p21[\"c_t\"].mean(),t02p21[\"c_t\"].mean(),t03p21[\"c_t\"].mean(),t04p21[\"c_t\"].mean(),t05p21[\"c_t\"].mean(),t06p21[\"c_t\"].mean(),t07p21[\"c_t\"].mean(),t08p21[\"c_t\"].mean(),t09p21[\"c_t\"].mean(),t1p21[\"c_t\"].mean()])\n",
    "mph21 = np.array([t01p21[\"v_densidade\"].mean(),t02p21[\"v_densidade\"].mean(),t03p21[\"v_densidade\"].mean(),t04p21[\"v_densidade\"].mean(),t05p21[\"v_densidade\"].mean(),t06p21[\"v_densidade\"].mean(),t07p21[\"v_densidade\"].mean(),t08p21[\"v_densidade\"].mean(),t09p21[\"v_densidade\"].mean(),t1p21[\"v_densidade\"].mean()])"
   ]
  },
  {
   "cell_type": "markdown",
   "id": "81e96e7e",
   "metadata": {},
   "source": [
    "# Importando csv P= 2.3"
   ]
  },
  {
   "cell_type": "code",
   "execution_count": 117,
   "id": "d5bc656d",
   "metadata": {},
   "outputs": [],
   "source": [
    "with open('thermodynamicst0.1p2.3.dat', 'r') as file:\n",
    "    lines = [line.strip() for line in file if not line.startswith('#')]\n",
    "\n",
    "# Dividir os dados em colunas\n",
    "data = [line.split() for line in lines]\n",
    "\n",
    "# Criar um DataFrame\n",
    "t01p23 = pd.DataFrame(data, columns=['TimeStep', 'c_t', 'c_pp', 'c_en', 'v_volume', 'v_densidade'])\n",
    "# Converter as colunas relevantes para numérico, se necessário\n",
    "t01p23[['TimeStep', 'c_t', 'c_pp', 'c_en', 'v_volume', 'v_densidade']] = t01p23[['TimeStep', 'c_t', 'c_pp', 'c_en', 'v_volume', 'v_densidade']].apply(pd.to_numeric)\n"
   ]
  },
  {
   "cell_type": "code",
   "execution_count": 118,
   "id": "1b3c6262",
   "metadata": {},
   "outputs": [],
   "source": [
    "with open('thermodynamicst0.2p2.3.dat', 'r') as file:\n",
    "    lines = [line.strip() for line in file if not line.startswith('#')]\n",
    "\n",
    "# Dividir os dados em colunas\n",
    "data = [line.split() for line in lines]\n",
    "\n",
    "# Criar um DataFrame\n",
    "t02p23 = pd.DataFrame(data, columns=['TimeStep', 'c_t', 'c_pp', 'c_en', 'v_volume', 'v_densidade'])\n",
    "# Converter as colunas relevantes para numérico, se necessário\n",
    "t02p23[['TimeStep', 'c_t', 'c_pp', 'c_en', 'v_volume', 'v_densidade']] = t02p23[['TimeStep', 'c_t', 'c_pp', 'c_en', 'v_volume', 'v_densidade']].apply(pd.to_numeric)\n"
   ]
  },
  {
   "cell_type": "code",
   "execution_count": 119,
   "id": "fb57db9b",
   "metadata": {},
   "outputs": [],
   "source": [
    "with open('thermodynamicst0.3p2.3.dat', 'r') as file:\n",
    "    lines = [line.strip() for line in file if not line.startswith('#')]\n",
    "\n",
    "# Dividir os dados em colunas\n",
    "data = [line.split() for line in lines]\n",
    "\n",
    "# Criar um DataFrame\n",
    "t03p23 = pd.DataFrame(data, columns=['TimeStep', 'c_t', 'c_pp', 'c_en', 'v_volume', 'v_densidade'])\n",
    "# Converter as colunas relevantes para numérico, se necessário\n",
    "t03p23[['TimeStep', 'c_t', 'c_pp', 'c_en', 'v_volume', 'v_densidade']] = t03p23[['TimeStep', 'c_t', 'c_pp', 'c_en', 'v_volume', 'v_densidade']].apply(pd.to_numeric)\n"
   ]
  },
  {
   "cell_type": "code",
   "execution_count": 120,
   "id": "d60474a4",
   "metadata": {},
   "outputs": [],
   "source": [
    "with open('thermodynamicst0.4p2.3.dat', 'r') as file:\n",
    "    lines = [line.strip() for line in file if not line.startswith('#')]\n",
    "\n",
    "# Dividir os dados em colunas\n",
    "data = [line.split() for line in lines]\n",
    "\n",
    "# Criar um DataFrame\n",
    "t04p23 = pd.DataFrame(data, columns=['TimeStep', 'c_t', 'c_pp', 'c_en', 'v_volume', 'v_densidade'])\n",
    "# Converter as colunas relevantes para numérico, se necessário\n",
    "t04p23[['TimeStep', 'c_t', 'c_pp', 'c_en', 'v_volume', 'v_densidade']] = t04p23[['TimeStep', 'c_t', 'c_pp', 'c_en', 'v_volume', 'v_densidade']].apply(pd.to_numeric)\n"
   ]
  },
  {
   "cell_type": "code",
   "execution_count": 121,
   "id": "1439948b",
   "metadata": {},
   "outputs": [],
   "source": [
    "with open('thermodynamicst0.5p2.3.dat', 'r') as file:\n",
    "    lines = [line.strip() for line in file if not line.startswith('#')]\n",
    "\n",
    "# Dividir os dados em colunas\n",
    "data = [line.split() for line in lines]\n",
    "\n",
    "# Criar um DataFrame\n",
    "t05p23 = pd.DataFrame(data, columns=['TimeStep', 'c_t', 'c_pp', 'c_en', 'v_volume', 'v_densidade'])\n",
    "# Converter as colunas relevantes para numérico, se necessário\n",
    "t05p23[['TimeStep', 'c_t', 'c_pp', 'c_en', 'v_volume', 'v_densidade']] = t05p23[['TimeStep', 'c_t', 'c_pp', 'c_en', 'v_volume', 'v_densidade']].apply(pd.to_numeric)\n"
   ]
  },
  {
   "cell_type": "code",
   "execution_count": 122,
   "id": "79ea856b",
   "metadata": {},
   "outputs": [],
   "source": [
    "with open('thermodynamicst0.6p2.3.dat', 'r') as file:\n",
    "    lines = [line.strip() for line in file if not line.startswith('#')]\n",
    "\n",
    "# Dividir os dados em colunas\n",
    "data = [line.split() for line in lines]\n",
    "\n",
    "# Criar um DataFrame\n",
    "t06p23 = pd.DataFrame(data, columns=['TimeStep', 'c_t', 'c_pp', 'c_en', 'v_volume', 'v_densidade'])\n",
    "# Converter as colunas relevantes para numérico, se necessário\n",
    "t06p23[['TimeStep', 'c_t', 'c_pp', 'c_en', 'v_volume', 'v_densidade']] = t06p23[['TimeStep', 'c_t', 'c_pp', 'c_en', 'v_volume', 'v_densidade']].apply(pd.to_numeric)\n"
   ]
  },
  {
   "cell_type": "code",
   "execution_count": 123,
   "id": "f8974f3f",
   "metadata": {},
   "outputs": [],
   "source": [
    "with open('thermodynamicst0.7p2.3.dat', 'r') as file:\n",
    "    lines = [line.strip() for line in file if not line.startswith('#')]\n",
    "\n",
    "# Dividir os dados em colunas\n",
    "data = [line.split() for line in lines]\n",
    "\n",
    "# Criar um DataFrame\n",
    "t07p23 = pd.DataFrame(data, columns=['TimeStep', 'c_t', 'c_pp', 'c_en', 'v_volume', 'v_densidade'])\n",
    "# Converter as colunas relevantes para numérico, se necessário\n",
    "t07p23[['TimeStep', 'c_t', 'c_pp', 'c_en', 'v_volume', 'v_densidade']] = t07p23[['TimeStep', 'c_t', 'c_pp', 'c_en', 'v_volume', 'v_densidade']].apply(pd.to_numeric)\n"
   ]
  },
  {
   "cell_type": "code",
   "execution_count": 124,
   "id": "5c253a87",
   "metadata": {},
   "outputs": [],
   "source": [
    "with open('thermodynamicst0.8p2.3.dat', 'r') as file:\n",
    "    lines = [line.strip() for line in file if not line.startswith('#')]\n",
    "\n",
    "# Dividir os dados em colunas\n",
    "data = [line.split() for line in lines]\n",
    "\n",
    "# Criar um DataFrame\n",
    "t08p23 = pd.DataFrame(data, columns=['TimeStep', 'c_t', 'c_pp', 'c_en', 'v_volume', 'v_densidade'])\n",
    "# Converter as colunas relevantes para numérico, se necessário\n",
    "t08p23[['TimeStep', 'c_t', 'c_pp', 'c_en', 'v_volume', 'v_densidade']] = t08p23[['TimeStep', 'c_t', 'c_pp', 'c_en', 'v_volume', 'v_densidade']].apply(pd.to_numeric)\n"
   ]
  },
  {
   "cell_type": "code",
   "execution_count": 125,
   "id": "22e9bbdb",
   "metadata": {},
   "outputs": [],
   "source": [
    "with open('thermodynamicst0.9p2.3.dat', 'r') as file:\n",
    "    lines = [line.strip() for line in file if not line.startswith('#')]\n",
    "\n",
    "# Dividir os dados em colunas\n",
    "data = [line.split() for line in lines]\n",
    "\n",
    "# Criar um DataFrame\n",
    "t09p23 = pd.DataFrame(data, columns=['TimeStep', 'c_t', 'c_pp', 'c_en', 'v_volume', 'v_densidade'])\n",
    "# Converter as colunas relevantes para numérico, se necessário\n",
    "t09p23[['TimeStep', 'c_t', 'c_pp', 'c_en', 'v_volume', 'v_densidade']] = t09p23[['TimeStep', 'c_t', 'c_pp', 'c_en', 'v_volume', 'v_densidade']].apply(pd.to_numeric)\n"
   ]
  },
  {
   "cell_type": "code",
   "execution_count": 126,
   "id": "46f20a18",
   "metadata": {},
   "outputs": [],
   "source": [
    "with open('thermodynamicst1.p2.3.dat', 'r') as file:\n",
    "    lines = [line.strip() for line in file if not line.startswith('#')]\n",
    "\n",
    "# Dividir os dados em colunas\n",
    "data = [line.split() for line in lines]\n",
    "\n",
    "# Criar um DataFrame\n",
    "t1p23 = pd.DataFrame(data, columns=['TimeStep', 'c_t', 'c_pp', 'c_en', 'v_volume', 'v_densidade'])\n",
    "# Converter as colunas relevantes para numérico, se necessário\n",
    "t1p23[['TimeStep', 'c_t', 'c_pp', 'c_en', 'v_volume', 'v_densidade']] = t1p23[['TimeStep', 'c_t', 'c_pp', 'c_en', 'v_volume', 'v_densidade']].apply(pd.to_numeric)\n"
   ]
  },
  {
   "cell_type": "markdown",
   "id": "7e068055",
   "metadata": {},
   "source": [
    "# Gerando os valores de media para P = 2.3"
   ]
  },
  {
   "cell_type": "code",
   "execution_count": 127,
   "id": "cb02a0e1",
   "metadata": {},
   "outputs": [],
   "source": [
    "mt23 = np.array([t01p23[\"c_t\"].mean(),t02p23[\"c_t\"].mean(),t03p23[\"c_t\"].mean(),t04p23[\"c_t\"].mean(),t05p23[\"c_t\"].mean(),t06p23[\"c_t\"].mean(),t07p23[\"c_t\"].mean(),t08p23[\"c_t\"].mean(),t09p23[\"c_t\"].mean(),t1p23[\"c_t\"].mean()])\n",
    "mph23 = np.array([t01p23[\"v_densidade\"].mean(),t02p23[\"v_densidade\"].mean(),t03p23[\"v_densidade\"].mean(),t04p23[\"v_densidade\"].mean(),t05p23[\"v_densidade\"].mean(),t06p23[\"v_densidade\"].mean(),t07p23[\"v_densidade\"].mean(),t08p23[\"v_densidade\"].mean(),t09p23[\"v_densidade\"].mean(),t1p23[\"v_densidade\"].mean()])"
   ]
  },
  {
   "cell_type": "markdown",
   "id": "9ce93be9",
   "metadata": {},
   "source": [
    "# Criando lista de maxima densidade "
   ]
  },
  {
   "cell_type": "code",
   "execution_count": 128,
   "id": "71f45799",
   "metadata": {},
   "outputs": [],
   "source": [
    "# Crie um dicionário com as listas\n",
    "#15 pontos\n",
    "maxt11 = {'T11*': mt, 'densidade11': mph}\n",
    "maxt118 = {'T118*': mt118, 'densidade118': mph118}\n",
    "\n",
    "# Crie o DataFrame\n",
    "maxt11 = pd.DataFrame(maxt11)\n",
    "maxt118 = pd.DataFrame(maxt118)\n"
   ]
  },
  {
   "cell_type": "code",
   "execution_count": 129,
   "id": "fcbc0b54",
   "metadata": {},
   "outputs": [],
   "source": [
    "# Crie um dicionário com as listas\n",
    "#10 pontos\n",
    "maxt13 = {'T13*': mt13, 'densidade13': mph13}\n",
    "maxt15 = {'T15*': mt15, 'densidade15': mph15}\n",
    "maxt16 = {'T16*': mt16, 'densidade16': mph16}\n",
    "maxt17 = {'T17*': mt17, 'densidade17': mph17}\n",
    "maxt19 = {'T19*': mt19, 'densidade19': mph19}\n",
    "maxt20 = {'T20*': mt20, 'densidade20': mph20}\n",
    "maxt21 = {'T21*': mt21, 'densidade21': mph21}\n",
    "maxt23 = {'T23*': mt23, 'densidade23': mph23}\n",
    "# Crie o DataFrame\n",
    "\n",
    "maxt13 = pd.DataFrame(maxt13)\n",
    "maxt15 = pd.DataFrame(maxt15)\n",
    "maxt16 = pd.DataFrame(maxt16)\n",
    "maxt17 = pd.DataFrame(maxt17)\n",
    "maxt19 = pd.DataFrame(maxt19)\n",
    "maxt20 = pd.DataFrame(maxt20)\n",
    "maxt21 = pd.DataFrame(maxt21)\n",
    "maxt23 = pd.DataFrame(maxt23)\n"
   ]
  },
  {
   "cell_type": "markdown",
   "id": "b1b8dfd1",
   "metadata": {},
   "source": [
    "# Acessando valor de densidade maxima e temp associada"
   ]
  },
  {
   "cell_type": "markdown",
   "id": "51d175a9",
   "metadata": {},
   "source": [
    "## P=1.1"
   ]
  },
  {
   "cell_type": "code",
   "execution_count": 130,
   "id": "ea9561c2",
   "metadata": {},
   "outputs": [
    {
     "name": "stdout",
     "output_type": "stream",
     "text": [
      "Temperatura associada à máxima densidade: 0.073197956125\n",
      "Densidade máxima: 0.27123841600000004\n"
     ]
    }
   ],
   "source": [
    "# Encontre o índice da linha com a densidade máxima\n",
    "dmt11 = maxt11['densidade11'].idxmax()\n",
    "\n",
    "# Acesse a temperatura associada ao valor máximo de densidade\n",
    "tmt11 = maxt11.loc[dmt11, 'T11*']\n",
    "densidade_maxima = maxt11['densidade11'].max()\n",
    "\n",
    "# Exiba os resultados\n",
    "print(f\"Temperatura associada à máxima densidade: {tmt11}\")\n",
    "print(f\"Densidade máxima: {densidade_maxima}\")"
   ]
  },
  {
   "cell_type": "markdown",
   "id": "a63b13c1",
   "metadata": {},
   "source": [
    "## P=1.18"
   ]
  },
  {
   "cell_type": "code",
   "execution_count": 131,
   "id": "43099137",
   "metadata": {},
   "outputs": [
    {
     "name": "stdout",
     "output_type": "stream",
     "text": [
      "Temperatura associada à máxima densidade: 0.2675497765\n",
      "Densidade máxima: 0.27545898025\n"
     ]
    }
   ],
   "source": [
    "# Encontre o índice da linha com a densidade máxima\n",
    "dmt118 = maxt118['densidade118'].idxmax()\n",
    "\n",
    "# Acesse a temperatura associada ao valor máximo de densidade\n",
    "tmt118 = maxt118.loc[dmt11, 'T118*']\n",
    "densidade_maxima = maxt118['densidade118'].max()\n",
    "\n",
    "# Exiba os resultados\n",
    "print(f\"Temperatura associada à máxima densidade: {tmt118}\")\n",
    "print(f\"Densidade máxima: {densidade_maxima}\")\n"
   ]
  },
  {
   "cell_type": "markdown",
   "id": "acb45d17",
   "metadata": {},
   "source": [
    "## P=1.3"
   ]
  },
  {
   "cell_type": "code",
   "execution_count": 132,
   "id": "147cf94b",
   "metadata": {},
   "outputs": [
    {
     "name": "stdout",
     "output_type": "stream",
     "text": [
      "Temperatura associada à máxima densidade: 0.206000455175\n",
      "Densidade máxima: 0.285936148\n"
     ]
    }
   ],
   "source": [
    "# Encontre o índice da linha com a densidade máxima\n",
    "dmt13 = maxt13['densidade13'].idxmax()\n",
    "\n",
    "# Acesse a temperatura associada ao valor máximo de densidade\n",
    "tmt13 = maxt13.loc[dmt13, 'T13*']\n",
    "densidade_maxima = maxt13['densidade13'].max()\n",
    "\n",
    "# Exiba os resultados\n",
    "print(f\"Temperatura associada à máxima densidade: {tmt13}\")\n",
    "print(f\"Densidade máxima: {densidade_maxima}\")"
   ]
  },
  {
   "cell_type": "markdown",
   "id": "321ff38c",
   "metadata": {},
   "source": [
    "## P=1.5"
   ]
  },
  {
   "cell_type": "code",
   "execution_count": 133,
   "id": "74161692",
   "metadata": {},
   "outputs": [
    {
     "name": "stdout",
     "output_type": "stream",
     "text": [
      "Temperatura associada à máxima densidade: 0.20935718075\n",
      "Densidade máxima: 0.30264572850000004\n"
     ]
    }
   ],
   "source": [
    "# Encontre o índice da linha com a densidade máxima\n",
    "dmt15 = maxt15['densidade15'].idxmax()\n",
    "\n",
    "# Acesse a teperatura associada ao valor máximo de densidade\n",
    "tmt15 = maxt15.loc[dmt15, 'T15*']\n",
    "densidade_maxima = maxt15['densidade15'].max()\n",
    "\n",
    "# Exiba os resultados\n",
    "print(f\"Temperatura associada à máxima densidade: {tmt15}\")\n",
    "print(f\"Densidade máxima: {densidade_maxima}\")"
   ]
  },
  {
   "cell_type": "markdown",
   "id": "ae854232",
   "metadata": {},
   "source": [
    "# P=1.6"
   ]
  },
  {
   "cell_type": "code",
   "execution_count": 134,
   "id": "6e0b28bd",
   "metadata": {},
   "outputs": [
    {
     "name": "stdout",
     "output_type": "stream",
     "text": [
      "Temperatura associada à máxima densidade: 0.2110033021\n",
      "Densidade máxima: 0.31795509775\n"
     ]
    }
   ],
   "source": [
    "# Encontre o índice da linha com a densidade máxima\n",
    "dmt16 = maxt16['densidade16'].idxmax()\n",
    "\n",
    "# Acesse a teperatura associada ao valor máximo de densidade\n",
    "tmt16 = maxt16.loc[dmt16, 'T16*']\n",
    "densidade_maxima = maxt16['densidade16'].max()\n",
    "\n",
    "# Exiba os resultados\n",
    "print(f\"Temperatura associada à máxima densidade: {tmt16}\")\n",
    "print(f\"Densidade máxima: {densidade_maxima}\")\n",
    "\n"
   ]
  },
  {
   "cell_type": "markdown",
   "id": "b3ddfc5f",
   "metadata": {},
   "source": [
    "# P=1.7"
   ]
  },
  {
   "cell_type": "code",
   "execution_count": 135,
   "id": "0b9d3bd9",
   "metadata": {},
   "outputs": [
    {
     "name": "stdout",
     "output_type": "stream",
     "text": [
      "Temperatura associada à máxima densidade: 0.211864078575\n",
      "Densidade máxima: 0.32369032575000006\n"
     ]
    }
   ],
   "source": [
    "# Encontre o índice da linha com a densidade máxima\n",
    "dmt17 = maxt17['densidade17'].idxmax()\n",
    "\n",
    "# Acesse a teperatura associada ao valor máximo de densidade\n",
    "tmt17 = maxt17.loc[dmt17, 'T17*']\n",
    "densidade_maxima = maxt17['densidade17'].max()\n",
    "\n",
    "# Exiba os resultados\n",
    "print(f\"Temperatura associada à máxima densidade: {tmt17}\")\n",
    "print(f\"Densidade máxima: {densidade_maxima}\")\n",
    "\n"
   ]
  },
  {
   "cell_type": "markdown",
   "id": "c354e2c7",
   "metadata": {},
   "source": [
    "# P=1.9"
   ]
  },
  {
   "cell_type": "code",
   "execution_count": 136,
   "id": "37645330",
   "metadata": {},
   "outputs": [
    {
     "name": "stdout",
     "output_type": "stream",
     "text": [
      "Temperatura associada à máxima densidade: 0.21507147737500001\n",
      "Densidade máxima: 0.33842774600000003\n"
     ]
    }
   ],
   "source": [
    "# Encontre o índice da linha com a densidade máxima\n",
    "dmt19 = maxt19['densidade19'].idxmax()\n",
    "\n",
    "# Acesse a teperatura associada ao valor máximo de densidade\n",
    "tmt19 = maxt19.loc[dmt19, 'T19*']\n",
    "densidade_maxima = maxt19['densidade19'].max()\n",
    "\n",
    "# Exiba os resultados\n",
    "print(f\"Temperatura associada à máxima densidade: {tmt19}\")\n",
    "print(f\"Densidade máxima: {densidade_maxima}\")"
   ]
  },
  {
   "cell_type": "markdown",
   "id": "03273cad",
   "metadata": {},
   "source": [
    "# P=2.0"
   ]
  },
  {
   "cell_type": "code",
   "execution_count": 137,
   "id": "c32b2c46",
   "metadata": {},
   "outputs": [
    {
     "name": "stdout",
     "output_type": "stream",
     "text": [
      "Temperatura associada à máxima densidade: 0.216306686625\n",
      "Densidade máxima: 0.34807922125\n"
     ]
    }
   ],
   "source": [
    "# Encontre o índice da linha com a densidade máxima\n",
    "dmt20 = maxt20['densidade20'].idxmax()\n",
    "\n",
    "# Acesse a teperatura associada ao valor máximo de densidade\n",
    "tmt20 = maxt20.loc[dmt20, 'T20*']\n",
    "densidade_maxima = maxt20['densidade20'].max()\n",
    "\n",
    "# Exiba os resultados\n",
    "print(f\"Temperatura associada à máxima densidade: {tmt20}\")\n",
    "print(f\"Densidade máxima: {densidade_maxima}\")"
   ]
  },
  {
   "cell_type": "markdown",
   "id": "ea3f1beb",
   "metadata": {},
   "source": [
    "# P=2.1"
   ]
  },
  {
   "cell_type": "code",
   "execution_count": 138,
   "id": "83f5eab5",
   "metadata": {},
   "outputs": [
    {
     "name": "stdout",
     "output_type": "stream",
     "text": [
      "Temperatura associada à máxima densidade: 0.217074133975\n",
      "Densidade máxima: 0.35514914\n"
     ]
    }
   ],
   "source": [
    "# Encontre o índice da linha com a densidade máxima\n",
    "dmt21 = maxt21['densidade21'].idxmax()\n",
    "\n",
    "# Acesse a teperatura associada ao valor máximo de densidade\n",
    "tmt21 = maxt21.loc[dmt21, 'T21*']\n",
    "densidade_maxima = maxt21['densidade21'].max()\n",
    "\n",
    "# Exiba os resultados\n",
    "print(f\"Temperatura associada à máxima densidade: {tmt21}\")\n",
    "print(f\"Densidade máxima: {densidade_maxima}\")"
   ]
  },
  {
   "cell_type": "markdown",
   "id": "2bb6009b",
   "metadata": {},
   "source": [
    "# P=2.3"
   ]
  },
  {
   "cell_type": "code",
   "execution_count": 139,
   "id": "cf48cafc",
   "metadata": {},
   "outputs": [
    {
     "name": "stdout",
     "output_type": "stream",
     "text": [
      "Temperatura associada à máxima densidade: 0.21890989924999998\n",
      "Densidade máxima: 0.36819186125\n"
     ]
    }
   ],
   "source": [
    "# Encontre o índice da linha com a densidade máxima\n",
    "dmt23 = maxt23['densidade23'].idxmax()\n",
    "\n",
    "# Acesse a teperatura associada ao valor máximo de densidade\n",
    "tmt23 = maxt23.loc[dmt23, 'T23*']\n",
    "densidade_maxima = maxt23['densidade23'].max()\n",
    "\n",
    "# Exiba os resultados\n",
    "print(f\"Temperatura associada à máxima densidade: {tmt23}\")\n",
    "print(f\"Densidade máxima: {densidade_maxima}\")"
   ]
  },
  {
   "cell_type": "markdown",
   "id": "1a4428ff",
   "metadata": {},
   "source": [
    "### valores para plotar"
   ]
  },
  {
   "cell_type": "code",
   "execution_count": 143,
   "id": "2a650e77",
   "metadata": {},
   "outputs": [],
   "source": [
    "tmax = [0.073197956125,0.20394829609999998,0.206000455175,0.20935718075,0.2110033021,0.211864078575,0.21507147737500001,0.216306686625,0.217074133975,0.21890989924999998]\n",
    "phmax = [0.27123841600000004,0.27545898025,0.285936148,0.30264572850000004,0.31795509775,0.32369032575000006,0.33842774600000003,0.34807922125,0.35514914,0.36819186125]"
   ]
  },
  {
   "cell_type": "markdown",
   "id": "477f8bcc",
   "metadata": {},
   "source": [
    "# Diagrama de fases"
   ]
  },
  {
   "cell_type": "code",
   "execution_count": 145,
   "id": "e31e52c3",
   "metadata": {},
   "outputs": [
    {
     "data": {
      "image/png": "[encoded data removed]",
      "text/plain": [
       "<Figure size 700x700 with 1 Axes>"
      ]
     },
     "metadata": {},
     "output_type": "display_data"
    }
   ],
   "source": [
    "# Criar uma figura e eixo\n",
    "fig, ax = plt.subplots(figsize=(7, 7))\n",
    "\n",
    "# Gráfico de dispersão com marcadores personalizados\n",
    "ax.plot(mt, mph, 'o-', color='c', markersize=8, markeredgecolor='k')\n",
    "ax.plot(mt118, mph118, 'o-', color='c',  markersize=8, markeredgecolor='k')\n",
    "ax.plot(mt13, mph13, 'o-', color='c', markersize=8, markeredgecolor='k')\n",
    "ax.plot(mt15, mph15, 'o-', color='c',label='T05', markersize=8, markeredgecolor='k')\n",
    "ax.plot(mt16, mph16, 'o-', color='c', markersize=8, markeredgecolor='k')\n",
    "ax.plot(mt17, mph17, 'o-', color='c', markersize=8, markeredgecolor='k')\n",
    "ax.plot(mt19, mph19, 'o-', color='c', markersize=8, markeredgecolor='k')\n",
    "ax.plot(mt20, mph20, 'o-', color='c', markersize=8, markeredgecolor='k')\n",
    "ax.plot(mt21, mph21, 'o-', color='c', markersize=8, markeredgecolor='k')\n",
    "ax.plot(mt23, mph23, 'o-', color='c', markersize=8, markeredgecolor='k')\n",
    "ax.plot(tmax, phmax, 'o-', color='m', label='TMD', markersize=8, markeredgecolor='k')\n",
    "\n",
    "\n",
    "# Limites dos eixos\n",
    "#ax.set_xlim(0.9,1.1)\n",
    "#ax.set_ylim(0.21,0.21)\n",
    "#\n",
    "# Rótulos dos eixos\n",
    "ax.set_title(\"Diagrama de Fases $|\\\\rho^* \\\\times T^*|$\", fontsize=14)\n",
    "ax.set_xlabel(\"$T^*$\", fontsize=14)\n",
    "ax.set_ylabel(\"$\\\\rho*$\", fontsize=14)\n",
    "ax.xaxis.set_major_formatter(FormatStrFormatter('%.1f'))\n",
    "#ax.yaxis.set_major_formatter(FormatStrFormatter('%.1f'))\n",
    "# Legenda\n",
    "ax.legend(loc='upper right', fontsize=12)\n",
    "\n",
    "# Personalização da grade\n",
    "ax.grid(linestyle='--', alpha=0.7)\n",
    "\n",
    "# Exibição do gráfico\n",
    "plt.show()"
   ]
  },
  {
   "cell_type": "code",
   "execution_count": null,
   "id": "20ce27d7",
   "metadata": {},
   "outputs": [],
   "source": []
  },
  {
   "cell_type": "code",
   "execution_count": null,
   "id": "a726380a",
   "metadata": {},
   "outputs": [],
   "source": []
  }
 ],
 "metadata": {
  "kernelspec": {
   "display_name": "Python 3 (ipykernel)",
   "language": "python",
   "name": "python3"
  },
  "language_info": {
   "codemirror_mode": {
    "name": "ipython",
    "version": 3
   },
   "file_extension": ".py",
   "mimetype": "text/x-python",
   "name": "python",
   "nbconvert_exporter": "python",
   "pygments_lexer": "ipython3",
   "version": "3.10.13"
  }
 },
 "nbformat": 4,
 "nbformat_minor": 5
}
